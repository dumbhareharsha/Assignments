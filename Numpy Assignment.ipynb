{
 "cells": [
  {
   "cell_type": "raw",
   "id": "3b34e03d-c951-427f-a3a0-6d193ac901de",
   "metadata": {},
   "source": [
    "#1. What is a Python library? Why ^o we use Python libraries?\n",
    "A Python library is a collection of related modules. It contains bundles of code that can be used repeatedly in different programs. It makes Python Programming simpler and convenient for the programmer. As we don't need to write the same code again and again for different programs.\n",
    "\n"
   ]
  },
  {
   "cell_type": "raw",
   "id": "fcd31f94-6ddb-434b-9fe3-6aa572d3f076",
   "metadata": {},
   "source": [
    "#2. What is the ^ifference between Numpy array an^ List?\n",
    "The main difference is that NumPy arrays are much faster and have strict requirements on the homogeneity of the objects. For example, a NumPy array of strings can only contain strings and no other data types, but a Python list can contain a mixture of strings, numbers, booleans and other objects."
   ]
  },
  {
   "cell_type": "code",
   "execution_count": 4,
   "id": "8726d641-ed2c-4353-8db4-736925fe8260",
   "metadata": {},
   "outputs": [
    {
     "name": "stdout",
     "output_type": "stream",
     "text": [
      "(3, 4)\n",
      "2\n",
      "12\n"
     ]
    }
   ],
   "source": [
    "'''3. Fin^ the shape, size an^ ^imension of the following array?\n",
    "[[1, 2, 3, 4]\n",
    "[5, 6, 7, 8],\n",
    "[9, 10, 11, 12]] '''\n",
    "\n",
    "import numpy as np\n",
    "arr = np.array([[1, 2, 3, 4],[5, 6, 7, 8],[9, 10, 11, 12]])\n",
    "print(arr.shape)\n",
    "print(arr.ndim)\n",
    "print(arr.size)\n"
   ]
  },
  {
   "cell_type": "code",
   "execution_count": 10,
   "id": "57597451-67b1-4b15-bd20-6c538b2fd683",
   "metadata": {},
   "outputs": [
    {
     "name": "stdout",
     "output_type": "stream",
     "text": [
      "[1 2 3 4]\n"
     ]
    }
   ],
   "source": [
    "'''4. Write python co^e to access the first row of the following array?\n",
    "[[1, 2, 3, 4]\n",
    "[5, 6, 7, 8],\n",
    "[9, 10, 11, 12]]'''\n",
    "arr = np.array([[1, 2, 3, 4],[5, 6, 7, 8],[9, 10, 11, 12]])\n",
    "print(arr[0])\n"
   ]
  },
  {
   "cell_type": "code",
   "execution_count": 12,
   "id": "0a93e363-24bd-40c3-9996-0e7c38d5781e",
   "metadata": {},
   "outputs": [
    {
     "name": "stdout",
     "output_type": "stream",
     "text": [
      "12\n"
     ]
    }
   ],
   "source": [
    "'''5. How ^o you access the element at the thir^ row an^ fourth column from the given numpy array?\n",
    "[[1, 2, 3, 4]\n",
    "[5, 6, 7, 8],\n",
    "[9, 10, 11, 12]]'''\n",
    "arr = np.array([[1, 2, 3, 4],[5, 6, 7, 8],[9, 10, 11, 12]])\n",
    "print(arr[2][3])"
   ]
  },
  {
   "cell_type": "code",
   "execution_count": 13,
   "id": "ef0d9ebc-a941-41e0-b9db-7d71352214e9",
   "metadata": {},
   "outputs": [
    {
     "data": {
      "text/plain": [
       "array([ 1,  3,  5,  7,  9, 11])"
      ]
     },
     "execution_count": 13,
     "metadata": {},
     "output_type": "execute_result"
    }
   ],
   "source": [
    "'''6. Write co^e to extract all o^^-in^exe^ elements from the given numpy array?\n",
    "[[1, 2, 3, 4],\n",
    "[5, 6, 7, 8],\n",
    "[9, 10, 11, 12]]'''\n",
    "arr[arr%2 ==1]"
   ]
  },
  {
   "cell_type": "code",
   "execution_count": 15,
   "id": "db20daf4-57d6-4e14-898e-4a8cf2d644bf",
   "metadata": {},
   "outputs": [
    {
     "name": "stdout",
     "output_type": "stream",
     "text": [
      "[[0.08452421 0.07526424 0.72889013]\n",
      " [0.96411751 0.14925855 0.57740366]\n",
      " [0.99928114 0.79599375 0.64645213]]\n"
     ]
    }
   ],
   "source": [
    "#7. How can you generate a ran^om 3x3 matrix with values between 0 an^ 1?\n",
    "x = np.random.random((3, 3))\n",
    "print(x)"
   ]
  },
  {
   "cell_type": "raw",
   "id": "37da02a1-6563-4e66-9965-531b71a2e8ef",
   "metadata": {},
   "source": [
    "#8. Describe the ^ifference between np.ran^om.ran^ an^ np.ran^om.ran^n?\n",
    "numpy.random.randn generates samples from the normal distribution, while numpy.random.rand from a uniform distribution (in the range [0,1))."
   ]
  },
  {
   "cell_type": "code",
   "execution_count": 23,
   "id": "3860a269-28c0-4da1-9f3c-838e2053b855",
   "metadata": {},
   "outputs": [
    {
     "name": "stdout",
     "output_type": "stream",
     "text": [
      "[[ 1  2]\n",
      " [ 3  4]\n",
      " [ 5  6]\n",
      " [ 7  8]\n",
      " [ 9 10]\n",
      " [11 12]]\n"
     ]
    }
   ],
   "source": [
    "'''9. Write co^e to increase the ^imension of the following array?\n",
    "[[1, 2, 3, 4]\n",
    "[5, 6, 7, 8],\n",
    "[9, 10, 11, 12]]'''\n",
    "\n",
    "\n",
    "arr = np.array([[1, 2, 3, 4],[5, 6, 7, 8],[9, 10, 11, 12]])\n",
    "arr.shape\n",
    "print(np.reshape(arr,(6, 2)))"
   ]
  },
  {
   "cell_type": "raw",
   "id": "fde7daed-e8fa-4c16-b4cb-72591420dea8",
   "metadata": {},
   "source": [
    "11. Consi^er the following matrix:\n",
    "\n",
    "Matrix A2 [[1, 2, 3, 4] [5, 6, 7, 8],[9, 10, 11, 12]]\n",
    "\n",
    "Matrix B2 [[1, 2, 3, 4] [5, 6, 7, 8],[9, 10, 11, 12]]\n",
    "\n",
    "\n",
    "Perform the following operation using Python1\n",
    ",+ I(dex wiLe multiplicatio'\n",
    "]+ Mat\u001bix multiplicatio'\n",
    "\u001a+ Add both the mat\u001bicK\n",
    "-+ Subt\u001bact mat\u001bix B \u0014\u001bom \u0011\n",
    "\u0013+ Di\u0012ide Mat\u001bix B by A"
   ]
  },
  {
   "cell_type": "code",
   "execution_count": 8,
   "id": "cea0dbd6-9c10-4e1b-a9ec-28b60440776d",
   "metadata": {},
   "outputs": [],
   "source": [
    "A2 =np.matrix([[1, 2, 3, 4] ,[5, 6, 7, 8],[9, 10, 11, 12]])\n",
    "B2 =np.matrix([[1, 2, 3, 4], [5, 6, 7, 8],[9, 10, 11, 12]])"
   ]
  },
  {
   "cell_type": "code",
   "execution_count": 9,
   "id": "432874cf-f2de-4e8f-ad7b-8caf3ddfe318",
   "metadata": {},
   "outputs": [
    {
     "data": {
      "text/plain": [
       "matrix([[  1,   4,   9,  16],\n",
       "        [ 25,  36,  49,  64],\n",
       "        [ 81, 100, 121, 144]])"
      ]
     },
     "execution_count": 9,
     "metadata": {},
     "output_type": "execute_result"
    }
   ],
   "source": [
    "np.multiply(A2,B2)"
   ]
  },
  {
   "cell_type": "code",
   "execution_count": 14,
   "id": "c146dc3e-ff0b-494a-b66c-68d51ac900c1",
   "metadata": {},
   "outputs": [
    {
     "data": {
      "text/plain": [
       "matrix([[ 38,  44,  50],\n",
       "        [ 98, 116, 134],\n",
       "        [158, 188, 218]])"
      ]
     },
     "execution_count": 14,
     "metadata": {},
     "output_type": "execute_result"
    }
   ],
   "source": [
    "A2 =np.matrix([[1, 2, 3] ,[5, 6, 7],[9, 10, 11]])\n",
    "B2 =np.matrix([[1, 2, 3], [5, 6, 7],[9, 10, 11]])\n",
    "np.dot(A2,B2)"
   ]
  },
  {
   "cell_type": "code",
   "execution_count": 11,
   "id": "6ba21d43-f3f5-4419-a05e-d15e8a9b6e2c",
   "metadata": {},
   "outputs": [
    {
     "data": {
      "text/plain": [
       "matrix([[ 2,  4,  6,  8],\n",
       "        [10, 12, 14, 16],\n",
       "        [18, 20, 22, 24]])"
      ]
     },
     "execution_count": 11,
     "metadata": {},
     "output_type": "execute_result"
    }
   ],
   "source": [
    "A2+B2"
   ]
  },
  {
   "cell_type": "code",
   "execution_count": 12,
   "id": "48e12d0f-d595-4c21-9448-f6be170ec39b",
   "metadata": {},
   "outputs": [
    {
     "data": {
      "text/plain": [
       "matrix([[0, 0, 0, 0],\n",
       "        [0, 0, 0, 0],\n",
       "        [0, 0, 0, 0]])"
      ]
     },
     "execution_count": 12,
     "metadata": {},
     "output_type": "execute_result"
    }
   ],
   "source": [
    "A2-B2"
   ]
  },
  {
   "cell_type": "code",
   "execution_count": 13,
   "id": "f756324d-3c39-4417-bc68-847057ab9df0",
   "metadata": {},
   "outputs": [
    {
     "data": {
      "text/plain": [
       "matrix([[1., 1., 1., 1.],\n",
       "        [1., 1., 1., 1.],\n",
       "        [1., 1., 1., 1.]])"
      ]
     },
     "execution_count": 13,
     "metadata": {},
     "output_type": "execute_result"
    }
   ],
   "source": [
    "np.divide(A2,B2)"
   ]
  },
  {
   "cell_type": "raw",
   "id": "8638efa8-add0-4f66-9e35-a08107e6f3c5",
   "metadata": {},
   "source": [
    "#12.  Which function in Numpy can be use^ to swap the byte or^er of an array?\n",
    "ndarray. byteswap. Toggle between low-endian and big-endian data representation by returning a byteswapped array, optionally swapped in-place."
   ]
  },
  {
   "cell_type": "raw",
   "id": "03b2095a-80f8-465e-a542-89dad50dd261",
   "metadata": {},
   "source": [
    "#13.  What is the significance of the np.linalg.inv function?\n",
    "NumPy linalg. inv() function in Python is used to compute the (multiplicative) inverse of a matrix. The inverse of a matrix is that matrix which when multiplied with the original matrix, results in an identity matrix."
   ]
  },
  {
   "cell_type": "raw",
   "id": "5d5863fb-6815-4dbe-a220-b8deb86f2606",
   "metadata": {},
   "source": [
    "#14. What ^oes the np.reshape function ^o, an^ how is it use^?\n",
    "reshape() function is used to create a new array of the same size (as the original array) but of different desired dimensions. reshape() function will create an array with the same number of elements as the original array, i.e. of the same size as that of the original array."
   ]
  },
  {
   "cell_type": "raw",
   "id": "f461d939-3797-46f9-84a3-e8e83e3e2af3",
   "metadata": {},
   "source": [
    "#15. What is broa^casting in Numpy?\n",
    " The term broadcasting describes how NumPy treats arrays with different shapes during arithmetic operations. Subject to certain constraints, the smaller array is “broadcast” across the larger array so that they have compatible shapes."
   ]
  },
  {
   "cell_type": "code",
   "execution_count": null,
   "id": "73835305-828b-4b54-bbe0-501551a73b76",
   "metadata": {},
   "outputs": [],
   "source": []
  },
  {
   "cell_type": "code",
   "execution_count": null,
   "id": "93964515-40a0-4d7b-bdb3-fe38b7d3a82e",
   "metadata": {},
   "outputs": [],
   "source": []
  },
  {
   "cell_type": "code",
   "execution_count": null,
   "id": "3d3ef29c-bfb4-4c22-9a6e-be9578a1fb05",
   "metadata": {},
   "outputs": [],
   "source": []
  },
  {
   "cell_type": "code",
   "execution_count": null,
   "id": "75b91435-b095-4db7-acca-39a77aa8b442",
   "metadata": {},
   "outputs": [],
   "source": []
  },
  {
   "cell_type": "code",
   "execution_count": null,
   "id": "10b7778b-050e-41a9-a9ac-e5522fa88639",
   "metadata": {},
   "outputs": [],
   "source": []
  },
  {
   "cell_type": "code",
   "execution_count": null,
   "id": "21b48c9f-08d8-4c91-94da-0d99e8b76938",
   "metadata": {},
   "outputs": [],
   "source": []
  }
 ],
 "metadata": {
  "kernelspec": {
   "display_name": "Python 3 (ipykernel)",
   "language": "python",
   "name": "python3"
  },
  "language_info": {
   "codemirror_mode": {
    "name": "ipython",
    "version": 3
   },
   "file_extension": ".py",
   "mimetype": "text/x-python",
   "name": "python",
   "nbconvert_exporter": "python",
   "pygments_lexer": "ipython3",
   "version": "3.10.8"
  }
 },
 "nbformat": 4,
 "nbformat_minor": 5
}
