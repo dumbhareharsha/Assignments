{
  "nbformat": 4,
  "nbformat_minor": 0,
  "metadata": {
    "colab": {
      "provenance": []
    },
    "kernelspec": {
      "name": "python3",
      "display_name": "Python 3"
    },
    "language_info": {
      "name": "python"
    }
  },
  "cells": [
    {
      "cell_type": "code",
      "execution_count": null,
      "metadata": {
        "id": "dUkhc8IhLTGN"
      },
      "outputs": [],
      "source": [
        "#Q.1 Can you explain the logic and working of the Tower of Hanoi algorithm by writing a Java program?\n",
        "#How does the recursion work, and how are the movements of disks between rods accomplished?\n",
        "\n",
        "Tower of Hanoi is a mathematical puzzle where we have three rods (A, B, and C) and N disks. Initially, all the disks are stacked in decreasing value of diameter i.e., the smallest disk is placed on the top and they are on rod A. The objective of the puzzle is to move the entire stack to another rod (here considered C), obeying the following simple rules:\n",
        "\n",
        "Only one disk can be moved at a time.\n",
        "Each move consists of taking the upper disk from one of the stacks and placing it on top of another stack i.e. a disk can only be moved if it is the uppermost disk on a stack.\n",
        "No disk may be placed on top of a smaller disk.\n",
        "\n",
        "Tower of Hanoi using Recursion:\n",
        " The idea is to use the helper node to reach the destination using recursion. Below is the pattern for this problem:\n",
        "\n",
        "Shift ‘N-1’ disks from ‘A’ to ‘B’, using C.\n",
        "Shift last disk from ‘A’ to ‘C’.\n",
        "Shift ‘N-1’ disks from ‘B’ to ‘C’, using A.\n",
        "\n"
      ]
    },
    {
      "cell_type": "code",
      "source": [
        "def TowerOfHanoi(n, from_rod, to_rod, aux_rod):\n",
        "    if n == 0:\n",
        "        return\n",
        "    TowerOfHanoi(n-1, from_rod, aux_rod, to_rod)\n",
        "    print(\"Move disk\", n, \"from rod\", from_rod, \"to rod\", to_rod)\n",
        "    TowerOfHanoi(n-1, aux_rod, to_rod, from_rod)\n",
        "\n",
        "\n",
        "# Driver code\n",
        "N = 3\n",
        "\n",
        "# A, C, B are the name of rods\n",
        "TowerOfHanoi(N, 'A', 'C', 'B')"
      ],
      "metadata": {
        "colab": {
          "base_uri": "https://localhost:8080/"
        },
        "id": "f0hkWyUPNpVu",
        "outputId": "129119c6-7d8f-4c83-b780-87508e135202"
      },
      "execution_count": 1,
      "outputs": [
        {
          "output_type": "stream",
          "name": "stdout",
          "text": [
            "Move disk 1 from rod A to rod C\n",
            "Move disk 2 from rod A to rod B\n",
            "Move disk 1 from rod C to rod B\n",
            "Move disk 3 from rod A to rod C\n",
            "Move disk 1 from rod B to rod A\n",
            "Move disk 2 from rod B to rod C\n",
            "Move disk 1 from rod A to rod C\n"
          ]
        }
      ]
    },
    {
      "cell_type": "code",
      "source": [
        "#Q. 3 Print the max value of the array [ 13, 1, -3, 22, 5].\n",
        "def findMaxRec(A, n):\n",
        "\n",
        "    # if n = 0 means whole array\n",
        "    # has been traversed\n",
        "    if (n == 1):\n",
        "        return A[0]\n",
        "    return max(A[n - 1], findMaxRec(A, n - 1))\n",
        "\n",
        "#dirver code\n",
        "A = [ 13, 1, -3, 22, 5]\n",
        "n = len(A)\n",
        "findMaxRec(A, n)\n"
      ],
      "metadata": {
        "colab": {
          "base_uri": "https://localhost:8080/"
        },
        "id": "Rciw40qjNpoQ",
        "outputId": "88f1ba47-942b-4c8e-e3f1-973f89d25ecf"
      },
      "execution_count": 2,
      "outputs": [
        {
          "output_type": "execute_result",
          "data": {
            "text/plain": [
              "22"
            ]
          },
          "metadata": {},
          "execution_count": 2
        }
      ]
    },
    {
      "cell_type": "code",
      "source": [
        "#Q.4 Find the sum of the values of the array [92, 23, 15, -20, 10].\n",
        "def Rec_findSum(arr, N):\n",
        "    if N <= 0:\n",
        "        return 0\n",
        "    else:\n",
        "        return Rec_findSum(arr, N - 1) + arr[N - 1]\n",
        "\n",
        "#driver code\n",
        "arr = [92, 23, 15, -20, 10]\n",
        "N =len(arr)\n",
        "Rec_findSum(A,N)"
      ],
      "metadata": {
        "colab": {
          "base_uri": "https://localhost:8080/"
        },
        "id": "2-QknY8nNprT",
        "outputId": "81a0566f-75f4-431d-e58a-0ef5e0361631"
      },
      "execution_count": 4,
      "outputs": [
        {
          "output_type": "execute_result",
          "data": {
            "text/plain": [
              "120"
            ]
          },
          "metadata": {},
          "execution_count": 4
        }
      ]
    },
    {
      "cell_type": "code",
      "source": [
        "#Q.5 Given a number n. Print if it is an armstrong number or not.An armstrong number is a number if the sum\n",
        "#of every digit in that number raised to the power of total digits in that number is equal to the number.\n",
        "\n",
        "def count_digits(n):\n",
        "    if n == 0:\n",
        "        return 0\n",
        "    return 1 + count_digits(n // 10)\n",
        "\n",
        "def is_armstrong(n, digit_count):\n",
        "    if n == 0:\n",
        "        return 0\n",
        "    return ((n % 10) ** digit_count) + is_armstrong(n // 10, digit_count)\n",
        "\n",
        "def check_armstrong(n):\n",
        "    digit_count = count_digits(n)\n",
        "    return n == is_armstrong(n, digit_count)\n",
        "\n",
        "number = int(input(\"Enter a number: \"))\n",
        "print(check_armstrong(number))\n"
      ],
      "metadata": {
        "colab": {
          "base_uri": "https://localhost:8080/"
        },
        "id": "jwbGGu1lNpxV",
        "outputId": "a1decc9c-478d-4030-d646-64eebbd74ce9"
      },
      "execution_count": 5,
      "outputs": [
        {
          "output_type": "stream",
          "name": "stdout",
          "text": [
            "Enter a number: 153\n",
            "True\n"
          ]
        }
      ]
    },
    {
      "cell_type": "code",
      "source": [],
      "metadata": {
        "id": "zkp_9QMJNpzZ"
      },
      "execution_count": null,
      "outputs": []
    },
    {
      "cell_type": "code",
      "source": [],
      "metadata": {
        "id": "XdaLm_D5Np3Q"
      },
      "execution_count": null,
      "outputs": []
    },
    {
      "cell_type": "markdown",
      "source": [],
      "metadata": {
        "id": "zoWeoDfDLtjI"
      }
    },
    {
      "cell_type": "markdown",
      "source": [],
      "metadata": {
        "id": "D8WCKZ7tLoBv"
      }
    },
    {
      "cell_type": "markdown",
      "source": [],
      "metadata": {
        "id": "Xw17UPxmLnNg"
      }
    }
  ]
}