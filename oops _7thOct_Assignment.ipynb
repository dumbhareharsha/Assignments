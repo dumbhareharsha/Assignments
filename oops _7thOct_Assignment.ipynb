{
 "cells": [
  {
   "cell_type": "raw",
   "id": "623ad2fe-e310-4e2b-8823-59944a52e0da",
   "metadata": {},
   "source": [
    "#Problem 1: Bank Account Create a class representing a bank account with attributes like account number, account holder name,\n",
    "#and balance. Implement methods to deposit and withdraw money from the account."
   ]
  },
  {
   "cell_type": "code",
   "execution_count": 4,
   "id": "935f4ad7-f987-41b5-8364-a5c1558322c6",
   "metadata": {},
   "outputs": [],
   "source": [
    "class bank:\n",
    "    \n",
    "    def bank_account(self,account_no,name,balance):\n",
    "        print(name, \" Welcome to the bank\")\n",
    "    \n",
    "    def deposit(self,amount):\n",
    "        print(\"You have deposited \",amount)\n",
    "    \n",
    "    def withdraw(self,amount):\n",
    "        print(\"You have withdraw \",amount)\n",
    "        "
   ]
  },
  {
   "cell_type": "code",
   "execution_count": 5,
   "id": "5042b49a-b907-41b3-ba06-aaab99edad06",
   "metadata": {},
   "outputs": [],
   "source": [
    "harsha =bank()"
   ]
  },
  {
   "cell_type": "code",
   "execution_count": 6,
   "id": "56614d97-4a86-4e7c-bf1e-878e3a1ac3a0",
   "metadata": {},
   "outputs": [
    {
     "name": "stdout",
     "output_type": "stream",
     "text": [
      "Harshada  Welcome to the bank\n"
     ]
    }
   ],
   "source": [
    "harsha.bank_account(\"123456\",\"Harshada\",500000)"
   ]
  },
  {
   "cell_type": "raw",
   "id": "b5e71ccf-9d09-4aa4-9d0e-410e620b1cc0",
   "metadata": {},
   "source": [
    "Problem 2: Employee Management Create a class representing an employee with attributes like employee ID, name, and salary. Implement methods to calculate the yearly bonus and display employee details."
   ]
  },
  {
   "cell_type": "code",
   "execution_count": 22,
   "id": "f3c70a32-8e03-434c-b6c5-24db369ea793",
   "metadata": {},
   "outputs": [],
   "source": [
    "class employee:\n",
    "    def __init__(self,emp_id, name,salary):\n",
    "        self.emp_id = emp_id\n",
    "        self.name = name\n",
    "        self.salary = salary\n",
    "            \n",
    "    def bonus(self):\n",
    "        print(\"Hi\")\n",
    "        print(\"Employee id : \",self.emp_id)\n",
    "        print(\"Employee name : \",self.name)\n",
    "        \n",
    "        try:\n",
    "            y= int(input(\"Enter your year of service\"))\n",
    "            if y>5:\n",
    "                print(\"Bonus is: \",0.05*self.salary)\n",
    "            else:\n",
    "                print(\"No Bonus.\")\n",
    "        except Exception as e:\n",
    "            print(e)\n",
    "        finally:\n",
    "            print(\"Thank you\")\n",
    "            "
   ]
  },
  {
   "cell_type": "code",
   "execution_count": 23,
   "id": "c8505516-99dc-4d5c-9bd9-95a57ad4d7e0",
   "metadata": {},
   "outputs": [],
   "source": [
    "p =employee(\"123456\",\"Harshada\",50000)"
   ]
  },
  {
   "cell_type": "code",
   "execution_count": 27,
   "id": "ab0ed979-2d33-4816-8a5f-57ff3cd9520c",
   "metadata": {},
   "outputs": [
    {
     "name": "stdout",
     "output_type": "stream",
     "text": [
      "Hi\n",
      "Employee id :  123456\n",
      "Employee name :  Harshada\n"
     ]
    },
    {
     "name": "stdin",
     "output_type": "stream",
     "text": [
      "Enter your year of service 6\n"
     ]
    },
    {
     "name": "stdout",
     "output_type": "stream",
     "text": [
      "Bonus is:  2500.0\n",
      "Thank you\n"
     ]
    }
   ],
   "source": [
    "p.bonus()"
   ]
  },
  {
   "cell_type": "raw",
   "id": "3c520c79-8522-4062-bb22-8b61040c887d",
   "metadata": {},
   "source": [
    "Problem 3: Vehicle Rental Create a class representing a vehicle rental system. Implement methods to rent a vehicle, return a vehicle, and display available vehicles."
   ]
  },
  {
   "cell_type": "code",
   "execution_count": 44,
   "id": "27d74636-1179-4a74-a562-42c44007cdef",
   "metadata": {},
   "outputs": [],
   "source": [
    "class vehicle_rent:\n",
    "    \n",
    "    \n",
    "    \n",
    "    def vehicle(self):\n",
    "        vehicle_list =[\"car\",\"taxi\",\"amulance\",\"bike\"]\n",
    "        try:\n",
    "            print(vehicle_list)\n",
    "            v=input(\"Enter the Vecicle you want choose from above list: \")\n",
    "            if v in vehicle_list:\n",
    "                print(\"vehicle available.\")\n",
    "            else:\n",
    "                print(\"vechicle not available\")\n",
    "        except Exception as e:\n",
    "            print(e)\n",
    "        else:\n",
    "            return \"You have selected \"+v\n",
    "        finally:\n",
    "            print(\"Thank you for visiting us.\")"
   ]
  },
  {
   "cell_type": "code",
   "execution_count": 45,
   "id": "b0a474c9-e1cf-45fe-99aa-e6225400b15b",
   "metadata": {},
   "outputs": [],
   "source": [
    "v = vehicle_rent()"
   ]
  },
  {
   "cell_type": "code",
   "execution_count": 46,
   "id": "558068d6-68b2-48c7-9bdf-7083bf44bb2e",
   "metadata": {},
   "outputs": [
    {
     "name": "stdout",
     "output_type": "stream",
     "text": [
      "['car', 'taxi', 'amulance', 'bike']\n"
     ]
    },
    {
     "name": "stdin",
     "output_type": "stream",
     "text": [
      "Enter the Vecicle you want choose from above list:  bike\n"
     ]
    },
    {
     "name": "stdout",
     "output_type": "stream",
     "text": [
      "vehicle available.\n",
      "Thank you for visiting us.\n"
     ]
    },
    {
     "data": {
      "text/plain": [
       "'You have selected bike'"
      ]
     },
     "execution_count": 46,
     "metadata": {},
     "output_type": "execute_result"
    }
   ],
   "source": [
    "v.vehicle()"
   ]
  },
  {
   "cell_type": "raw",
   "id": "ce13c828-b41c-42bd-b8b1-1f488b839cc0",
   "metadata": {},
   "source": [
    "Problem 4: Library Catalog Create classes representing a library and a book. Implement methods to add books to the library, borrow books, and display available books."
   ]
  },
  {
   "cell_type": "code",
   "execution_count": 4,
   "id": "1b83a6ec-0c92-401e-b8c3-26df7b9a75be",
   "metadata": {},
   "outputs": [],
   "source": [
    "class library:\n",
    "    def Library_name(self, library_name):\n",
    "        print(\"Welcome to the \",library_name, \" library\")\n",
    "    \n",
    "    \n",
    "class book(library):    \n",
    "    def __init__(self):\n",
    "        self._books=[]\n",
    "        \n",
    "    def add_book(self,new_book):\n",
    "        self._books.append(new_book)\n",
    "        \n",
    "    def borrowow_book(self,requested_book):\n",
    "        if requested_book in self._books:\n",
    "            print(\"You have requested for: \"+requested_book+ \" book\")\n",
    "            self._books.remove()\n",
    "        \n",
    "    def display_books(self):\n",
    "        if self._books:\n",
    "            print(\"Available books in the library are: \")\n",
    "            for book in self._books:\n",
    "                print(book)\n",
    "        else:\n",
    "            print(\"No book available now\")\n",
    "    \n",
    "    \n",
    "    "
   ]
  },
  {
   "cell_type": "code",
   "execution_count": 6,
   "id": "61419a86-1cb1-4f06-bc7e-4edf3e187433",
   "metadata": {},
   "outputs": [],
   "source": [
    "com =library()"
   ]
  },
  {
   "cell_type": "code",
   "execution_count": 9,
   "id": "6f1658fa-decd-4432-a305-3166be0cc191",
   "metadata": {},
   "outputs": [],
   "source": [
    "c=book()"
   ]
  },
  {
   "cell_type": "code",
   "execution_count": 11,
   "id": "486d8a52-5945-4074-a5be-c0af9be4630d",
   "metadata": {},
   "outputs": [],
   "source": [
    "c.add_book(\"c++\")"
   ]
  },
  {
   "cell_type": "code",
   "execution_count": 12,
   "id": "5af416d0-d3a3-412a-9ae1-988ea527b2ff",
   "metadata": {},
   "outputs": [],
   "source": [
    "c.add_book(\"JAVA\")\n",
    "c.add_book(\"C#\")"
   ]
  },
  {
   "cell_type": "code",
   "execution_count": 14,
   "id": "581cd614-b8ab-4882-8e5d-1139182a9715",
   "metadata": {},
   "outputs": [
    {
     "name": "stdout",
     "output_type": "stream",
     "text": [
      "Available books in the library are: \n",
      "c++\n",
      "JAVA\n",
      "C#\n"
     ]
    }
   ],
   "source": [
    "c.display_books()"
   ]
  },
  {
   "cell_type": "code",
   "execution_count": 16,
   "id": "c30b4a99-fc5d-408a-93f5-1aa515a4dac8",
   "metadata": {},
   "outputs": [
    {
     "name": "stdout",
     "output_type": "stream",
     "text": [
      "Welcome to the  Computer\n"
     ]
    }
   ],
   "source": [
    "c.Library_name(\"Computer\")"
   ]
  },
  {
   "cell_type": "raw",
   "id": "44acb5f3-aa57-45de-9e0d-c30ac329ff57",
   "metadata": {},
   "source": [
    "Problem 5: Product Inventory Create classes representing a product and an inventory system. Implement methods to add products to the inventory, update product quantity, and display available products."
   ]
  },
  {
   "cell_type": "code",
   "execution_count": 40,
   "id": "f8f2367a-59cd-48ec-8ea8-680224801baa",
   "metadata": {},
   "outputs": [],
   "source": [
    "class Inventory:\n",
    "    def __init__(self):\n",
    "        self._inventory ={}\n",
    "        \n",
    "class product(inventory):\n",
    "    def add_item(self,item_id,item_name,stock_count,price):\n",
    "        self._inventory[item_id]={\"item_name\":item_name,\"stock_count\":stock_count,\"price\":price}\n",
    "    \n",
    "    def update_item(self,item_id,stock_count,price):\n",
    "        if item_id in self._inventory:\n",
    "            self._inventory[item_id][\"stock_count\"] = stock_count\n",
    "            self._inventory[item_id][\"price\"] = price\n",
    "        else:\n",
    "            print(\"Item you are searching for is not available\")\n",
    "    def display_item(self):\n",
    "        try:\n",
    "            if self._inventory:\n",
    "                for item_id in self._inventory:\n",
    "                    item = self._inventory[item_id]\n",
    "                    print(f\"Product Name: {item['item_name']}, Stock Count: {item['stock_count']}, Price: {item['price']}\")\n",
    "            else:\n",
    "                print(\"Data not available.\")\n",
    "        except Exception as e:\n",
    "            print( e)\n",
    "        finally:\n",
    "            print(\"--------------------------------------------------------------------------------------------------\")\n",
    "\n",
    "        \n",
    "        \n",
    "    \n"
   ]
  },
  {
   "cell_type": "code",
   "execution_count": 41,
   "id": "fa6e1e45-b5de-42ce-9441-f80a3d5e06f7",
   "metadata": {},
   "outputs": [
    {
     "name": "stdout",
     "output_type": "stream",
     "text": [
      "Product Name: laptop, Stock Count: 100, Price: 50000\n",
      "Product Name: mobile, Stock Count: 50, Price: 25000\n",
      "Product Name: desktop, Stock Count: 75, Price: 33000\n",
      "Product Name: Tablet, Stock Count: 100, Price: 50000\n",
      "Product Name: LCD, Stock Count: 150, Price: 70000\n",
      "--------------------------------------------------------------------------------------------------\n",
      "Product Name: laptop, Stock Count: 200, Price: 35000\n",
      "Product Name: mobile, Stock Count: 50, Price: 25000\n",
      "Product Name: desktop, Stock Count: 75, Price: 33000\n",
      "Product Name: Tablet, Stock Count: 100, Price: 50000\n",
      "Product Name: LCD, Stock Count: 150, Price: 70000\n",
      "--------------------------------------------------------------------------------------------------\n"
     ]
    }
   ],
   "source": [
    "i =Inventory()\n",
    "p = product()\n",
    "p.add_item(\"i001\",\"laptop\",100,50000)\n",
    "p.add_item(\"i002\",\"mobile\",50,25000)\n",
    "p.add_item(\"i003\",\"desktop\",75,33000)\n",
    "p.add_item(\"i004\",\"Tablet\",100,50000)\n",
    "p.add_item(\"i005\",\"LCD\",150,70000)\n",
    "\n",
    "p.display_item()\n",
    "\n",
    "p.update_item(\"i001\", 200,35000)\n",
    "\n",
    "p.display_item()\n",
    "\n"
   ]
  },
  {
   "cell_type": "raw",
   "id": "53157296-35f8-4751-acd5-e8abeaab9e0a",
   "metadata": {},
   "source": [
    "Problem 6: Shape Calculation Create a class representing a shape with attributes like length, width, and height. Implement methods to calculate the area and perimeter of the shape."
   ]
  },
  {
   "cell_type": "code",
   "execution_count": 62,
   "id": "0b7958b7-5838-45d3-af3b-361e1a68f8ad",
   "metadata": {},
   "outputs": [],
   "source": [
    "import math\n",
    "class shape:\n",
    "    def calculate_area(self):\n",
    "        pass\n",
    "    def calculate_perimeter(self):\n",
    "        pass\n",
    "\n",
    "class square(shape):\n",
    "    def __init__(self,side):\n",
    "        self.side = side\n",
    "    def calculate_perimeter(self):\n",
    "        print(\"Perimeter of square: \" , self.side*4)\n",
    "    def calculate_area(self):\n",
    "        print(\"Area of square: \" , self.side*self.side)\n",
    "\n",
    "class rectangle(shape):\n",
    "    def __init__(self,length,width):\n",
    "        self.length = length\n",
    "        self.width = width\n",
    "    def calculate_perimeter(self):\n",
    "        print(\"Perimeter of rectangle: \",self.length*2 +self.width*2)\n",
    "    def calculate_area(self):\n",
    "        print( \"Area of rectangle: \",self.length*self.width)\n",
    "    \n",
    "class triangle(shape):\n",
    "    def __init__(self,base,height,side1,side2,side3):\n",
    "        self.base = base\n",
    "        self.height= height\n",
    "        self.side1 = side1\n",
    "        self.side2 = side2\n",
    "        self.side3 = side3\n",
    "    def calculate_perimeter(self):\n",
    "        print(\"Perimeter of triangle: \",(self.side1+self.side2+self.side3))\n",
    "    def calculate_area(self):\n",
    "        print(\"Are of Triangle: \",(0.5*self.base*self.height))\n"
   ]
  },
  {
   "cell_type": "code",
   "execution_count": 63,
   "id": "c282fc6e-8a0f-4e25-bdef-236764ea2272",
   "metadata": {},
   "outputs": [
    {
     "name": "stdout",
     "output_type": "stream",
     "text": [
      "Perimeter of square:  16\n",
      "Area of square:  16\n",
      "Perimeter of rectangle:  22\n",
      "Area of rectangle:  30\n",
      "Perimeter of triangle:  24\n",
      "Are of Triangle:  10.0\n"
     ]
    }
   ],
   "source": [
    "sh =shape()\n",
    "s =square(4)\n",
    "s.calculate_perimeter()\n",
    "s.calculate_area()\n",
    "r =rectangle(5,6)\n",
    "r.calculate_perimeter()\n",
    "r.calculate_area()\n",
    "t =triangle(4,5,8,8,8)\n",
    "t.calculate_perimeter()\n",
    "t.calculate_area()\n",
    "\n",
    "\n"
   ]
  },
  {
   "cell_type": "raw",
   "id": "905db872-8b71-4a8a-ba6b-92171303494c",
   "metadata": {},
   "source": [
    "Problem 7: Student Management Create a class representing a student with attributes like student ID, name, and grades. Implement methods to calculate the average grade and display student details.\n",
    "\n"
   ]
  },
  {
   "cell_type": "code",
   "execution_count": 1,
   "id": "f384785a-1182-46d1-844c-c0cd2b49d9c2",
   "metadata": {},
   "outputs": [],
   "source": [
    "class student:\n",
    "    def __init__(self,id,name,percent):\n",
    "        self.id = id\n",
    "        self.name = name\n",
    "        self.percent = percent\n",
    "    def grade(self):\n",
    "        if self.percent > 90 and self.percent <100:\n",
    "            print(\"Your grade is A\")\n",
    "        elif self.percent >80:\n",
    "            print(\"Your grade is B\")\n",
    "        elif self.percent >70:\n",
    "            print(\"Your grade is C\")\n",
    "        elif self.percent <70:\n",
    "            print(\"Your grade is D\")\n",
    "        else:\n",
    "            print(\"Invalid no\")\n",
    "    "
   ]
  },
  {
   "cell_type": "code",
   "execution_count": 2,
   "id": "6a72aa72-1ec1-4726-9244-d381298e66ee",
   "metadata": {},
   "outputs": [
    {
     "name": "stdout",
     "output_type": "stream",
     "text": [
      "Your grade is c\n"
     ]
    }
   ],
   "source": [
    "s =student(23,\"Harshada\",80)\n",
    "s.grade()"
   ]
  },
  {
   "cell_type": "raw",
   "id": "be67d0b6-73b7-4295-984e-9cca7dfcba51",
   "metadata": {},
   "source": [
    "Problem 8: Email Management Create a class representing an email with attributes like sender, recipient, and subject. Implement methods to send an email and display email details.\n"
   ]
  },
  {
   "cell_type": "code",
   "execution_count": 8,
   "id": "815bc7ed-9510-4922-8d2c-dcef78ed5449",
   "metadata": {},
   "outputs": [],
   "source": [
    "import smtplib, ssl\n",
    "class email:\n",
    "    def __init__(self,sender,recipient,subject):\n",
    "        self.sender = sender\n",
    "        self.recipient = recipient\n",
    "        self.subject =subject\n",
    "        \n",
    "    def send_email(self):\n",
    "        port = 465  # For SSL\n",
    "        smtp_server = \"smtp.gmail.com\"\n",
    "        #sender_email = \"my@gmail.com\"  # Enter your address\n",
    "        #receiver_email = \"your@gmail.com\"  # Enter receiver address\n",
    "        password = input(\"Type your password and press enter: \")\n",
    "        message = \"\"\"\\\n",
    "        Subject: Hi there\n",
    "\n",
    "        This message is sent from Python.\"\"\"\n",
    "\n",
    "        context = ssl.create_default_context()\n",
    "        with smtplib.SMTP_SSL(smtp_server, port, context=context) as server:\n",
    "            server.login(self.sender, password)\n",
    "            server.sendmail(self.sender, self.recipient, message)\n",
    "        \n",
    "    def email_details(self):\n",
    "        print(\"sender: \"+self.sender)\n",
    "        print(\"recipient: \"+self.recipient)\n",
    "        print(\"subject: \"+self.subject)\n",
    "        \n",
    "    \n",
    "    \n",
    "        "
   ]
  },
  {
   "cell_type": "code",
   "execution_count": 9,
   "id": "fca843c0-e96c-4b28-be5e-73e1cabe9847",
   "metadata": {},
   "outputs": [],
   "source": [
    "s = email(\"harshadumbhare85@gmail.com\",\"amolhadge@gmail.com\",\"Hi\")"
   ]
  },
  {
   "cell_type": "code",
   "execution_count": 10,
   "id": "390a106b-4dd3-411c-b4ac-f8390cc7602a",
   "metadata": {},
   "outputs": [
    {
     "name": "stdout",
     "output_type": "stream",
     "text": [
      "sender: harshadumbhare85@gmail.com\n",
      "recipient: amolhadge@gmail.com\n",
      "subject: Hi\n"
     ]
    }
   ],
   "source": [
    "s.email_details()"
   ]
  },
  {
   "cell_type": "code",
   "execution_count": null,
   "id": "e689eb91-23ca-448a-a69d-5f27c45bc2c6",
   "metadata": {},
   "outputs": [],
   "source": []
  },
  {
   "cell_type": "raw",
   "id": "a7057c31-9333-499a-bf13-d0cafa08bc5d",
   "metadata": {},
   "source": [
    "Problem 9: Social Media Profile Create a class representing a social media profile with attributes like username and posts. Implement methods to add posts, display posts, and search for posts by keyword.\n",
    "\n"
   ]
  },
  {
   "cell_type": "code",
   "execution_count": 10,
   "id": "427ed23d-3157-4124-869b-7f2037ec2d9e",
   "metadata": {},
   "outputs": [],
   "source": [
    "class social_media:\n",
    "    def __init__(self):\n",
    "        self._post = {}\n",
    "        \n",
    "    def add_post(self,emp_id,name,posts=[]):\n",
    "        self._post[emp_id]={\"name\":name, \"posts\": posts}\n",
    "        \n",
    "    def display_post(self):\n",
    "        if self._post:\n",
    "            for emp_id in self._post:\n",
    "                d = self._post[emp_id]\n",
    "                print(f\"Name :{d['name']}, posts :{d['posts']}\")\n",
    "        else:\n",
    "            print(\"No data available\")\n",
    "            \n",
    "    def search_post(self,emp_id):\n",
    "        if emp_id in self._post:\n",
    "            print(self._post[emp_id])\n",
    "                \n",
    "         "
   ]
  },
  {
   "cell_type": "code",
   "execution_count": 11,
   "id": "c61fdba7-650d-40b7-96b7-c7f45bcf6f36",
   "metadata": {},
   "outputs": [
    {
     "name": "stdout",
     "output_type": "stream",
     "text": [
      "Name :Harshada, posts :['Hi', 'Hello']\n",
      "{'name': 'Harshada', 'posts': ['Hi', 'Hello']}\n"
     ]
    }
   ],
   "source": [
    "s = social_media()\n",
    "s.add_post(\"001\",\"Harshada\",[\"Hi\",\"Hello\"])\n",
    "s.display_post()\n",
    "s.search_post(\"001\")"
   ]
  },
  {
   "cell_type": "raw",
   "id": "6b64f300-b7c0-4655-9bdb-4e6f3ec2e7fa",
   "metadata": {},
   "source": [
    "Problem 10: ToDo List Create a class representing a ToDo list with attributes like tasks and due dates. Implement methods to add tasks, mark tasks as completed, and display pending tasks."
   ]
  },
  {
   "cell_type": "code",
   "execution_count": 15,
   "id": "84dcb872-d219-4efa-a3db-eda8a0741c0c",
   "metadata": {},
   "outputs": [],
   "source": [
    "class todo_list:\n",
    "    \n",
    "    def __init__(self):\n",
    "        self._task ={}\n",
    "\n",
    "    def add_task(self,task_id,task_name,due_date,status=\"pending\"):\n",
    "        self._task[task_id] ={\"task_name\":task_name,\"due_date\":due_date,\"status\":status}\n",
    "        \n",
    "    def update_task(self,task_id,status):\n",
    "        if task_id in self._task:\n",
    "            self._task[task_id][\"status\"] =status\n",
    "        else:\n",
    "            print(\"Id not available\")\n",
    "        print(\"-----------------------------------------------------------------------\")\n",
    "    \n",
    "    def pending_task(self):\n",
    "        for task_id in self._task:\n",
    "            if self._task[task_id][\"status\"] ==\"pending\":\n",
    "                print(self._task[task_id])\n",
    "            else:\n",
    "                pass\n",
    "        print(\"--------------------------------------------------------------------------\")"
   ]
  },
  {
   "cell_type": "code",
   "execution_count": 16,
   "id": "1aebafd4-9c41-4e1b-859b-24c837cf499f",
   "metadata": {},
   "outputs": [
    {
     "name": "stdout",
     "output_type": "stream",
     "text": [
      "{'task_name': 'application analysis', 'due_date': '31-10-2023', 'status': 'pending'}\n",
      "{'task_name': 'application devlopment', 'due_date': '31-10-2023', 'status': 'pending'}\n",
      "{'task_name': 'application testing', 'due_date': '31-10-2023', 'status': 'pending'}\n",
      "{'task_name': 'application deplayment', 'due_date': '31-10-2023', 'status': 'pending'}\n",
      "{'task_name': 'application sanity test', 'due_date': '31-10-2023', 'status': 'pending'}\n",
      "--------------------------------------------------------------------------\n",
      "-----------------------------------------------------------------------\n",
      "{'task_name': 'application analysis', 'due_date': '31-10-2023', 'status': 'pending'}\n",
      "{'task_name': 'application devlopment', 'due_date': '31-10-2023', 'status': 'pending'}\n",
      "{'task_name': 'application deplayment', 'due_date': '31-10-2023', 'status': 'pending'}\n",
      "{'task_name': 'application sanity test', 'due_date': '31-10-2023', 'status': 'pending'}\n",
      "--------------------------------------------------------------------------\n"
     ]
    }
   ],
   "source": [
    "d =todo_list()\n",
    "d.add_task(\"001\",\"application analysis\",\"31-10-2023\")\n",
    "d.add_task(\"002\",\"application devlopment\",\"31-10-2023\")\n",
    "d.add_task(\"003\",\"application testing\",\"31-10-2023\")\n",
    "d.add_task(\"004\",\"application deplayment\",\"31-10-2023\")\n",
    "d.add_task(\"005\",\"application sanity test\",\"31-10-2023\")\n",
    "\n",
    "d.pending_task()\n",
    "\n",
    "d.update_task(\"003\",\"completed\")\n",
    "\n",
    "d.pending_task()"
   ]
  },
  {
   "cell_type": "code",
   "execution_count": null,
   "id": "0358cac2-13dc-4ed2-8dd3-bdeabdb78336",
   "metadata": {},
   "outputs": [],
   "source": []
  }
 ],
 "metadata": {
  "kernelspec": {
   "display_name": "Python 3 (ipykernel)",
   "language": "python",
   "name": "python3"
  },
  "language_info": {
   "codemirror_mode": {
    "name": "ipython",
    "version": 3
   },
   "file_extension": ".py",
   "mimetype": "text/x-python",
   "name": "python",
   "nbconvert_exporter": "python",
   "pygments_lexer": "ipython3",
   "version": "3.10.8"
  }
 },
 "nbformat": 4,
 "nbformat_minor": 5
}
