{
 "cells": [
  {
   "cell_type": "markdown",
   "id": "5bd92902-75c5-4eae-b022-37ae23cd1945",
   "metadata": {},
   "source": [
    "TOPIC: String Based Assignment Problem"
   ]
  },
  {
   "cell_type": "code",
   "execution_count": 2,
   "id": "961d31c1-e7c9-4472-9b51-4b19c059387f",
   "metadata": {},
   "outputs": [
    {
     "name": "stdin",
     "output_type": "stream",
     "text": [
      "Enter the string:  PW SKILL\n"
     ]
    },
    {
     "data": {
      "text/plain": [
       "'LLIKS WP'"
      ]
     },
     "execution_count": 2,
     "metadata": {},
     "output_type": "execute_result"
    }
   ],
   "source": [
    "#1. Write a program to reverse a string.\n",
    "str=input(\"Enter the string: \")\n",
    "str[::-1]"
   ]
  },
  {
   "cell_type": "code",
   "execution_count": 12,
   "id": "717b2a5c-5f3d-4b9f-832c-c88599acf753",
   "metadata": {},
   "outputs": [
    {
     "name": "stdin",
     "output_type": "stream",
     "text": [
      "Enter the string:  MOM\n"
     ]
    },
    {
     "name": "stdout",
     "output_type": "stream",
     "text": [
      "String is palindrome.\n"
     ]
    }
   ],
   "source": [
    "#2. Check if a string is a palindrome.\n",
    "str=input(\"Enter the string: \")\n",
    "\n",
    "if(str.casefold() == str[::-1].casefold()):\n",
    "   print(\"String is palindrome.\")\n",
    "else:\n",
    "   print(\"String is not palindrome.\")\n",
    "\n"
   ]
  },
  {
   "cell_type": "code",
   "execution_count": 15,
   "id": "0b8a6efc-e622-4a02-8c69-aea1d87a4085",
   "metadata": {},
   "outputs": [
    {
     "name": "stdin",
     "output_type": "stream",
     "text": [
      "Enter the string:  Gyczxck\n"
     ]
    },
    {
     "name": "stdout",
     "output_type": "stream",
     "text": [
      "string to uppercase:  GYCZXCK\n"
     ]
    }
   ],
   "source": [
    "#3. Convert a string to uppercase.\n",
    "str=input(\"Enter the string: \")\n",
    "print(\"string in uppercase: \", str.upper())"
   ]
  },
  {
   "cell_type": "code",
   "execution_count": 16,
   "id": "e2b7ba81-28fc-4cf4-9652-9e97f9cea673",
   "metadata": {},
   "outputs": [
    {
     "name": "stdin",
     "output_type": "stream",
     "text": [
      "Enter the string:  HUKhedwednw\n"
     ]
    },
    {
     "name": "stdout",
     "output_type": "stream",
     "text": [
      "string to uppercase:  hukhedwednw\n"
     ]
    }
   ],
   "source": [
    "#4. Convert a string to lowercase.\n",
    "str=input(\"Enter the string: \")\n",
    "print(\"string in lowercase: \", str.lower())"
   ]
  },
  {
   "cell_type": "code",
   "execution_count": 20,
   "id": "bf737550-6c95-48de-8458-87d5bb8a7622",
   "metadata": {},
   "outputs": [
    {
     "name": "stdin",
     "output_type": "stream",
     "text": [
      "Enter the string:  PW Skill\n"
     ]
    },
    {
     "name": "stdout",
     "output_type": "stream",
     "text": [
      "1\n"
     ]
    }
   ],
   "source": [
    "#5. Count the number of vowels in a string.\n",
    "str = input(\"Enter the string: \")\n",
    "a, e, i, o, u, A, E, I, O, U = str.count(\"a\"), str.count(\"e\"), str.count(\"i\"), str.count(\"o\"), str.count(\"u\"), str.count(\"A\"), str.count(\"E\"), str.count(\"I\"), str.count(\"O\"), str.count(\"U\")\n",
    "\n",
    "count = 0\n",
    "count = a+e+i+o+u+A+E+I+O+U\n",
    "print(count)\n"
   ]
  },
  {
   "cell_type": "code",
   "execution_count": 30,
   "id": "403f75cf-6d53-4cab-88bf-c19544938942",
   "metadata": {},
   "outputs": [
    {
     "name": "stdin",
     "output_type": "stream",
     "text": [
      "Enter the string:  Welcome to PWskill\n"
     ]
    },
    {
     "name": "stdout",
     "output_type": "stream",
     "text": [
      "11\n"
     ]
    }
   ],
   "source": [
    "#6.Count the number of consonants in a string.\n",
    "str = input(\"Enter the string: \")\n",
    "vowels = ['a','e','i','o','u','A','E','I', 'O','U',' ']\n",
    "count=0\n",
    "for i in str:\n",
    "    if i not in vowels:\n",
    "          count+=1\n",
    "            \n",
    "print(count)\n",
    "\n"
   ]
  },
  {
   "cell_type": "code",
   "execution_count": 32,
   "id": "cef10d0c-6d4b-4e53-9c9b-16b17712fc63",
   "metadata": {},
   "outputs": [
    {
     "name": "stdin",
     "output_type": "stream",
     "text": [
      "Enter the string:  HI PW Skill\n"
     ]
    },
    {
     "name": "stdout",
     "output_type": "stream",
     "text": [
      "String after whitespaces removal:  HIPWSkill\n"
     ]
    }
   ],
   "source": [
    "#7. Remove all whitespaces from a string\n",
    "str = input(\"Enter the string: \")\n",
    "print(\"String after whitespaces removal: \",str.replace(\" \",\"\"))"
   ]
  },
  {
   "cell_type": "code",
   "execution_count": 35,
   "id": "29d1bf75-999e-47ad-bbfd-fec28b845e38",
   "metadata": {},
   "outputs": [
    {
     "name": "stdin",
     "output_type": "stream",
     "text": [
      "Enter the string:  Hi PWSKILL\n"
     ]
    },
    {
     "name": "stdout",
     "output_type": "stream",
     "text": [
      "10\n"
     ]
    }
   ],
   "source": [
    "#8. Find the length of a string without using the `len()` function.\n",
    "str = input(\"Enter the string: \")\n",
    "count=0\n",
    "for i in str:\n",
    "    count+=1\n",
    "print(count)"
   ]
  },
  {
   "cell_type": "code",
   "execution_count": 44,
   "id": "2d478807-9c96-4b41-9f55-24c94ccb8c2f",
   "metadata": {},
   "outputs": [
    {
     "name": "stdin",
     "output_type": "stream",
     "text": [
      "Enter the string:  good morning pwskill\n",
      "Enter the word to search:  good\n"
     ]
    },
    {
     "name": "stdout",
     "output_type": "stream",
     "text": [
      "Word is present in the string\n"
     ]
    }
   ],
   "source": [
    "#9. Check if a string contains a specific word.\n",
    "str = input(\"Enter the string: \")\n",
    "search_word = input(\"Enter the word to search: \")\n",
    "\n",
    "if str.find(search_word)!=-1:\n",
    "    print(\"Word is present in the string\")\n",
    "else:\n",
    "    print(\"Word is not present in the string\")\n",
    "\n"
   ]
  },
  {
   "cell_type": "code",
   "execution_count": 2,
   "id": "6cda4acf-edc8-4e73-89f1-2f510e68b992",
   "metadata": {},
   "outputs": [
    {
     "name": "stdin",
     "output_type": "stream",
     "text": [
      "Enter the string contain 'Hi' word:  Hi PWSKILL\n"
     ]
    },
    {
     "name": "stdout",
     "output_type": "stream",
     "text": [
      "String with another word:  Hello PWSKILL\n"
     ]
    }
   ],
   "source": [
    "#10. Replace a word in a string with another word.\n",
    "str = input(\"Enter the string contain 'Hi' word: \")\n",
    "replace_word = (\"Enter the replacing word: \")\n",
    "print(\"String with another word: \",str.replace('Hi','Hello'))\n"
   ]
  },
  {
   "cell_type": "code",
   "execution_count": 3,
   "id": "8cec0496-340d-4216-a30b-f3beacdaea5a",
   "metadata": {},
   "outputs": [
    {
     "name": "stdin",
     "output_type": "stream",
     "text": [
      "Enter the string contain 'hi' word:  hi Pw,hi Python \n"
     ]
    },
    {
     "name": "stdout",
     "output_type": "stream",
     "text": [
      "occurrences of a word in a string:  2\n"
     ]
    }
   ],
   "source": [
    "#11. Count the occurrences of a word in a string.\n",
    "str = input(\"Enter the string contain 'hi' word: \")\n",
    "print(\"occurrences of a word in a string: \",str.count(\"hi\"))"
   ]
  },
  {
   "cell_type": "code",
   "execution_count": 11,
   "id": "f291101e-4167-4a4e-a850-1cb30cecb5a2",
   "metadata": {},
   "outputs": [
    {
     "name": "stdin",
     "output_type": "stream",
     "text": [
      "Enter the string contain 'hi' word:  hi pw, hi python\n"
     ]
    },
    {
     "name": "stdout",
     "output_type": "stream",
     "text": [
      "The first occurrence of a word in a string. 0\n"
     ]
    }
   ],
   "source": [
    "#12. Find the first occurrence of a word in a string.\n",
    "str = input(\"Enter the string contain 'hi' word: \")\n",
    "print(\"The first occurrence of a word in a string.\",str.find(\"hi\"))"
   ]
  },
  {
   "cell_type": "code",
   "execution_count": 12,
   "id": "d0f83098-10d0-4a88-8e27-85959098aa5c",
   "metadata": {},
   "outputs": [
    {
     "name": "stdout",
     "output_type": "stream",
     "text": [
      "11\n"
     ]
    }
   ],
   "source": [
    "#13. Find the last occurrence of a word in a string.\n",
    "str = \"hi pwskill,hi python\"\n",
    "x = str.rfind(\"hi\")\n",
    "print(x)"
   ]
  },
  {
   "cell_type": "code",
   "execution_count": 13,
   "id": "8b8f17d3-8837-4439-a729-2dc4f74d98aa",
   "metadata": {},
   "outputs": [
    {
     "data": {
      "text/plain": [
       "['Welcome', 'to', 'pw', 'skill']"
      ]
     },
     "execution_count": 13,
     "metadata": {},
     "output_type": "execute_result"
    }
   ],
   "source": [
    "#14. Split a string into a list of words.\n",
    "str=\"Welcome to pw skill\"\n",
    "str.split()"
   ]
  },
  {
   "cell_type": "code",
   "execution_count": 17,
   "id": "c7b3ac26-dc9a-4b9e-affc-56797fb2ffb5",
   "metadata": {},
   "outputs": [
    {
     "name": "stdout",
     "output_type": "stream",
     "text": [
      "Welcome to pw skill\n"
     ]
    }
   ],
   "source": [
    "#15. Join a list of words into a string.\n",
    "list_str=[\"Welcome\", \"to\", \"pw\", \"skill\"]\n",
    "print(\" \".join(list_str))\n"
   ]
  },
  {
   "cell_type": "code",
   "execution_count": 20,
   "id": "8382d193-ad04-40b7-93ac-d18b3d0e5dfa",
   "metadata": {},
   "outputs": [
    {
     "data": {
      "text/plain": [
       "'Welcome_to_pw_skill'"
      ]
     },
     "execution_count": 20,
     "metadata": {},
     "output_type": "execute_result"
    }
   ],
   "source": [
    "#16. Convert a string where words are separated by spaces to one where words\n",
    "#are separated by underscores.\n",
    "str = \"Welcome to pw skill\"\n",
    "str.replace(\" \",\"_\")\n"
   ]
  },
  {
   "cell_type": "code",
   "execution_count": 27,
   "id": "5471507c-d147-4759-9349-be9ee29c0e8b",
   "metadata": {},
   "outputs": [
    {
     "name": "stdout",
     "output_type": "stream",
     "text": [
      "String start with 'Welcome'.\n"
     ]
    }
   ],
   "source": [
    "#17. Check if a string starts with a specific word or phrase.\n",
    "str = \"Welcome to pw skill\"\n",
    "if str.find(\"Welcome\") == 0:\n",
    "    print(\"String start with 'Welcome'.\")\n",
    "else:\n",
    "    print(\"String not start with 'Welcome'.\")\n",
    "\n"
   ]
  },
  {
   "cell_type": "code",
   "execution_count": 35,
   "id": "f28fbe6a-68b4-4620-95ee-ac67c031a64b",
   "metadata": {},
   "outputs": [
    {
     "name": "stdout",
     "output_type": "stream",
     "text": [
      "String end with word 'skill'\n"
     ]
    }
   ],
   "source": [
    "#8. Check if a string ends with a specific word or phrase.\n",
    "str =\"Welcome to pw skill.\"\n",
    "if str.endswith(\"skill\") == True:\n",
    "    print(\"String end with word 'skill'\")\n",
    "else:\n",
    "     print(\"String not end with word 'skill'\")\n"
   ]
  },
  {
   "cell_type": "code",
   "execution_count": 36,
   "id": "0889f98d-5c1a-4add-85c9-00e09b5f895e",
   "metadata": {},
   "outputs": [
    {
     "data": {
      "text/plain": [
       "'Welcome To Pw Skill.'"
      ]
     },
     "execution_count": 36,
     "metadata": {},
     "output_type": "execute_result"
    }
   ],
   "source": [
    "#19. Convert a string to title case (e.g., \"hello world\" to \"Hello World\").\n",
    "str =input(\"Enter a string: \")\n",
    "str.title()"
   ]
  },
  {
   "cell_type": "code",
   "execution_count": 47,
   "id": "76fff958-2f62-4518-8a75-994654b8d565",
   "metadata": {},
   "outputs": [
    {
     "name": "stdin",
     "output_type": "stream",
     "text": [
      "Enter a string:  Welcome to the pw skills\n"
     ]
    },
    {
     "data": {
      "text/plain": [
       "'Welcome'"
      ]
     },
     "execution_count": 47,
     "metadata": {},
     "output_type": "execute_result"
    }
   ],
   "source": [
    "#20. Find the longest word in a string.\n",
    "str = input(\"Enter a string: \")\n",
    "list_str = str.split()\n",
    "maxlength =max(list_str, key = len)\n",
    "maxlength\n"
   ]
  },
  {
   "cell_type": "code",
   "execution_count": 48,
   "id": "97a71c49-9ebe-4a0d-baca-cc9ce4fcebc2",
   "metadata": {},
   "outputs": [
    {
     "name": "stdin",
     "output_type": "stream",
     "text": [
      "Enter a string:  Welcome to the pwskill\n"
     ]
    },
    {
     "data": {
      "text/plain": [
       "'to'"
      ]
     },
     "execution_count": 48,
     "metadata": {},
     "output_type": "execute_result"
    }
   ],
   "source": [
    "#21. Find the shortest word in a string.\n",
    "str = input(\"Enter a string: \")\n",
    "list_str = str.split()\n",
    "minlength =min(list_str, key = len)\n",
    "minlength"
   ]
  },
  {
   "cell_type": "code",
   "execution_count": 52,
   "id": "adaf61fc-b6aa-4c9c-9355-aaba24f874d3",
   "metadata": {},
   "outputs": [
    {
     "name": "stdin",
     "output_type": "stream",
     "text": [
      "Enter a string:  Welcome to pwskill\n"
     ]
    },
    {
     "name": "stdout",
     "output_type": "stream",
     "text": [
      "Rverse order of the string is:  llikswp ot emocleW\n"
     ]
    }
   ],
   "source": [
    "#22. Reverse the order of words in a string.\n",
    "str = input(\"Enter a string: \")\n",
    "print(\"Rverse order of the string is: \",str[::-1])"
   ]
  },
  {
   "cell_type": "code",
   "execution_count": 61,
   "id": "82954976-e5a6-476a-a519-91401e94cecc",
   "metadata": {},
   "outputs": [
    {
     "name": "stdin",
     "output_type": "stream",
     "text": [
      "Enter the string:  pwskil2023\n"
     ]
    },
    {
     "name": "stdout",
     "output_type": "stream",
     "text": [
      "String is alphanumeric.\n"
     ]
    }
   ],
   "source": [
    "#23. Check if a string is alphanumeric.\n",
    "str = input(\"Enter the string: \")\n",
    "if str.isalnum() == True:\n",
    "    print(\"String is alphanumeric.\")\n",
    "else:\n",
    "    print(\"String is not alphanumeric.\")"
   ]
  },
  {
   "cell_type": "code",
   "execution_count": 70,
   "id": "ec1067d6-91ff-49e4-8bb5-28c853e319f5",
   "metadata": {},
   "outputs": [
    {
     "name": "stdout",
     "output_type": "stream",
     "text": [
      "['23', '45', '46', '67', '45']\n"
     ]
    }
   ],
   "source": [
    "#24. Extract all digits from a string.\n",
    "str=\"hello 23 45 46 pwskill 67 45\"\n",
    "list=str.split()\n",
    "l_digit=[]\n",
    "for i in list:\n",
    "    if(i.isdigit()):\n",
    "        l_digit.append(i)\n",
    "print(l_digit)\n"
   ]
  },
  {
   "cell_type": "code",
   "execution_count": 72,
   "id": "e46944cf-bdab-4995-9c1c-d53a46071c1d",
   "metadata": {},
   "outputs": [
    {
     "data": {
      "text/plain": [
       "'WelcometopwskilthAug'"
      ]
     },
     "execution_count": 72,
     "metadata": {},
     "output_type": "execute_result"
    }
   ],
   "source": [
    "#25. Extract all alphabets from a string.\n",
    "\n",
    "str = \"Welcome to pwskil 19th Aug 2023\"\n",
    "only_alpha = \"\"\n",
    "for char in str:\n",
    "    if char.isalpha():\n",
    "        only_alpha+=char\n",
    "only_alpha\n",
    "        \n",
    "    \n",
    "    "
   ]
  },
  {
   "cell_type": "code",
   "execution_count": 76,
   "id": "7c713f52-0406-4b00-bfeb-09975448c371",
   "metadata": {},
   "outputs": [
    {
     "name": "stdin",
     "output_type": "stream",
     "text": [
      "Enter the string:  Welcome to PWskill\n"
     ]
    },
    {
     "name": "stdout",
     "output_type": "stream",
     "text": [
      "Upper cases number count:  3\n"
     ]
    }
   ],
   "source": [
    "#26. Count the number of uppercase letters in a string.\n",
    "str =input(\"Enter the string: \")\n",
    "count = 0\n",
    "for char in str:\n",
    "    if char.isupper():\n",
    "        count+=1\n",
    "print(\"Upper cases number count: \",count) \n",
    "\n",
    "       "
   ]
  },
  {
   "cell_type": "code",
   "execution_count": 77,
   "id": "8ca1d453-de1e-49da-8920-802bc2582f04",
   "metadata": {},
   "outputs": [
    {
     "name": "stdin",
     "output_type": "stream",
     "text": [
      "Enter the string:  Welcome to PWskill\n"
     ]
    },
    {
     "name": "stdout",
     "output_type": "stream",
     "text": [
      "Lower cases number count:  13\n"
     ]
    }
   ],
   "source": [
    "#27. Count the number of lowercase letters in a string.\n",
    "str =input(\"Enter the string: \")\n",
    "count = 0\n",
    "for char in str:\n",
    "    if char.islower():\n",
    "        count+=1\n",
    "print(\"Lower cases number count: \",count) "
   ]
  },
  {
   "cell_type": "code",
   "execution_count": 79,
   "id": "d53ec092-08e4-4c89-a982-9256ff192af1",
   "metadata": {},
   "outputs": [
    {
     "name": "stdin",
     "output_type": "stream",
     "text": [
      "Enter the string:  Welcome to Pwskill\n"
     ]
    },
    {
     "data": {
      "text/plain": [
       "'wELCOME TO pWSKILL'"
      ]
     },
     "execution_count": 79,
     "metadata": {},
     "output_type": "execute_result"
    }
   ],
   "source": [
    "#28. Swap the case of each character in a string.\n",
    "str =input(\"Enter the string: \")\n",
    "str.swapcase()"
   ]
  },
  {
   "cell_type": "code",
   "execution_count": null,
   "id": "3b11f0d3-a31f-48af-ba74-45d79adcfd9c",
   "metadata": {},
   "outputs": [],
   "source": [
    "#29. Remove a specific word from a string.\n",
    "str=\"Welcome to PWskill\"\n",
    "str.rplace(\"Welcome\",\"\")\n",
    "str"
   ]
  },
  {
   "cell_type": "code",
   "execution_count": 4,
   "id": "570b9972-5e8d-47cd-a18d-457cb447ecb9",
   "metadata": {},
   "outputs": [
    {
     "name": "stdin",
     "output_type": "stream",
     "text": [
      "Enter the email:  ha@c.com\n"
     ]
    },
    {
     "name": "stdout",
     "output_type": "stream",
     "text": [
      "Valid Email\n"
     ]
    }
   ],
   "source": [
    "#30. Check if a string is a valid email address.\n",
    "import re\n",
    "email = input(\"Enter the email: \")\n",
    "regex = r'\\b[A-Za-z0-9._%+-]+@[A-Za-z0-9.-]+\\.[A-Z|a-z]{2,7}\\b'\n",
    "if(re.fullmatch(regex, email)):\n",
    "        print(\"Valid Email\")\n",
    "else:\n",
    "        print(\"Invalid Email\")\n",
    "\n",
    "\n"
   ]
  },
  {
   "cell_type": "code",
   "execution_count": 14,
   "id": "c46c6057-639b-4e37-a18c-0e6abd6423b4",
   "metadata": {},
   "outputs": [
    {
     "name": "stdout",
     "output_type": "stream",
     "text": [
      "Username is:  pwskill\n"
     ]
    }
   ],
   "source": [
    "#31. Extract the username from an email address string.\n",
    "str =\"pwskill@india.com\"\n",
    "print(\"Username is: \",str[0:str.index('@'):])\n"
   ]
  },
  {
   "cell_type": "code",
   "execution_count": 15,
   "id": "2a82a7cb-befb-46c0-92e3-23f85541bf80",
   "metadata": {},
   "outputs": [
    {
     "name": "stdout",
     "output_type": "stream",
     "text": [
      "Domain name is:  india.com\n"
     ]
    }
   ],
   "source": [
    "#32. Extract the domain name from an email address string.\n",
    "str =\"pwskill@india.com\"\n",
    "print(\"Domain name is: \",str[str.index('@')+1:])"
   ]
  },
  {
   "cell_type": "code",
   "execution_count": 16,
   "id": "b2aa52de-65bb-4d51-b950-0198cedf1cf6",
   "metadata": {},
   "outputs": [
    {
     "name": "stdout",
     "output_type": "stream",
     "text": [
      "Hi I am in pwskill\n"
     ]
    }
   ],
   "source": [
    "#33. Replace multiple spaces in a string with a single space.\n",
    "str =\"Hi I     am  in      pwskill \"\n",
    "print(' '.join(str.split()))"
   ]
  },
  {
   "cell_type": "code",
   "execution_count": 25,
   "id": "f9be0744-5cb6-42ea-a788-cfe70c973dbb",
   "metadata": {},
   "outputs": [
    {
     "name": "stdout",
     "output_type": "stream",
     "text": [
      "Invalide URL\n"
     ]
    }
   ],
   "source": [
    "#34. Check if a string is a valid URL.\n",
    "import re\n",
    "URL = \"https://www.example.com\"\n",
    "regex = re.compile(\n",
    "        r'^(?:http|ftp)s?://' # http:// or https://\n",
    "        r'(?:(?:[A-Z0-9](?:[A-Z0-9-]{0,61}[A-Z0-9])?\\.)+(?:[A-Z]{2,6}\\.?|[A-Z0-9-]{2,}\\.?)|' #domain...\n",
    "        r'localhost|' #localhost...\n",
    "        r'\\d{1,3}\\.\\d{1,3}\\.\\d{1,3}\\.\\d{1,3})' # ...or ip\n",
    "        r'(?::\\d+)?' # optional port\n",
    "        r'(?:/?|[/?]\\S+)$', re.IGNORECASE)\n",
    "if re.match(regex, URL) is not None == True:\n",
    "    print(\"Valid URL\")\n",
    "else:\n",
    "    print(\"Invalide URL\")"
   ]
  },
  {
   "cell_type": "code",
   "execution_count": 9,
   "id": "2e2f1943-ea7b-4639-9469-f85ec0797142",
   "metadata": {},
   "outputs": [
    {
     "name": "stdout",
     "output_type": "stream",
     "text": [
      "http://stackoverflow.com/\n"
     ]
    }
   ],
   "source": [
    "#35. Extract the protocol (http or https) from a URL string.\n",
    "from urllib.parse import urlparse\n",
    "# from urlparse import urlparse  # Python 2\n",
    "parsed_uri = urlparse('http://stackoverflow.com/questions/1234567/blah-blah-blah-blah' )\n",
    "result = '{uri.scheme}://{uri.netloc}/'.format(uri=parsed_uri)\n",
    "print(result)"
   ]
  },
  {
   "cell_type": "code",
   "execution_count": 19,
   "id": "f799f453-25ef-4c21-b8d5-13e0ed909bb0",
   "metadata": {},
   "outputs": [
    {
     "name": "stdout",
     "output_type": "stream",
     "text": [
      "p 1\n",
      "w 1\n",
      "s 1\n",
      "k 1\n",
      "i 1\n",
      "l 2\n",
      "l 2\n"
     ]
    }
   ],
   "source": [
    "#36. Find the frequency of each character in a string.\n",
    "str = \"Pwskill\".lower()\n",
    "\n",
    "for i in str:  \n",
    "    print(i,str.count(i))\n",
    "\n"
   ]
  },
  {
   "cell_type": "code",
   "execution_count": 21,
   "id": "6bee1e73-97a2-4959-b588-417dacdde7e4",
   "metadata": {},
   "outputs": [
    {
     "name": "stdout",
     "output_type": "stream",
     "text": [
      "PWskill is best  for  learning \n"
     ]
    }
   ],
   "source": [
    "#37. Remove all punctuation from a string.\n",
    "str = \"PWskill, is best : for ! $learning ;\"\n",
    "punc = '''!()-[]{};:'\"\\,<>./?@#$%^&*_~'''\n",
    "for i in str:\n",
    "    if i in punc:\n",
    "        str =str.replace(i,\"\")\n",
    "print(str)"
   ]
  },
  {
   "cell_type": "code",
   "execution_count": 25,
   "id": "04d449fd-733f-4ada-ba59-8187665d0913",
   "metadata": {},
   "outputs": [
    {
     "name": "stdout",
     "output_type": "stream",
     "text": [
      "string contains only digits\n"
     ]
    }
   ],
   "source": [
    "#38. Check if a string contains only digits.\n",
    "str = '456392309282'\n",
    "if str.isdigit() == True:\n",
    "    print(\"string contains only digits\")\n",
    "else:\n",
    "    print(\"string did not contain only digits\")"
   ]
  },
  {
   "cell_type": "code",
   "execution_count": 26,
   "id": "a1f55dd5-4717-4d4d-87d7-9b9ed331e4fc",
   "metadata": {},
   "outputs": [
    {
     "name": "stdout",
     "output_type": "stream",
     "text": [
      "string contains only alphabets\n"
     ]
    }
   ],
   "source": [
    "#39. Check if a string contains only alphabets.\n",
    "str = 'Pwskills'\n",
    "if str.isalpha() == True:\n",
    "    print(\"string contains only alphabets\")\n",
    "else:\n",
    "    print(\"string did not contain only alphabets\")"
   ]
  },
  {
   "cell_type": "code",
   "execution_count": 39,
   "id": "dd0bacc6-d743-4827-9703-352c499058db",
   "metadata": {},
   "outputs": [
    {
     "name": "stdout",
     "output_type": "stream",
     "text": [
      "['p', 'w', 's', 'k', 'i', 'l', 'l', 's']\n",
      "['p', 'w', 's', 'k', 'i', 'l', 'l', 's']\n",
      "['p', 'w', 's', 'k', 'i', 'l', 'l', 's']\n"
     ]
    }
   ],
   "source": [
    "#40. Convert a string to a list of characters.\n",
    "#1\n",
    "str = 'pwskills'\n",
    "print([*str])\n",
    "#2\n",
    "lst = []\n",
    "for letter in str:\n",
    "    lst.append(letter)\n",
    "print(lst)\n",
    "#3\n",
    "letter = [x for x in str]\n",
    "print(letter)\n",
    "\n"
   ]
  },
  {
   "cell_type": "code",
   "execution_count": 57,
   "id": "b92395c4-0bae-4586-8e27-f7efd5cfa663",
   "metadata": {},
   "outputs": [
    {
     "name": "stdout",
     "output_type": "stream",
     "text": [
      "two strings are anagrams.\n"
     ]
    }
   ],
   "source": [
    "#41. Check if two strings are anagrams.\n",
    "str1 = 'pwskill'\n",
    "str2 = 'pllikws'\n",
    "flage =\"False\"\n",
    "if sorted(str1) == sorted(str2):\n",
    "    print(\"two strings are anagrams.\")\n",
    "else:\n",
    "    print(\"two strings are not anagrams.\")\n",
    "\n"
   ]
  },
  {
   "cell_type": "code",
   "execution_count": 1,
   "id": "e7ccdb27-a84d-4714-9997-2ba231b12dc0",
   "metadata": {},
   "outputs": [],
   "source": [
    "#42. Encode a string using a Caesar cipher.\n",
    "def encrypt_text(plaintext,n):\n",
    "    ans = \"\"\n",
    "    # iterate over the given text\n",
    "    for i in range(len(plaintext)):\n",
    "        ch = plaintext[i]\n",
    "        \n",
    "        # check if space is there then simply add space\n",
    "        if ch==\" \":\n",
    "            ans+=\" \"\n",
    "        # check if a character is uppercase then encrypt it accordingly \n",
    "        elif (ch.isupper()):\n",
    "            ans += chr((ord(ch) + n-65) % 26 + 65)\n",
    "        # check if a character is lowercase then encrypt it accordingly\n",
    "        \n",
    "        else:\n",
    "            ans += chr((ord(ch) + n-97) % 26 + 97)\n",
    "    \n",
    "    return ans"
   ]
  },
  {
   "cell_type": "code",
   "execution_count": 59,
   "id": "0a72aa62-de1e-4f43-a1d1-8516794ad930",
   "metadata": {},
   "outputs": [],
   "source": [
    "#43. Decode a Caesar cipher encoded string."
   ]
  },
  {
   "cell_type": "code",
   "execution_count": 1,
   "id": "8467afc0-50e3-466f-b892-0a1074e415c3",
   "metadata": {},
   "outputs": [
    {
     "name": "stdout",
     "output_type": "stream",
     "text": [
      "('the', 8)\n"
     ]
    }
   ],
   "source": [
    "#44. Find the most frequent word in a string\n",
    "str = 'Both of these issues are fixed by postponing the evaluation of annotations. Instead of compiling code which executes expressions in annotations at their definition time, the compiler stores the annotation in a string form equivalent to the AST of the expression in question. If needed, annotations can be resolved at runtime using typing.get_type_hints(). In the common case where this is not required, the annotations are cheaper to store (since short strings are interned by the interpreter) and make startup time faster.\")'\n",
    "counts = dict()\n",
    "words = str.split()\n",
    "\n",
    "for word in words:\n",
    "    if word in counts:\n",
    "        counts[word] += 1\n",
    "    else:\n",
    "         counts[word] = 1\n",
    "\n",
    "counts_x = max(counts.items(), key=lambda kv: kv[1])\n",
    "print(counts_x)"
   ]
  },
  {
   "cell_type": "code",
   "execution_count": 3,
   "id": "493bd6d0-47f0-4b70-a28d-6bb58dc19f5e",
   "metadata": {},
   "outputs": [
    {
     "name": "stdout",
     "output_type": "stream",
     "text": [
      "{'annotations.', 'code', 'in', 'to', 'stores', 'expression', 'Instead', 'evaluation', 'time,', 'of', 'string', 'which', 'by', 'equivalent', 'issues', 'annotation', 'compiling', 'definition', 'fixed', 'a', 'postponing', 'expressions', 'Both', 'the', 'their', 'are', 'question.', 'AST', 'form', 'compiler', 'annotations', 'executes', 'these', 'at'}\n"
     ]
    }
   ],
   "source": [
    "#45. Find all unique words in a string.\n",
    "str ='Both of these issues are fixed by postponing the evaluation of annotations. Instead of compiling code which executes expressions in annotations at their definition time, the compiler stores the annotation in a string form equivalent to the AST of the expression in question. '\n",
    "\n",
    "unique = set(str.split())\n",
    "print(unique)"
   ]
  },
  {
   "cell_type": "code",
   "execution_count": 54,
   "id": "03ae815d-e1ad-477f-874d-2a51b8210b9b",
   "metadata": {},
   "outputs": [
    {
     "name": "stdout",
     "output_type": "stream",
     "text": [
      "0\n"
     ]
    }
   ],
   "source": [
    "#46. Count the number of syllables in a string.\n",
    "\n",
    "word = \"Hello PWskill dfre haarsd\".lower()\n",
    "count = 0\n",
    "vowels = \"aeiouy\"\n",
    "if word[0] in vowels:\n",
    "    count += 1\n",
    "    for index in range(1, len(word)):\n",
    "        if word[index] in vowels and word[index - 1] not in vowels:\n",
    "            count += 1\n",
    "        if word.endswith(\"e\"):\n",
    "            count -= 1\n",
    "        if count == 0:\n",
    "            count += 1\n",
    "print(count)\n",
    "\n"
   ]
  },
  {
   "cell_type": "code",
   "execution_count": 61,
   "id": "4d6b0835-c16d-40a2-a202-34f8a42ec6d5",
   "metadata": {},
   "outputs": [],
   "source": [
    "#47. Check if a string contains any special characters.\n",
    "str = 'Hello Pwskill Banglore'\n",
    "special_char = '!@#$%^&*():<>?|/\\=-~'\n",
    "flage ='True'\n",
    "\n",
    "for i in str:\n",
    "    if i in special_char:\n",
    "        flage = 'False'\n",
    "        print(\"string contains special character\")\n",
    "        break\n",
    "    else:\n",
    "        continue\n",
    "if flage == True:\n",
    "    print(\"string dose not contains special character\")"
   ]
  },
  {
   "cell_type": "code",
   "execution_count": 151,
   "id": "4b2dcd26-a976-4434-9312-bd502132ef24",
   "metadata": {},
   "outputs": [
    {
     "data": {
      "text/plain": [
       "'hello your friend'"
      ]
     },
     "execution_count": 151,
     "metadata": {},
     "output_type": "execute_result"
    }
   ],
   "source": [
    "#48. Remove the nth word from a string.\n",
    "nreplace=1\n",
    "my_string=\"hello my friend\"\n",
    "words=my_string.split(\" \")\n",
    "words[nreplace]=\"your\"\n",
    "\" \".join(words)\n",
    "\n"
   ]
  },
  {
   "cell_type": "code",
   "execution_count": 150,
   "id": "ebd9a005-6e73-45cb-80d1-0d5bc0ee21c0",
   "metadata": {},
   "outputs": [
    {
     "name": "stdout",
     "output_type": "stream",
     "text": [
      "Adding 'p' at 9th index of an input string:\n",
      " tutorialspoint\n"
     ]
    }
   ],
   "source": [
    "#49. Insert a word at the nth position in a string\n",
    "\n",
    "# input string\n",
    "inputString = \"tutorialsoint\"\n",
    "\n",
    "# adding character 'p' at a specific position i.e, at index 9\n",
    "inputString = inputString[:9] + 'p' + inputString[9:]\n",
    "\n",
    "# printing the resultant string \n",
    "print(\"Adding 'p' at 9th index of an input string:\\n\", inputString)\n"
   ]
  },
  {
   "cell_type": "code",
   "execution_count": 149,
   "id": "7ee759bb-cc22-4080-9b81-b50dc6f9199b",
   "metadata": {},
   "outputs": [
    {
     "name": "stdout",
     "output_type": "stream",
     "text": [
      "['apple', 'banana', 'cherry']\n"
     ]
    }
   ],
   "source": [
    "#50. Convert a CSV string to a list of lists.\n",
    "x = 'apple,banana,cherry'\n",
    "output = x.split(',')\n",
    "print(output)"
   ]
  },
  {
   "cell_type": "markdown",
   "id": "117507a1-07a1-4e0f-bcb6-0332e26fd80e",
   "metadata": {},
   "source": [
    "List Based Practice Problem :\n"
   ]
  },
  {
   "cell_type": "code",
   "execution_count": 62,
   "id": "df846173-e17c-4627-a915-2a2cab9ad602",
   "metadata": {},
   "outputs": [
    {
     "name": "stdout",
     "output_type": "stream",
     "text": [
      "[1, 2, 3, 4, 5, 6, 7, 8, 9, 10]\n"
     ]
    }
   ],
   "source": [
    "#1. Create a list with integers from 1 to 10.\n",
    "l =[]\n",
    "for i in range(1,11):\n",
    "    l.append(i)\n",
    "print(l)\n"
   ]
  },
  {
   "cell_type": "code",
   "execution_count": 69,
   "id": "93e05506-7f3a-4b8c-a7fa-101c8435f964",
   "metadata": {},
   "outputs": [
    {
     "name": "stdout",
     "output_type": "stream",
     "text": [
      "7\n"
     ]
    }
   ],
   "source": [
    "#2. Find the length of a list without using the `len()` function.\n",
    "l =[1,2,3,4,5,6,7]\n",
    "count =0\n",
    "for i in l:\n",
    "    count+=1\n",
    "print(count)"
   ]
  },
  {
   "cell_type": "code",
   "execution_count": 74,
   "id": "bf3125b5-d6ec-4a62-9cbf-e170a0b49642",
   "metadata": {},
   "outputs": [
    {
     "data": {
      "text/plain": [
       "[1, 2, 3, 4, 5, 6, 7, 8]"
      ]
     },
     "execution_count": 74,
     "metadata": {},
     "output_type": "execute_result"
    }
   ],
   "source": [
    "#3. Append an element to the end of a list.\n",
    "l =[1,2,3,4,5,6,7]\n",
    "element = 8\n",
    "l.append(element)\n",
    "l"
   ]
  },
  {
   "cell_type": "code",
   "execution_count": 79,
   "id": "e8c59ec2-21ee-4295-a16e-cc43e34b8730",
   "metadata": {},
   "outputs": [
    {
     "data": {
      "text/plain": [
       "[0, 1, 2, 3, 4, 5, 6, 7]"
      ]
     },
     "execution_count": 79,
     "metadata": {},
     "output_type": "execute_result"
    }
   ],
   "source": [
    "#4. Insert an element at a specific index in a list.\n",
    "#insert(), append(), and extend()\n",
    "#insert() at a specific index in a list\n",
    "# append() insert value at last\n",
    "#extend() concat two list\n",
    "l =[1,2,3,4,5,6,7]\n",
    "l.insert(0,0)\n",
    "l"
   ]
  },
  {
   "cell_type": "code",
   "execution_count": 81,
   "id": "22960110-031b-4ce6-9334-c99a059e6e05",
   "metadata": {},
   "outputs": [
    {
     "data": {
      "text/plain": [
       "[1, 2, 3, 4, 5, 6]"
      ]
     },
     "execution_count": 81,
     "metadata": {},
     "output_type": "execute_result"
    }
   ],
   "source": [
    "#5. Remove an element from a list by its value.\n",
    "l =[1,2,3,4,5,6,7]\n",
    "l.remove(7)\n",
    "l\n"
   ]
  },
  {
   "cell_type": "code",
   "execution_count": 84,
   "id": "4bd389a8-3858-47ae-bd24-69fd77ccbd96",
   "metadata": {},
   "outputs": [
    {
     "data": {
      "text/plain": [
       "[0, 1, 2, 3, 5, 6, 7]"
      ]
     },
     "execution_count": 84,
     "metadata": {},
     "output_type": "execute_result"
    }
   ],
   "source": [
    "#6. Remove an element from a list by its index.\n",
    "l =[0,1,2,3,4,5,6,7]\n",
    "l.pop(4)\n",
    "l"
   ]
  },
  {
   "cell_type": "code",
   "execution_count": 86,
   "id": "1770f9d6-7e6c-4dd3-929b-b69cecf19f06",
   "metadata": {},
   "outputs": [
    {
     "name": "stdout",
     "output_type": "stream",
     "text": [
      " exists in a list\n"
     ]
    }
   ],
   "source": [
    "#7. Check if an element exists in a list.\n",
    "l =[0,1,2,3,4,5,6,7]\n",
    "check_element = 7\n",
    "if check_element in l:\n",
    "    print(\" exists in a list\")\n",
    "else:\n",
    "    print(\" Does not exists in a list\")"
   ]
  },
  {
   "cell_type": "code",
   "execution_count": 100,
   "id": "07480f5e-7303-491c-9ea5-0159a0fe1f8f",
   "metadata": {},
   "outputs": [
    {
     "name": "stdout",
     "output_type": "stream",
     "text": [
      "first occurrence of an element in a list 10\n"
     ]
    }
   ],
   "source": [
    "#8. Find the index of the first occurrence of an element in a list.\n",
    "l =[5,4,6,7,3,4,5,6,7,8,9]\n",
    "x =9\n",
    "for i in l:\n",
    "    if i == x:\n",
    "        print(\"first occurrence of an element in a list\", l.index(i))\n",
    "        break\n",
    "        \n",
    "    "
   ]
  },
  {
   "cell_type": "code",
   "execution_count": 103,
   "id": "42418793-cfdf-421f-bc9d-5b32904f8c5e",
   "metadata": {},
   "outputs": [
    {
     "name": "stdout",
     "output_type": "stream",
     "text": [
      "occurrences of 5 in a list is 3\n"
     ]
    }
   ],
   "source": [
    "#9. Count the occurrences of an element in a list.\n",
    "\n",
    "l =[5,4,6,7,3,4,5,6,7,8,9,5]\n",
    "x =5\n",
    "count =0\n",
    "for i in l:\n",
    "    if i == x:\n",
    "       count+=1\n",
    "print(f\"occurrences of {x} in a list is\", count)"
   ]
  },
  {
   "cell_type": "code",
   "execution_count": 89,
   "id": "a66d7154-ffab-4961-ad94-f6bf93890a97",
   "metadata": {},
   "outputs": [
    {
     "data": {
      "text/plain": [
       "[7, 6, 5, 4, 3, 2, 1, 0]"
      ]
     },
     "execution_count": 89,
     "metadata": {},
     "output_type": "execute_result"
    }
   ],
   "source": [
    "#10. Reverse the order of elements in a list.\n",
    "l =[0,1,2,3,4,5,6,7]\n",
    "l[::-1]"
   ]
  },
  {
   "cell_type": "code",
   "execution_count": 147,
   "id": "8481afd1-6fcf-4032-8c5d-c7c07e9af0a6",
   "metadata": {},
   "outputs": [
    {
     "name": "stdout",
     "output_type": "stream",
     "text": [
      "[1, 2, 3, 3, 4, 4, 5, 5, 6, 7]\n"
     ]
    }
   ],
   "source": [
    "#11. Sort a list in ascending order.\n",
    "numbers = [1, 3, 4, 2,4,5,3,5,6,7]\n",
    "  \n",
    "# Sorting list of Integers in ascending\n",
    "numbers.sort()\n",
    "print(numbers) \n"
   ]
  },
  {
   "cell_type": "code",
   "execution_count": 148,
   "id": "4b3ca1c2-c4e8-40d0-950a-636d6771a775",
   "metadata": {},
   "outputs": [
    {
     "name": "stdout",
     "output_type": "stream",
     "text": [
      "[7, 6, 5, 5, 4, 4, 3, 3, 2, 1]\n"
     ]
    }
   ],
   "source": [
    "#12. Sort a list in descending order.\n",
    "numbers = [1, 3, 4, 2,4,5,3,5,6,7]\n",
    "  \n",
    "# Sorting list of Integers in ascending\n",
    "numbers.sort(reverse=True)\n",
    "print(numbers) "
   ]
  },
  {
   "cell_type": "code",
   "execution_count": 134,
   "id": "1fe9c053-8f4f-4658-bcef-27e20c0b671d",
   "metadata": {},
   "outputs": [
    {
     "name": "stdout",
     "output_type": "stream",
     "text": [
      "[2, 4, 6, 8, 10, 12, 14, 16, 18, 20]\n"
     ]
    }
   ],
   "source": [
    "#13. Create a list of even numbers from 1 to 20.\n",
    "even = []\n",
    "for i in range(1,21):\n",
    "    if i % 2 == 0:\n",
    "        even.append(i)\n",
    "print(even)\n",
    "        \n",
    "    "
   ]
  },
  {
   "cell_type": "code",
   "execution_count": 133,
   "id": "c013ef58-2ca6-4f5c-867a-e892473cfb49",
   "metadata": {},
   "outputs": [
    {
     "name": "stdout",
     "output_type": "stream",
     "text": [
      "[3, 5, 7]\n"
     ]
    }
   ],
   "source": [
    "#14. Create a list of odd numbers from 1 to 20.\n",
    "l = [2,3,4,5,6,7,8]\n",
    "odd = [i for i in l if i%2 != 0 ]\n",
    "print(odd)"
   ]
  },
  {
   "cell_type": "code",
   "execution_count": 130,
   "id": "50dc20ae-5059-4f48-ab0c-1141821f8a79",
   "metadata": {},
   "outputs": [
    {
     "data": {
      "text/plain": [
       "81"
      ]
     },
     "execution_count": 130,
     "metadata": {},
     "output_type": "execute_result"
    }
   ],
   "source": [
    "#15. Find the sum of all elements in a list.\n",
    "l = [2,3,4,5,67]\n",
    "sum(l)"
   ]
  },
  {
   "cell_type": "code",
   "execution_count": 128,
   "id": "623e0080-bd01-4d17-ae66-474c3e7156ec",
   "metadata": {},
   "outputs": [
    {
     "data": {
      "text/plain": [
       "89"
      ]
     },
     "execution_count": 128,
     "metadata": {},
     "output_type": "execute_result"
    }
   ],
   "source": [
    "#16. Find the maximum value in a list.\n",
    "l = [3,89,9,23,2]\n",
    "max(l)"
   ]
  },
  {
   "cell_type": "code",
   "execution_count": 129,
   "id": "27f100d0-ff0e-4289-b24f-d02c28d0a867",
   "metadata": {},
   "outputs": [
    {
     "data": {
      "text/plain": [
       "2"
      ]
     },
     "execution_count": 129,
     "metadata": {},
     "output_type": "execute_result"
    }
   ],
   "source": [
    "#17. Find the minimum value in a list.\n",
    "l = [3,89,9,23,2]\n",
    "min(l)"
   ]
  },
  {
   "cell_type": "code",
   "execution_count": 125,
   "id": "6054a737-29c7-47c1-ac03-d1098256d714",
   "metadata": {},
   "outputs": [
    {
     "name": "stdout",
     "output_type": "stream",
     "text": [
      "[1, 4, 9, 16, 25, 36, 49, 64, 81, 100]\n"
     ]
    }
   ],
   "source": [
    "#18. Create a list of squares of numbers from 1 to 10.\n",
    "l =[]\n",
    "for i in range(1,11):\n",
    "    square =i*i\n",
    "    l.append(square)\n",
    "print(l)"
   ]
  },
  {
   "cell_type": "code",
   "execution_count": null,
   "id": "2d312568-4af1-40e6-8f20-b6d68564094a",
   "metadata": {},
   "outputs": [],
   "source": [
    "#19. Create a list of random numbers."
   ]
  },
  {
   "cell_type": "code",
   "execution_count": 114,
   "id": "2b119b22-9d94-4c77-a4d6-645ef551bd58",
   "metadata": {},
   "outputs": [
    {
     "data": {
      "text/plain": [
       "[2, 3, 4, 5, 6]"
      ]
     },
     "execution_count": 114,
     "metadata": {},
     "output_type": "execute_result"
    }
   ],
   "source": [
    "#20. Remove duplicates from a list.\n",
    "l =[2,3,4,5,6,4,5,6,3]\n",
    "s = set(l)\n",
    "l1 =list(s)\n",
    "l1"
   ]
  },
  {
   "cell_type": "code",
   "execution_count": 119,
   "id": "fac525f8-27ee-4ab9-bab4-f40237d2b20b",
   "metadata": {},
   "outputs": [
    {
     "data": {
      "text/plain": [
       "[4, 5, 6, 7]"
      ]
     },
     "execution_count": 119,
     "metadata": {},
     "output_type": "execute_result"
    }
   ],
   "source": [
    "#21. Find the common elements between two lists.\n",
    "l1 =[2,3,4,5,6,6,7,]\n",
    "l2 =[4,5,6,7]\n",
    "l3 = list(set(l1).intersection(l2))\n",
    "l3\n"
   ]
  },
  {
   "cell_type": "code",
   "execution_count": 124,
   "id": "cf700238-d6dc-4d8b-923f-b4442e7f276b",
   "metadata": {},
   "outputs": [
    {
     "name": "stdout",
     "output_type": "stream",
     "text": [
      "[2, 3]\n"
     ]
    }
   ],
   "source": [
    "#22. Find the difference between two lists.\n",
    "l1 =[2,3,4,5,6,6,7,]\n",
    "l2 =[4,5,6,7,4]\n",
    "\n",
    "l3 = [i for i in l1 if i not in l2 ]\n",
    "print(l3)"
   ]
  },
  {
   "cell_type": "code",
   "execution_count": 113,
   "id": "5edf147e-9229-4c2e-9f67-900a6dfe09ca",
   "metadata": {},
   "outputs": [
    {
     "data": {
      "text/plain": [
       "[1, 2, 3, 4, 5, 6, 7, 8, 9]"
      ]
     },
     "execution_count": 113,
     "metadata": {},
     "output_type": "execute_result"
    }
   ],
   "source": [
    "#23. Merge two lists.\n",
    "l1 = [1,2,3,4,5]\n",
    "l2 = [6,7,8,9]\n",
    "l1.extend(l2)\n",
    "l1"
   ]
  },
  {
   "cell_type": "code",
   "execution_count": 107,
   "id": "9877be23-6a32-4ef4-9a75-fc739269dade",
   "metadata": {},
   "outputs": [
    {
     "name": "stdout",
     "output_type": "stream",
     "text": [
      "[4, 6, 8, 10, 12, 14]\n"
     ]
    }
   ],
   "source": [
    "#24. Multiply all elements in a list by 2.\n",
    "l = [2,3,4,5,6,7]\n",
    "result = [item*2 for item in l]\n",
    "print(result)"
   ]
  },
  {
   "cell_type": "code",
   "execution_count": 109,
   "id": "97a671ab-3466-414a-878d-3210481fc831",
   "metadata": {},
   "outputs": [
    {
     "name": "stdout",
     "output_type": "stream",
     "text": [
      "[2, 4, 6]\n"
     ]
    }
   ],
   "source": [
    "#25. Filter out all even numbers from a list.\n",
    "l = [2,3,4,5,6,7]\n",
    "result = [i for i in l if i%2 == 0]\n",
    "print(result)\n",
    "    "
   ]
  },
  {
   "cell_type": "code",
   "execution_count": 3,
   "id": "0ad9b8e7-b511-4b36-9aa0-6022abfdb41f",
   "metadata": {},
   "outputs": [
    {
     "name": "stdout",
     "output_type": "stream",
     "text": [
      "[1, 2, 3]\n",
      "Modified list is:  [1, -4, 3, -6, 7]\n"
     ]
    }
   ],
   "source": [
    "#26. Convert a list of strings to a list of integers.\n",
    "l = ['1','2','3']\n",
    "int_list = [int(i) for i in l]\n",
    "print(int_list)\n",
    "\n",
    "lis = ['1', '-4', '3', '-6', '7']\n",
    "res = [eval(i) for i in lis]\n",
    "print(\"Modified list is: \", res)\n",
    "\n"
   ]
  },
  {
   "cell_type": "code",
   "execution_count": 6,
   "id": "7713462b-3879-4a25-acbf-8248126a06f3",
   "metadata": {},
   "outputs": [
    {
     "name": "stdout",
     "output_type": "stream",
     "text": [
      "['2', '3', '4', '5', '6']\n",
      "['2', '3', '4', '5', '6']\n"
     ]
    }
   ],
   "source": [
    "#27. Convert a list of integers to a list of strings.\n",
    "l = [2,3,4,5,6]\n",
    "str_list = list(map(str,l))\n",
    "print(str_list)\n",
    "\n",
    "str_list1 =[str(i) for i in l]\n",
    "print(str_list1)"
   ]
  },
  {
   "cell_type": "code",
   "execution_count": 9,
   "id": "d46e9158-cb36-4735-b348-ff642a5d3f59",
   "metadata": {},
   "outputs": [
    {
     "name": "stdout",
     "output_type": "stream",
     "text": [
      "[2, 3, 2, 3, 4, 5, 4]\n",
      "[2, 3, 2, 3, 4, 5, 4]\n"
     ]
    }
   ],
   "source": [
    "#28. Flatten a nested list.\n",
    "l = [[2,3],[2,3,4,5],[4]]\n",
    "flat_list =[num for sublist in l for num in sublist]\n",
    "print(flat_list)\n",
    "\n",
    "l1 =[]\n",
    "\n",
    "for i in l:\n",
    "    for j in i:\n",
    "        l1.append(j)\n",
    "print(l1)\n"
   ]
  },
  {
   "cell_type": "code",
   "execution_count": 20,
   "id": "2ec68382-b6e3-4e0e-9c62-bf1cc6dfc897",
   "metadata": {},
   "outputs": [
    {
     "name": "stdout",
     "output_type": "stream",
     "text": [
      "a list of the first 10 Fibonacci numbers [0, 1, 1, 2, 3, 5, 8, 13, 21, 34]\n"
     ]
    }
   ],
   "source": [
    "#29. Create a list of the first 10 Fibonacci numbers.\n",
    "num=10\n",
    "num1 = 0\n",
    "num2 = 1\n",
    "\n",
    "fib_list =[]\n",
    "if num == 1:\n",
    "    fib_list.append(0)\n",
    "else:\n",
    "    for i in range(1,11):\n",
    "        fib_list.append(num1)\n",
    "        nth = num1+num2\n",
    "        num1 = num2\n",
    "        num2 =nth\n",
    "        \n",
    "print(\"a list of the first 10 Fibonacci numbers\",fib_list)\n",
    "        \n",
    "    "
   ]
  },
  {
   "cell_type": "code",
   "execution_count": 23,
   "id": "702ba43f-5c1f-4039-abe8-1af74d57d6d4",
   "metadata": {},
   "outputs": [
    {
     "name": "stdout",
     "output_type": "stream",
     "text": [
      "Given list is not sorted\n"
     ]
    }
   ],
   "source": [
    "#30. Check if a list is sorted.\n",
    "l =[1,2,3,4,1,45,3]\n",
    "l1 =sorted(l)\n",
    "\n",
    "if l == l1:\n",
    "    print(\"Given list is sorted.\")\n",
    "else:\n",
    "    print(\"Given list is not sorted\")"
   ]
  },
  {
   "cell_type": "code",
   "execution_count": 25,
   "id": "4b74c399-d7a8-4cc6-ac36-dd707028e1e4",
   "metadata": {},
   "outputs": [
    {
     "name": "stdin",
     "output_type": "stream",
     "text": [
      "Enter Position to Left Rotate List Items =  2\n"
     ]
    },
    {
     "name": "stdout",
     "output_type": "stream",
     "text": [
      "Original List Items Before Left Rotating\n",
      "[11, 22, 33, 44, 55, 66, 77, 88]\n",
      "Final List Items After Left Rotating\n",
      "[33, 44, 55, 66, 77, 88, 11, 22]\n"
     ]
    }
   ],
   "source": [
    "#31. Rotate a list to the left by `n` positions.\n",
    "ltList = [11, 22, 33, 44, 55, 66, 77, 88]\n",
    "\n",
    "ltRotate = int(input(\"Enter Position to Left Rotate List Items = \"))\n",
    "\n",
    "print('Original List Items Before Left Rotating')\n",
    "print(ltList)\n",
    "\n",
    "for i in range(ltRotate):\n",
    "    firstValue = ltList[0]\n",
    "    for j in range(len(ltList) - 1):\n",
    "        ltList[j] = ltList[j + 1]\n",
    "    ltList[len(ltList) - 1] = firstValue\n",
    "\n",
    "print('Final List Items After Left Rotating')\n",
    "print(ltList)\n",
    "    \n"
   ]
  },
  {
   "cell_type": "code",
   "execution_count": null,
   "id": "d8910a8c-11a1-47a3-9625-c694306f1c85",
   "metadata": {},
   "outputs": [],
   "source": [
    "#32. Rotate a list to the right by `n` positions.\n"
   ]
  },
  {
   "cell_type": "code",
   "execution_count": 31,
   "id": "2d3ac12f-6fa1-4868-9bc0-4c1cc05e51fc",
   "metadata": {},
   "outputs": [
    {
     "name": "stdout",
     "output_type": "stream",
     "text": [
      "[1, 2, 3, 5, 7, 11, 13, 17, 19, 23, 29, 31, 37, 41, 43, 47]\n"
     ]
    }
   ],
   "source": [
    "#33. Create a list of prime numbers up to 50.\n",
    "n =50\n",
    "flag=0\n",
    "l_prime =[]\n",
    "for i in range(1,50):\n",
    "    for j in range(2,i): \n",
    "        if(i%j==0):     #checking if number is divisible or not\n",
    "            flag=1        #if number is divisible, then flag variable will become 1\n",
    "            break\n",
    "        else:\n",
    "            flag=0     \n",
    "    if(flag==0):    #if flag variable is 0, then element will append in list \n",
    "            l_prime.append(i)\n",
    "\n",
    "print(l_prime)\n",
    "          \n",
    "        \n"
   ]
  },
  {
   "cell_type": "code",
   "execution_count": 3,
   "id": "c068d89d-c97d-4b39-bcfd-437a637d5298",
   "metadata": {},
   "outputs": [
    {
     "name": "stdout",
     "output_type": "stream",
     "text": [
      "[1, 2]\n",
      "[3, 4]\n",
      "[5, 6]\n",
      "[7, 8]\n",
      "[9]\n"
     ]
    }
   ],
   "source": [
    "#34. Split a list into chunks of size `n`.\n",
    "\n",
    "my_list = [1, 2, 3, 4, 5,\n",
    "           6, 7, 8, 9]\n",
    "start = 0\n",
    "end = len(my_list)\n",
    "step = 2\n",
    "for i in range(start, end, step):\n",
    "    x = i\n",
    "    print(my_list[x:x+step])\n"
   ]
  },
  {
   "cell_type": "code",
   "execution_count": 16,
   "id": "6e9f2a66-b4ba-4942-af58-6648f09f616b",
   "metadata": {},
   "outputs": [
    {
     "name": "stdout",
     "output_type": "stream",
     "text": [
      "84\n"
     ]
    }
   ],
   "source": [
    "#35. Find the second largest number in a list.\n",
    "l = [91,42,33,84,5]\n",
    "l.sort()\n",
    "print(l[-2])       "
   ]
  },
  {
   "cell_type": "code",
   "execution_count": 17,
   "id": "8a60f655-c5dd-4962-8319-6d30f14a8375",
   "metadata": {},
   "outputs": [
    {
     "name": "stdout",
     "output_type": "stream",
     "text": [
      "[25, 16, 9, 36, 49, 64]\n"
     ]
    }
   ],
   "source": [
    "#36. Replace every element in a list with its square.\n",
    "l = [5,4,3,6,7,8]\n",
    "\n",
    "square = [i*i for i in l ]\n",
    "print(square)"
   ]
  },
  {
   "cell_type": "code",
   "execution_count": 19,
   "id": "a335071d-f608-44f2-81d3-6aee86d4fd47",
   "metadata": {},
   "outputs": [
    {
     "data": {
      "text/plain": [
       "{0: 1, 1: 2, 2: 3, 3: 4, 4: 5}"
      ]
     },
     "execution_count": 19,
     "metadata": {},
     "output_type": "execute_result"
    }
   ],
   "source": [
    "#37. Convert a list to a dictionary where list elements become keys and their\n",
    "#indices become values.\n",
    "l = [1,2,3,4,5]\n",
    "d =  {index: value for index, value in enumerate(l)}\n",
    "d  "
   ]
  },
  {
   "cell_type": "code",
   "execution_count": 22,
   "id": "ad4f0a1d-2c93-4681-842d-ed31b7e36a08",
   "metadata": {},
   "outputs": [
    {
     "name": "stdout",
     "output_type": "stream",
     "text": [
      "Original list: [1, 2, 3, 4, 5]\n",
      "Shuffled list: [2, 5, 1, 3, 4]\n"
     ]
    }
   ],
   "source": [
    "#38. Shuffle the elements of a list randomly.\n",
    "import random\n",
    " \n",
    "my_list = [1, 2, 3, 4, 5]\n",
    " \n",
    "shuffled_list = sorted(my_list, key=lambda x: random.random())\n",
    " \n",
    "print(\"Original list:\", my_list)\n",
    "print(\"Shuffled list:\", shuffled_list)"
   ]
  },
  {
   "cell_type": "code",
   "execution_count": 25,
   "id": "798539f1-4ec1-4c67-909c-9a60db819a21",
   "metadata": {},
   "outputs": [
    {
     "data": {
      "text/plain": [
       "[1, 2, 6, 24, 120, 720, 5040, 40320, 362880, 3628800]"
      ]
     },
     "execution_count": 25,
     "metadata": {},
     "output_type": "execute_result"
    }
   ],
   "source": [
    "#39. Create a list of the first 10 factorial numbers\n",
    "l =[]\n",
    "fact = 1\n",
    "for i in range(1,11):\n",
    "    fact  = fact * i\n",
    "    l.append(fact)\n",
    "l\n"
   ]
  },
  {
   "cell_type": "code",
   "execution_count": null,
   "id": "362950db-b7f5-451b-9af9-d41f9ee85130",
   "metadata": {},
   "outputs": [
    {
     "data": {
      "text/plain": [
       "[2, 3, 3, 4, 5, 5, 7, 8]"
      ]
     },
     "execution_count": 23,
     "metadata": {},
     "output_type": "execute_result"
    }
   ],
   "source": [
    "#40. Check if two lists have at least one element in common.\n",
    "\n",
    "\n"
   ]
  },
  {
   "cell_type": "code",
   "execution_count": 39,
   "id": "643a4be8-0db0-4644-aa59-51346095b367",
   "metadata": {},
   "outputs": [
    {
     "data": {
      "text/plain": [
       "[]"
      ]
     },
     "execution_count": 39,
     "metadata": {},
     "output_type": "execute_result"
    }
   ],
   "source": [
    "#41. Remove all elements from a list.\n",
    "l = [0,1,2,3,4,5,5456,56676,566456,]\n",
    "l.clear()\n",
    "l"
   ]
  },
  {
   "cell_type": "code",
   "execution_count": 32,
   "id": "d914dc15-0bcd-4d4a-b414-85ca729eeb5a",
   "metadata": {},
   "outputs": [
    {
     "data": {
      "text/plain": [
       "[0, 5, 0, 0, 8, 0]"
      ]
     },
     "execution_count": 32,
     "metadata": {},
     "output_type": "execute_result"
    }
   ],
   "source": [
    "#42. Replace negative numbers in a list with 0.\n",
    "list1 = [-2,5,-7,0,8,-3]\n",
    "list2 = [0 if i < 0 else i for i in list1]\n",
    "list2"
   ]
  },
  {
   "cell_type": "code",
   "execution_count": 28,
   "id": "ed526fc2-1885-41a2-a6ac-0f82d58e1247",
   "metadata": {},
   "outputs": [
    {
     "data": {
      "text/plain": [
       "['I', 'am', 'in', 'pwskill']"
      ]
     },
     "execution_count": 28,
     "metadata": {},
     "output_type": "execute_result"
    }
   ],
   "source": [
    "#43. Convert a string into a list of words.\n",
    "str = 'I am in pwskill'\n",
    "str.split()"
   ]
  },
  {
   "cell_type": "code",
   "execution_count": 27,
   "id": "7b49ade1-c10f-4184-8a23-68ab7c3b43bc",
   "metadata": {},
   "outputs": [
    {
     "data": {
      "text/plain": [
       "'ramshyamsitagita'"
      ]
     },
     "execution_count": 27,
     "metadata": {},
     "output_type": "execute_result"
    }
   ],
   "source": [
    "#44. Convert a list of words into a string.\n",
    "l = ['ram', 'shyam','sita','gita']\n",
    "str =''\n",
    "for i in l:\n",
    "    str = str+i\n",
    "str"
   ]
  },
  {
   "cell_type": "code",
   "execution_count": 26,
   "id": "d19b783e-9eb4-4200-862e-4edf31727176",
   "metadata": {},
   "outputs": [
    {
     "data": {
      "text/plain": [
       "[2, 4, 8, 16, 32, 64, 128, 256, 512]"
      ]
     },
     "execution_count": 26,
     "metadata": {},
     "output_type": "execute_result"
    }
   ],
   "source": [
    "#45. Create a list of the first `n` powers of 2.\n",
    "n =10\n",
    "l = [2**i for i in range(1,n)]\n",
    "l"
   ]
  },
  {
   "cell_type": "code",
   "execution_count": 53,
   "id": "ad39f5b4-0139-49a9-89e5-e8128a8ec8b1",
   "metadata": {},
   "outputs": [
    {
     "name": "stdout",
     "output_type": "stream",
     "text": [
      "Maximum length string is : Suchitra\n"
     ]
    }
   ],
   "source": [
    "#46. Find the longest string in a list of strings.\n",
    "test_list = ['Arjun', 'Amol','Suchitra','Ram','Jigar']\n",
    "max_len = -1\n",
    "for ele in test_list:\n",
    "    if len(ele) > max_len:\n",
    "        max_len = len(ele)\n",
    "        res = ele\n",
    " \n",
    "# printing result\n",
    "print(\"Maximum length string is : \" + res)"
   ]
  },
  {
   "cell_type": "code",
   "execution_count": 54,
   "id": "2d597125-8023-41ff-9bdb-33aa19a00999",
   "metadata": {},
   "outputs": [
    {
     "name": "stdout",
     "output_type": "stream",
     "text": [
      "Maximum length string is : Ram\n"
     ]
    }
   ],
   "source": [
    "#47. Find the shortest string in a list of strings.\n",
    "test_list = ['Arjun', 'Amol','Suchitra','Ram','Jigar']\n",
    "min_len = len(test_list[0])\n",
    "for ele in test_list:\n",
    "    if len(ele) < min_len:\n",
    "        min_len = len(ele)\n",
    "        res = ele\n",
    " \n",
    "# printing result\n",
    "print(\"Maximum length string is : \" + res)"
   ]
  },
  {
   "cell_type": "code",
   "execution_count": 55,
   "id": "77a6f9ce-3c4b-4f5e-915f-886515062c83",
   "metadata": {},
   "outputs": [
    {
     "name": "stdout",
     "output_type": "stream",
     "text": [
      "[1, 3, 6, 10, 15, 21, 28, 36, 45, 55]\n"
     ]
    }
   ],
   "source": [
    "#48. Create a list of the first `n` triangular numbers.\n",
    "limit = 10\n",
    "triangle_nums = []\n",
    "num = 0\n",
    "\n",
    "for i in range(1, limit + 1):\n",
    "    num += i\n",
    "    triangle_nums.append(num)\n",
    "print(triangle_nums)"
   ]
  },
  {
   "cell_type": "code",
   "execution_count": 58,
   "id": "105208c7-4105-40a6-9e8f-01b3871f52a6",
   "metadata": {},
   "outputs": [
    {
     "ename": "TypeError",
     "evalue": "'str' object is not callable",
     "output_type": "error",
     "traceback": [
      "\u001b[0;31m---------------------------------------------------------------------------\u001b[0m",
      "\u001b[0;31mTypeError\u001b[0m                                 Traceback (most recent call last)",
      "Cell \u001b[0;32mIn[58], line 6\u001b[0m\n\u001b[1;32m      3\u001b[0m sub_list \u001b[38;5;241m=\u001b[39m [\u001b[38;5;241m10\u001b[39m, \u001b[38;5;241m5\u001b[39m, \u001b[38;5;241m4\u001b[39m]\n\u001b[1;32m      5\u001b[0m \u001b[38;5;66;03m# printing original lists\u001b[39;00m\n\u001b[0;32m----> 6\u001b[0m \u001b[38;5;28mprint\u001b[39m(\u001b[38;5;124m\"\u001b[39m\u001b[38;5;124mOriginal list : \u001b[39m\u001b[38;5;124m\"\u001b[39m , \u001b[38;5;28;43mstr\u001b[39;49m\u001b[43m(\u001b[49m\u001b[43mtest_list\u001b[49m\u001b[43m)\u001b[49m)\n\u001b[1;32m      7\u001b[0m \u001b[38;5;28mprint\u001b[39m(\u001b[38;5;124m\"\u001b[39m\u001b[38;5;124mOriginal sub list : \u001b[39m\u001b[38;5;124m\"\u001b[39m , \u001b[38;5;28mstr\u001b[39m(sub_list))\n\u001b[1;32m      9\u001b[0m \u001b[38;5;66;03m# using all() to\u001b[39;00m\n\u001b[1;32m     10\u001b[0m \u001b[38;5;66;03m# check subset of list\u001b[39;00m\n",
      "\u001b[0;31mTypeError\u001b[0m: 'str' object is not callable"
     ]
    }
   ],
   "source": [
    "#49. Check if a list contains another list as a subsequence.\n",
    "test_list = [9, 4, 5, 8, 10]\n",
    "sub_list = [10, 5, 4]\n",
    " \n",
    "# printing original lists\n",
    "print(\"Original list : \" , str(test_list))\n",
    "print(\"Original sub list : \" , str(sub_list))\n",
    " \n",
    "# using all() to\n",
    "# check subset of list\n",
    "flag = 0\n",
    "if(all(x in test_list for x in sub_list)):\n",
    "    flag = 1\n",
    " \n",
    "# printing result\n",
    "if (flag):\n",
    "    print(\"Yes, list is subset of other.\")\n",
    "else:\n",
    "    print(\"No, list is not subset of other.\")"
   ]
  },
  {
   "cell_type": "code",
   "execution_count": null,
   "id": "597a453a-0d56-452f-aaff-ed32cc685eb5",
   "metadata": {},
   "outputs": [],
   "source": [
    "#50. Swap two elements in a list by their indices.\n"
   ]
  },
  {
   "cell_type": "code",
   "execution_count": null,
   "id": "ed4f042f-06ef-4f08-a841-4482ee19d9a6",
   "metadata": {},
   "outputs": [],
   "source": []
  }
 ],
 "metadata": {
  "kernelspec": {
   "display_name": "Python 3 (ipykernel)",
   "language": "python",
   "name": "python3"
  },
  "language_info": {
   "codemirror_mode": {
    "name": "ipython",
    "version": 3
   },
   "file_extension": ".py",
   "mimetype": "text/x-python",
   "name": "python",
   "nbconvert_exporter": "python",
   "pygments_lexer": "ipython3",
   "version": "3.10.8"
  }
 },
 "nbformat": 4,
 "nbformat_minor": 5
}
