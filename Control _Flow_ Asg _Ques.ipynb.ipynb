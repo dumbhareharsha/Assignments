{
 "cells": [
  {
   "cell_type": "markdown",
   "id": "f6a8b278-5737-45a7-a667-b32ef2832a9d",
   "metadata": {},
   "source": [
    "Basic If-Else Statements:"
   ]
  },
  {
   "cell_type": "code",
   "execution_count": 3,
   "id": "e2999b5c-23b0-4f6f-a89e-af81fe69e3a0",
   "metadata": {},
   "outputs": [
    {
     "name": "stdin",
     "output_type": "stream",
     "text": [
      "Enter a number:  0\n"
     ]
    },
    {
     "name": "stdout",
     "output_type": "stream",
     "text": [
      "Numer is zero\n"
     ]
    }
   ],
   "source": [
    "#1. Write a Python program to check if a given number is positive or negative.\n",
    "num = int(input(\"Enter a number: \"))\n",
    "\n",
    "if num > 0:\n",
    "        print(\"Number is positive.\")\n",
    "elif num < 0:\n",
    "        print(\"Number is negative.\")\n",
    "else:\n",
    "    print(\"Number is zero.\")\n",
    "    "
   ]
  },
  {
   "cell_type": "code",
   "execution_count": 5,
   "id": "0e90642a-026e-4078-92a2-39fe5ab447bc",
   "metadata": {},
   "outputs": [
    {
     "name": "stdin",
     "output_type": "stream",
     "text": [
      "Enter the age:  18\n"
     ]
    },
    {
     "name": "stdout",
     "output_type": "stream",
     "text": [
      "Person is eligible to vote.\n"
     ]
    }
   ],
   "source": [
    "#2. Create a program that determines if a person is eligible to vote based on their age.\n",
    "age = int(input(\"Enter the age: \"))\n",
    "\n",
    "if age >= 18:\n",
    "    print(\"Person is eligible to vote.\")\n",
    "else:\n",
    "    print(\"person is not eligible to vote\")\n"
   ]
  },
  {
   "cell_type": "code",
   "execution_count": 8,
   "id": "4acc9f9e-47bf-4489-8104-7eea28fb03e3",
   "metadata": {},
   "outputs": [
    {
     "name": "stdin",
     "output_type": "stream",
     "text": [
      "Enter the first number:  56\n",
      "Enter the second number:  45\n"
     ]
    },
    {
     "name": "stdout",
     "output_type": "stream",
     "text": [
      "First number is larger.\n"
     ]
    }
   ],
   "source": [
    "#3. Develop a program to find the maximum of two numbers using if-else statements\n",
    "num1 = int(input(\"Enter the first number: \"))\n",
    "num2 = int(input(\"Enter the second number: \"))\n",
    "\n",
    "if num1 > num2:\n",
    "    print(\"First number is larger.\")\n",
    "elif num2 > num1:\n",
    "    print(\"Second number is larger.\")\n",
    "else:\n",
    "    print(\"Numbers are equal.\")"
   ]
  },
  {
   "cell_type": "code",
   "execution_count": 10,
   "id": "cb460c88-abea-456d-9142-0adc8aa70116",
   "metadata": {},
   "outputs": [
    {
     "name": "stdin",
     "output_type": "stream",
     "text": [
      "Enter the year:  1700\n"
     ]
    },
    {
     "name": "stdout",
     "output_type": "stream",
     "text": [
      "Given year is not leap year.\n"
     ]
    }
   ],
   "source": [
    "#4. Write a Python script to classify a given year as a leap year or not.\n",
    "year = int(input(\"Enter the year: \"))\n",
    "\n",
    "if ((year % 400 == 0) or (year % 100 != 0) and  (year % 4 == 0)): \n",
    "    print(\"Given year is a leap year.\")\n",
    "else:\n",
    "    print(\"Given year is not a leap year.\")\n"
   ]
  },
  {
   "cell_type": "code",
   "execution_count": 18,
   "id": "31177f64-fa6f-43cb-94b6-980fba992ddc",
   "metadata": {},
   "outputs": [
    {
     "name": "stdin",
     "output_type": "stream",
     "text": [
      "Enter the character:  A\n"
     ]
    },
    {
     "name": "stdout",
     "output_type": "stream",
     "text": [
      "It is vowel.\n"
     ]
    }
   ],
   "source": [
    "#5. Create a program that checks whether a character is a vowel or a consonant.\n",
    "char = input(\"Enter the character: \")\n",
    "\n",
    "list_vowel=['a','e','i','o','u','A','E','I','O','U']\n",
    "\n",
    "if char in list_vowel:\n",
    "    print(\"It is vowel.\")\n",
    "else:\n",
    "    print(\"It is consonant.\")\n"
   ]
  },
  {
   "cell_type": "code",
   "execution_count": 21,
   "id": "624e622f-df1a-42d7-9f72-1ef3457f5bf2",
   "metadata": {},
   "outputs": [
    {
     "name": "stdin",
     "output_type": "stream",
     "text": [
      "Enter the number:  9\n"
     ]
    },
    {
     "name": "stdout",
     "output_type": "stream",
     "text": [
      "Number is odd.\n"
     ]
    }
   ],
   "source": [
    "#6. Implement a program to determine whether a given number is even or odd.\n",
    "num = int(input(\"Enter the number: \"))\n",
    "if num % 2 == 0:\n",
    "        print(\"Number is even.\")\n",
    "else:\n",
    "    print(\"Number is odd.\")"
   ]
  },
  {
   "cell_type": "code",
   "execution_count": 22,
   "id": "c9b9d901-b342-448c-914c-08fecfde015a",
   "metadata": {},
   "outputs": [
    {
     "name": "stdin",
     "output_type": "stream",
     "text": [
      "Enter the number:  -7\n"
     ]
    },
    {
     "name": "stdout",
     "output_type": "stream",
     "text": [
      "Absolute number is:  7\n"
     ]
    }
   ],
   "source": [
    "#7. Write a Python function to calculate the absolute value of a number without using the `abs()` function.\n",
    "num = int(input(\"Enter the number: \"))\n",
    "if num >= 0:\n",
    "    print(\"Absolute number is: \",num)\n",
    "else:\n",
    "    print(\"Absolute number is: \",-num)"
   ]
  },
  {
   "cell_type": "code",
   "execution_count": 27,
   "id": "21e53dfa-8652-41c7-833f-fb04efb4227e",
   "metadata": {},
   "outputs": [
    {
     "name": "stdin",
     "output_type": "stream",
     "text": [
      "Enter first no.  30\n",
      "Enter second no.  20\n",
      "Enter third no.  10\n"
     ]
    },
    {
     "name": "stdout",
     "output_type": "stream",
     "text": [
      "First number is largest.\n"
     ]
    }
   ],
   "source": [
    "#8. Develop a program that determines the largest of three given numbers using if-else statements.\n",
    "num1 = int(input(\"Enter first no. \"))\n",
    "num2 = int(input(\"Enter second no. \"))\n",
    "num3 =int(input(\"Enter third no. \"))\n",
    "\n",
    "if num1 >=num2 and num1 >= num3:\n",
    "    print(\"First number is largest.\")\n",
    "elif num2 >= num3 and num2>= num1:\n",
    "    print(\"Second numder is largest.\")\n",
    "else:\n",
    "    print(\"Third number is largest.\")"
   ]
  },
  {
   "cell_type": "code",
   "execution_count": 29,
   "id": "043cbdfb-c70f-4cba-8142-ec9ed3f80d35",
   "metadata": {},
   "outputs": [
    {
     "name": "stdin",
     "output_type": "stream",
     "text": [
      "Enter the string.  POMOP\n"
     ]
    },
    {
     "name": "stdout",
     "output_type": "stream",
     "text": [
      "String is palindrom.\n"
     ]
    }
   ],
   "source": [
    "#9. Create a program that checks if a given string is a palindrome.\n",
    "str = input(\"Enter the string. \")\n",
    "\n",
    "if str.lower() == str[::-1].lower():\n",
    "    print(\"String is palindrom.\")\n",
    "else:\n",
    "    print(\"String is not palindrom\")"
   ]
  },
  {
   "cell_type": "code",
   "execution_count": 42,
   "id": "8a1e9cef-aea7-4719-8568-fa1e09f165e0",
   "metadata": {},
   "outputs": [
    {
     "name": "stdin",
     "output_type": "stream",
     "text": [
      "Enter the score out of 100.  90\n"
     ]
    },
    {
     "name": "stdout",
     "output_type": "stream",
     "text": [
      "Grade is A\n"
     ]
    }
   ],
   "source": [
    "#10. Write a Python program to calculate the grade based on a student's score.\n",
    "score = int(input(\"Enter the score out of 100. \"))\n",
    "if score <=100 and score >=91:\n",
    "    print(\"Grade is A+\")\n",
    "if score <91 and score >=81:\n",
    "    print(\"Grade is A\")\n",
    "if score <81 and score >=71:\n",
    "    print(\"Grade is B+\")\n",
    "if score <70 and score >=61:\n",
    "    print(\"Grade is B\")\n",
    "if score <61 and score >=50:\n",
    "    print(\"Grade is C\")\n",
    "else:\n",
    "    print(\"Grade is D\")\n",
    "\n"
   ]
  },
  {
   "cell_type": "markdown",
   "id": "7c1e15c3-7582-4484-a8be-2da081cf8fc2",
   "metadata": {},
   "source": [
    "Nested If-Else Statements:"
   ]
  },
  {
   "cell_type": "code",
   "execution_count": 1,
   "id": "6cdfae9a-b625-48ca-89eb-a112e4a25ed4",
   "metadata": {},
   "outputs": [
    {
     "name": "stdin",
     "output_type": "stream",
     "text": [
      "Enter num1:  10\n",
      "Enter num2:  20\n",
      "Enter num3:  30\n"
     ]
    },
    {
     "name": "stdout",
     "output_type": "stream",
     "text": [
      "largest number is  30\n"
     ]
    }
   ],
   "source": [
    "#11. Write a program to find the largest among three numbers using nested if-else statements.\n",
    "num1 = int(input(\"Enter num1: \"))\n",
    "num2 = int(input(\"Enter num2: \"))\n",
    "num3 = int(input(\"Enter num3: \"))\n",
    "\n",
    "if num1 >= num2:\n",
    "    if num1 >= num3:\n",
    "        print(\"laregest number is \",num1)\n",
    "    else:\n",
    "        print(\"largest number is \",num3)\n",
    "else:\n",
    "    if num2>= num3:\n",
    "        print(\"largest number is \",num2)\n",
    "    else:\n",
    "        print(\"largest number is \",num3)\n",
    "\n"
   ]
  },
  {
   "cell_type": "code",
   "execution_count": 1,
   "id": "c08ec481-9f39-47d2-b103-4d94a7e4ae80",
   "metadata": {},
   "outputs": [
    {
     "name": "stdin",
     "output_type": "stream",
     "text": [
      "Enter side1 of a triangle:  10\n",
      "Enter side2 of a triangle:  20\n",
      "Enter side3 of a triangle:  30\n"
     ]
    },
    {
     "name": "stdout",
     "output_type": "stream",
     "text": [
      "Triangle is scalene.\n"
     ]
    }
   ],
   "source": [
    "#12. Implement a program to determine if a triangle is equilateral, isosceles, or scalene.\n",
    "side1 = int(input(\"Enter side1 of a triangle: \"))\n",
    "side2 = int(input(\"Enter side2 of a triangle: \"))\n",
    "side3 = int(input(\"Enter side3 of a triangle: \"))\n",
    "\n",
    "if side1 == side2:\n",
    "    if side2 == side3:\n",
    "        print(\"triangle is equilateral.\")\n",
    "    else:\n",
    "        print(\"triangle is isosceles.\")\n",
    "else:\n",
    "    print(\"Triangle is scalene.\")"
   ]
  },
  {
   "cell_type": "code",
   "execution_count": 3,
   "id": "d6ef99fb-417b-4cb4-bdc6-74792d73af04",
   "metadata": {},
   "outputs": [
    {
     "name": "stdin",
     "output_type": "stream",
     "text": [
      "Enter the year:  2000\n"
     ]
    },
    {
     "name": "stdout",
     "output_type": "stream",
     "text": [
      "2000 is centrury year\n",
      "2000 is a leap year\n"
     ]
    }
   ],
   "source": [
    "#13. Develop a program that checks if a year is a leap year and also if it is a century year.\n",
    "year = int(input(\"Enter the year: \"))\n",
    "\n",
    "if year % 4 == 0:\n",
    "        if year % 100 == 0:\n",
    "            print(f\"{year} is centrury year\")\n",
    "            if year % 400 == 0:\n",
    "                print(f\"{year} is a leap year\")\n",
    "            else:\n",
    "                print(f\"{year} is not a leap year\")\n",
    "        else:\n",
    "            print(f\"{year} is a leap year\")\n",
    "else:\n",
    "    print(f\"{year} is not a leap year\")\n"
   ]
  },
  {
   "cell_type": "code",
   "execution_count": 39,
   "id": "1f3b7d1f-2baa-400a-a4e0-b8ec4f5cccb8",
   "metadata": {},
   "outputs": [
    {
     "name": "stdin",
     "output_type": "stream",
     "text": [
      "Input a number:  -9\n"
     ]
    },
    {
     "name": "stdout",
     "output_type": "stream",
     "text": [
      "Number is Negative number. \n"
     ]
    }
   ],
   "source": [
    "#14. Write a Python script to determine if a number is positive, negative, or zero.\n",
    "n = float(input(\"Input a number: \"))\n",
    "if n >= 0:\n",
    "    if n == 0:\n",
    "        print(\"It is Zero\") \n",
    "    else: \n",
    "        print(\"Number is Positive number. \")\n",
    "else: \n",
    "    print(\"Number is Negative number. \")\n",
    "    "
   ]
  },
  {
   "cell_type": "code",
   "execution_count": 53,
   "id": "78ffde08-2170-471d-b55e-abfe99d16394",
   "metadata": {},
   "outputs": [
    {
     "name": "stdin",
     "output_type": "stream",
     "text": [
      "Enter the age:  20\n"
     ]
    },
    {
     "name": "stdout",
     "output_type": "stream",
     "text": [
      "Person is not teenager\n"
     ]
    }
   ],
   "source": [
    "#15. Create a program to check if a person is a teenager (between 13 and 19 years old).\n",
    "age = int(input(\"Enter the age: \"))\n",
    "if age <=19:\n",
    "    if age >= 13:\n",
    "        print(\"Person is teenager\")\n",
    "    else:\n",
    "        print(\"Person is not teenager\")\n",
    "else:\n",
    "    print(\"Person is not teenager\")\n",
    "          \n",
    "          "
   ]
  },
  {
   "cell_type": "code",
   "execution_count": 65,
   "id": "2e6333f4-dfca-4475-b697-2b4b66964742",
   "metadata": {},
   "outputs": [
    {
     "name": "stdin",
     "output_type": "stream",
     "text": [
      "Enter the degree of angle between 1 to 180:  90\n"
     ]
    },
    {
     "name": "stdout",
     "output_type": "stream",
     "text": [
      "Angle is right angle\n"
     ]
    }
   ],
   "source": [
    "#16. Develop a program that determines the type of angle based on its measure (acute, obtuse, or right).\n",
    "angle = int(input(\"Enter the degree of angle between 1 to 180: \"))\n",
    "if angle <=90:\n",
    "    if angle ==90:\n",
    "        print(\"Angle is right angle\")\n",
    "    else:\n",
    "        print(\"Angle is acute angle\")\n",
    "else:\n",
    "    print(\"Angle is abtuse angle\")"
   ]
  },
  {
   "cell_type": "code",
   "execution_count": 1,
   "id": "e2f4e2c1-77d8-466a-8669-f322a9e2ff98",
   "metadata": {},
   "outputs": [
    {
     "name": "stdout",
     "output_type": "stream",
     "text": [
      "Quadratic function : (a * x^2) + b*x + c\n"
     ]
    },
    {
     "name": "stdin",
     "output_type": "stream",
     "text": [
      "a:  5\n",
      "b:  20\n",
      "c:  10\n"
     ]
    },
    {
     "name": "stdout",
     "output_type": "stream",
     "text": [
      "There are 2 roots: -0.585786 and -3.414214\n"
     ]
    }
   ],
   "source": [
    "#17. Write a Python program to calculate the roots of a quadratic equation.\n",
    "from math import sqrt\n",
    "\n",
    "print(\"Quadratic function : (a * x^2) + b*x + c\")\n",
    "a = float(input(\"a: \"))\n",
    "b = float(input(\"b: \"))\n",
    "c = float(input(\"c: \"))\n",
    "\n",
    "r = b**2 - 4*a*c\n",
    "\n",
    "if r >= 0:\n",
    "    if r>0:\n",
    "        num_roots = 2\n",
    "        x1 = (((-b) + sqrt(r))/(2*a))     \n",
    "        x2 = (((-b) - sqrt(r))/(2*a))\n",
    "        print(\"There are 2 roots: %f and %f\" % (x1, x2))\n",
    "    else:\n",
    "        \n",
    "        num_roots = 1\n",
    "        x = (-b) / 2*a\n",
    "        print(\"There is one root: \", x)\n",
    "else:\n",
    "    num_roots = 0\n",
    "    print(\"No roots, discriminant < 0.\")\n",
    "    exit()"
   ]
  },
  {
   "cell_type": "code",
   "execution_count": 17,
   "id": "0d934ad7-5612-4543-909f-65172278fcf3",
   "metadata": {},
   "outputs": [
    {
     "name": "stdin",
     "output_type": "stream",
     "text": [
      "Enter a number from 1 to 7:  1\n"
     ]
    },
    {
     "name": "stdout",
     "output_type": "stream",
     "text": [
      "1 is Sunday\n"
     ]
    }
   ],
   "source": [
    "#18. Implement a program to determine the day of the week based on a user-provided number (1 for Monday, 2\n",
    "#for Tuesday, etc.).\n",
    "day = int(input(\"Enter a number from 1 to 7: \"))\n",
    "if day == 1: \n",
    "    print(day, \"is Sunday\") \n",
    "elif day == 2:\n",
    "    print(day, \"is Monday\") \n",
    "elif day == 3: \n",
    "    print(day, \"is Tuesday\") \n",
    "elif day == 4:\n",
    "    print(day, \"is Wednesday\") \n",
    "elif day == 5:\n",
    "    print(day, \"is Thursday\") \n",
    "elif day == 6: \n",
    "    print(day, \"is Friday\") \n",
    "elif day == 7:\n",
    "    print(day, \"is Saturday\")"
   ]
  },
  {
   "cell_type": "code",
   "execution_count": null,
   "id": "488255cf-891a-40c8-9ddf-a06f6d22680d",
   "metadata": {},
   "outputs": [
    {
     "name": "stdin",
     "output_type": "stream",
     "text": [
      "Enter the year:  2000\n"
     ]
    },
    {
     "name": "stdout",
     "output_type": "stream",
     "text": [
      "2000 is not a leap year\n"
     ]
    }
   ],
   "source": [
    "#19. Create a program that determines if a year is a leap year and also if it is evenly divisible by 400.\n",
    "year = int(input(\"Enter the year: \"))\n",
    "\n",
    "if year % 4 == 0:\n",
    "        if year % 100 != 0:\n",
    "            if year % 400 == 0:\n",
    "                print(f\"{year} is a leap year\")\n",
    "                print(\"it is evenly divisible by 400\")\n",
    "            else:\n",
    "                print(f\"{year} is not a leap year\")\n",
    "        else:\n",
    "            print(f\"{year} is a leap year\")\n",
    "else:\n",
    "    print(f\"{year} is not a leap year\")"
   ]
  },
  {
   "cell_type": "code",
   "execution_count": 41,
   "id": "d5347d70-97d6-468e-b245-3a73ae7c0603",
   "metadata": {},
   "outputs": [
    {
     "name": "stdin",
     "output_type": "stream",
     "text": [
      "Enter the number:  2\n"
     ]
    },
    {
     "name": "stdout",
     "output_type": "stream",
     "text": [
      "2 is prime number\n"
     ]
    }
   ],
   "source": [
    "#20. Develop a program that checks if a given number is prime or not using nested if-else statements.\n",
    "num = int(input(\"Enter the number: \"))\n",
    "flag= False\n",
    "if num == 1:\n",
    "    print(f\"{num} is not prime number\")\n",
    "else:\n",
    "    for i in range(2,num):\n",
    "        if num%i==0:\n",
    "            flag =True\n",
    "            break\n",
    "    if flag ==True:\n",
    "        print(f\"{num} is not prime number\")\n",
    "    else:\n",
    "        print(f\"{num} is prime number\")\n",
    "\n",
    "         "
   ]
  },
  {
   "cell_type": "markdown",
   "id": "b74a527d-ed4e-4bec-b4df-4419289f8ddf",
   "metadata": {},
   "source": [
    "Elif Statements:"
   ]
  },
  {
   "cell_type": "code",
   "execution_count": 43,
   "id": "1f0798ef-e78d-48e7-96d0-7cf2de693bc9",
   "metadata": {},
   "outputs": [
    {
     "name": "stdin",
     "output_type": "stream",
     "text": [
      "Enter the score out of 100.  80\n"
     ]
    },
    {
     "name": "stdout",
     "output_type": "stream",
     "text": [
      "Grade is B+\n"
     ]
    }
   ],
   "source": [
    "#21. Write a Python program to assign grades based on different ranges of scores using elif statements\n",
    "score = int(input(\"Enter the score out of 100. \"))\n",
    "if score <=100 and score >=91:\n",
    "    print(\"Grade is A+\")\n",
    "elif score <91 and score >=81:\n",
    "    print(\"Grade is A\")\n",
    "elif score <81 and score >=71:\n",
    "    print(\"Grade is B+\")\n",
    "elif score <70 and score >=61:\n",
    "    print(\"Grade is B\")\n",
    "elif score <61 and score >=50:\n",
    "    print(\"Grade is C\")\n",
    "else:\n",
    "    print(\"Grade is D\")\n"
   ]
  },
  {
   "cell_type": "code",
   "execution_count": 52,
   "id": "5d39ba44-767a-4484-b5c0-338ac3a1762f",
   "metadata": {},
   "outputs": [
    {
     "name": "stdin",
     "output_type": "stream",
     "text": [
      "Enter angle a:  60\n",
      "Enter angle b:  60\n",
      "Enter angle c:  60\n"
     ]
    },
    {
     "name": "stdout",
     "output_type": "stream",
     "text": [
      "Triangle is Equilateral.\n"
     ]
    }
   ],
   "source": [
    "#22. Implement a program to determine the type of a triangle based on its angles.\n",
    "a = int(input(\"Enter angle a: \"))\n",
    "b = int(input(\"Enter angle b: \"))\n",
    "c = int(input(\"Enter angle c: \"))\n",
    "\n",
    "if a+b+c == 180:\n",
    "    if a == b and b == c:\n",
    "        print(\"Triangle is Equilateral.\")\n",
    "    elif a == b or b == c or c == a:\n",
    "        print(\"Triangle is isosceles.\")\n",
    "    else:\n",
    "        print(\"Triangle is scalene \")\n",
    "else:\n",
    "    print(\"Tringle is not possible from given angle\")"
   ]
  },
  {
   "cell_type": "code",
   "execution_count": 54,
   "id": "cd4f4dd2-cca3-4709-9859-f03f1ee9a455",
   "metadata": {},
   "outputs": [
    {
     "name": "stdin",
     "output_type": "stream",
     "text": [
      "Enter the bmi:  20\n"
     ]
    },
    {
     "name": "stdout",
     "output_type": "stream",
     "text": [
      "Your weight is normal.\n"
     ]
    }
   ],
   "source": [
    "#23. Develop a program to categorize a given person's BMI into underweight, normal, overweight, or obese using\n",
    "#elif statements.\n",
    "bmi = float(input(\"Enter the bmi: \"))\n",
    "if bmi <= 18.5: \n",
    "    print(\"You are underweight.\") \n",
    "elif 18.5 < bmi <= 24.9: \n",
    "    print(\"Your weight is normal.\") \n",
    "elif 25 < bmi <= 29.29: \n",
    "    print(\"You are overweight.\") \n",
    "else: print(\"You are obese.\")\n"
   ]
  },
  {
   "cell_type": "code",
   "execution_count": 55,
   "id": "2798f6ad-5dfa-4b29-bef0-84c9a2910018",
   "metadata": {},
   "outputs": [
    {
     "name": "stdin",
     "output_type": "stream",
     "text": [
      "Input a number:  -9\n"
     ]
    },
    {
     "name": "stdout",
     "output_type": "stream",
     "text": [
      "Number is Negative number. \n"
     ]
    }
   ],
   "source": [
    "#24. Create a program that determines whether a given number is positive, negative, or zero using elif statements.\n",
    "n = float(input(\"Input a number: \"))\n",
    "if n > 0:\n",
    "    print(\"Number is Positive number. \")\n",
    "elif n < 0:\n",
    "     print(\"Number is Negative number. \")\n",
    "else:\n",
    "    print(\"It is Zero! \") \n",
    "   "
   ]
  },
  {
   "cell_type": "code",
   "execution_count": 58,
   "id": "40fe63d2-5250-43a1-9f45-bd27f2aebe60",
   "metadata": {},
   "outputs": [
    {
     "name": "stdin",
     "output_type": "stream",
     "text": [
      "Enter the Character:  T\n"
     ]
    },
    {
     "name": "stdout",
     "output_type": "stream",
     "text": [
      "T is a upper case letter.\n"
     ]
    }
   ],
   "source": [
    "#25. Write a Python script to determine the type of a character (uppercase, lowercase, or special) using elif statements\n",
    "char = input(\"Enter the Character: \")\n",
    "lowercase = 'abcdefghijklmnopqrstuvwxyz'\n",
    "uppercase = 'ABCDEFGHIJKLMNOPQRSTUVWXYZ'\n",
    "special = '!@#$%^&*?~'\n",
    "if char in lowercase:\n",
    "    print(f\"{char} is a lower case letter.\")\n",
    "elif char in uppercase:\n",
    "     print(f\"{char} is a upper case letter.\")\n",
    "else:\n",
    "    print(f\"{char} is a special character\")\n"
   ]
  },
  {
   "cell_type": "code",
   "execution_count": 66,
   "id": "3c1fc848-bce0-4d90-bda5-b92ff56e78ff",
   "metadata": {},
   "outputs": [
    {
     "name": "stdin",
     "output_type": "stream",
     "text": [
      "Please enter a total_cost: 400\n"
     ]
    },
    {
     "name": "stdout",
     "output_type": "stream",
     "text": [
      "You have won a discount by 10 percent\n",
      "Now the total cost is  360.0 Rs.\n"
     ]
    }
   ],
   "source": [
    "#26. Implement a program to calculate the discounted price based on different purchase amounts using elif statements.\n",
    "total_cost = float(input('Please enter a total_cost:'))\n",
    "if total_cost>=500:    \n",
    "    print(\"You have won a discount by 15 percent\")\n",
    "    total_cost *= 0.85\n",
    "elif total_cost>100:\n",
    "    print(\"You have won a discount by 10 percent\")\n",
    "    total_cost *= 0.9\n",
    "elif total_cost>=50:\n",
    "    print(\"You have won a discount by 5 percent\")\n",
    "    total_cost *= 0.95\n",
    "else:\n",
    "    print( 'you total cost is not in the range of discount!')\n",
    "print ('Now the total cost is ', total_cost, 'Rs.')"
   ]
  },
  {
   "cell_type": "code",
   "execution_count": 67,
   "id": "141f2615-455e-4002-b4af-97e6a068ff33",
   "metadata": {},
   "outputs": [
    {
     "name": "stdin",
     "output_type": "stream",
     "text": [
      "please enter the number of units you consumed in a month:  300\n"
     ]
    },
    {
     "name": "stdout",
     "output_type": "stream",
     "text": [
      "\n",
      "Electicity bill=875.00\n"
     ]
    }
   ],
   "source": [
    "#27. Develop a program to calculate the electricity bill based on different consumption slabs using elif statements\n",
    "units=int(input(\"please enter the number of units you consumed in a month: \"))\n",
    "if(units<=100):\n",
    "    payAmount=units*1.5\n",
    "    fixedcharge=25.00\n",
    "elif(units<=200):\n",
    "    payAmount=(100*1.5)+(units-100)*2.5\n",
    "    fixedcharge=50.00\n",
    "elif(units<=300):\n",
    "    payAmount=(100*1.5)+(200-100)*2.5+(units-200)*4\n",
    "    fixedcharge=75.00\n",
    "elif(units<=350):\n",
    "    payAmount=(100*1.5)+(200-100)*2.5+(300-200)*4+(units-300)*5\n",
    "    fixedcharge=100.00\n",
    "else:\n",
    "    payAmount=0\n",
    "    fixedcharge=1500.00\n",
    "Total=payAmount+fixedcharge;\n",
    "print(\"\\nElecticity bill=%.2f\" %Total)"
   ]
  },
  {
   "cell_type": "code",
   "execution_count": 70,
   "id": "a85449f5-ca75-419c-bfa0-1452c12735e9",
   "metadata": {},
   "outputs": [
    {
     "name": "stdin",
     "output_type": "stream",
     "text": [
      "Enter side1:  2\n",
      "Enter side2:  2\n",
      "Enter side3:  2\n",
      "Enter side4:  2\n",
      "Enter angle1:  30\n",
      "Enter angle2:  150\n",
      "Enter angle3:  30\n",
      "Enter angle4:  150\n"
     ]
    },
    {
     "name": "stdout",
     "output_type": "stream",
     "text": [
      "quadrilateral is Rhombus \n"
     ]
    }
   ],
   "source": [
    "#28. Create a program to determine the type of quadrilateral based on its angles and sides using elif statements.\n",
    "side1 =int(input(\"Enter side1: \"))\n",
    "side2 =int(input(\"Enter side2: \"))\n",
    "side3 =int(input(\"Enter side3: \"))\n",
    "side4 =int(input(\"Enter side4: \"))\n",
    "angle1 =int(input(\"Enter angle1: \"))\n",
    "angle2 =int(input(\"Enter angle2: \"))\n",
    "angle3 =int(input(\"Enter angle3: \"))\n",
    "angle4 =int(input(\"Enter angle4: \"))\n",
    "\n",
    "if angle1+ angle2+ angle3+ angle4==360:\n",
    "    if side1==side2==side3==side4 and angle1==angle2==angle3==angle4:\n",
    "        print(\"quadrilateral is Square\")\n",
    "    elif side1==side2==side3==side4 and angle1==angle3 and angle2==angle4:\n",
    "         print(\"quadrilateral is Rhombus \")\n",
    "    elif side1==side3 and side3==side4 and angle1==angle2== angle3==angle4:\n",
    "         print(\"quadrilateral is Rectangle\")\n",
    "else:\n",
    "    print(\"It is not quadrilateral\")"
   ]
  },
  {
   "cell_type": "code",
   "execution_count": 71,
   "id": "57e235d1-a48a-4d27-b378-124badf379fd",
   "metadata": {},
   "outputs": [
    {
     "name": "stdin",
     "output_type": "stream",
     "text": [
      "Enter the month:  December\n"
     ]
    },
    {
     "name": "stdout",
     "output_type": "stream",
     "text": [
      "Its Winter \n"
     ]
    }
   ],
   "source": [
    "#29. Write a Python script to determine the season based on a user-provided month using elif statements.\n",
    "month = input(\"Enter the month: \")\n",
    "if month=='March' or month == 'April' or month == 'May' or month =='June':\n",
    "    print(\"Its Summer\")\n",
    "elif month == 'July' or month == 'Augest' or month == 'September' or month == 'Octomber':\n",
    "    print(\"Its Rainy season\")\n",
    "elif month == 'November' or month == 'December' or month == 'January' or month == 'February':\n",
    "    print(\"Its Winter \")\n"
   ]
  },
  {
   "cell_type": "code",
   "execution_count": 5,
   "id": "a5874d0b-e766-4b62-828b-4f5f4fb1d21c",
   "metadata": {},
   "outputs": [
    {
     "name": "stdin",
     "output_type": "stream",
     "text": [
      "Enter the no of year between 1 to 12:  2\n",
      "Enter the year 2000\n"
     ]
    },
    {
     "name": "stdout",
     "output_type": "stream",
     "text": [
      "2000 is a Leap Year\n",
      "Number of days are 28 or 29\n"
     ]
    }
   ],
   "source": [
    "#30. Implement a program to determine the type of a year (leap or common) and month (30 or 31 days) using elif \n",
    "#statements.\n",
    "month = int(input(\"Enter the no of year between 1 to 12: \"))\n",
    "year=int(input(\"Enter the year\"))\n",
    "\n",
    "if (year%400 == 0):\n",
    "          print(\"%d is a Leap Year\" %year)\n",
    "elif (year%100 == 0):\n",
    "          print(\"%d is Not the Leap Year\" %year)\n",
    "elif (year%4 == 0):\n",
    "          print(\"%d is a Leap Year\" %year)\n",
    "else:\n",
    "          print(\"%d is Not the Leap Year\" %year)\n",
    "\n",
    "if(month==1 or month==3 or month==5 or month==7 or month==8 or month==10 or month==12) :\n",
    "    print(\"Number of days is 31\");\n",
    "\n",
    "elif(month==4 or month==6 or month==9 or month==11) :\n",
    "    print(\"Number of days is 30\");\n",
    "else:\n",
    "    print(\"Number of days are 28 or 29\")\n"
   ]
  },
  {
   "cell_type": "markdown",
   "id": "f7e08200-53f2-44d4-9ca0-42899a63f348",
   "metadata": {},
   "source": [
    "Basic Level:"
   ]
  },
  {
   "cell_type": "code",
   "execution_count": 7,
   "id": "5ce01a3f-a113-4b5a-a1dc-119fc5c33df3",
   "metadata": {},
   "outputs": [
    {
     "name": "stdin",
     "output_type": "stream",
     "text": [
      "Enter the no 4\n"
     ]
    },
    {
     "name": "stdout",
     "output_type": "stream",
     "text": [
      "Number is Positive\n"
     ]
    }
   ],
   "source": [
    "#1. Write a Python program that checks if a given number is positive, negative, or zero.\n",
    "num = int(input(\"Enter the no\"))\n",
    "if num > 0:\n",
    "    print(\"Number is Positive\")\n",
    "elif num < 0:\n",
    "    print(\"Number is Negative\")\n",
    "else:\n",
    "    print(\"Number is zero\")\n"
   ]
  },
  {
   "cell_type": "code",
   "execution_count": 9,
   "id": "b40d91af-10a8-4352-9992-22b447b33264",
   "metadata": {},
   "outputs": [
    {
     "name": "stdin",
     "output_type": "stream",
     "text": [
      "Enter the age 13\n"
     ]
    },
    {
     "name": "stdout",
     "output_type": "stream",
     "text": [
      "person is not eligible to vote\n"
     ]
    }
   ],
   "source": [
    "#2. Create a program to determine if a person is eligible to vote based on their age.\n",
    "age =int(input(\"Enter the age\"))\n",
    "\n",
    "if age >= 18:\n",
    "    print(\"person is eligible to vote\")\n",
    "else:\n",
    "    print(\"person is not eligible to vote\")"
   ]
  },
  {
   "cell_type": "code",
   "execution_count": 10,
   "id": "f184b905-e63e-4271-bf37-7b1f658c06b4",
   "metadata": {},
   "outputs": [
    {
     "name": "stdout",
     "output_type": "stream",
     "text": [
      "num2 is larger\n"
     ]
    }
   ],
   "source": [
    "#3. Write a program to find the maximum of two given numbers using conditional statements\n",
    "\n",
    "num1=10\n",
    "num2=20\n",
    "if num1 > num2:\n",
    "    print(\"num1 is larger\")\n",
    "else:\n",
    "    print(\"num2 is larger\")"
   ]
  },
  {
   "cell_type": "code",
   "execution_count": null,
   "id": "81880e57-f5fa-41a7-8dee-e34dc9c0f74a",
   "metadata": {},
   "outputs": [],
   "source": [
    "#4. Develop a program that calculates the grade of a student based on their exam score.\n",
    "score = int(input(\"Enter the score out of 100. \"))\n",
    "if score <=100 and score >=91:\n",
    "    print(\"Grade is A+\")\n",
    "elif score <91 and score >=81:\n",
    "    print(\"Grade is A\")\n",
    "elif score <81 and score >=71:\n",
    "    print(\"Grade is B+\")\n",
    "elif score <70 and score >=61:\n",
    "    print(\"Grade is B\")\n",
    "elif score <61 and score >=50:\n",
    "    print(\"Grade is C\")\n",
    "else:\n",
    "    print(\"Grade is D\")"
   ]
  },
  {
   "cell_type": "code",
   "execution_count": null,
   "id": "b39ddb34-6ae4-4ab4-8a2f-c306591c0fb2",
   "metadata": {},
   "outputs": [],
   "source": [
    "#5. Create a program that checks if a year is a leap year or not.\n",
    " year = int(input(\"Enter the year \"))\n",
    "    \n",
    "if year%4 == 0 and year%100 != 0 or year%400 ==0:\n",
    "    print(f\"{year} is leap year\")\n",
    "else:\n",
    "    print(\"Year is not leap year\")"
   ]
  },
  {
   "cell_type": "code",
   "execution_count": 11,
   "id": "1ccd1d4d-a333-47c7-8a0b-81b51768c97f",
   "metadata": {},
   "outputs": [
    {
     "name": "stdin",
     "output_type": "stream",
     "text": [
      "Enter side1 of a triangle:  5\n",
      "Enter side2 of a triangle:  5\n",
      "Enter side3 of a triangle:  5\n"
     ]
    },
    {
     "name": "stdout",
     "output_type": "stream",
     "text": [
      "triangle is equilateral.\n"
     ]
    }
   ],
   "source": [
    "#6. Write a program to classify a triangle based on its sides' lengths.\n",
    "side1 = int(input(\"Enter side1 of a triangle: \"))\n",
    "side2 = int(input(\"Enter side2 of a triangle: \"))\n",
    "side3 = int(input(\"Enter side3 of a triangle: \"))\n",
    "\n",
    "if side1 == side2:\n",
    "    if side2 == side3:\n",
    "        print(\"triangle is equilateral.\")\n",
    "    else:\n",
    "        print(\"triangle is isosceles.\")\n",
    "else:\n",
    "    print(\"Triangle is scalene.\")"
   ]
  },
  {
   "cell_type": "code",
   "execution_count": 12,
   "id": "6be842f9-430a-47b5-a974-5240adeb7ab3",
   "metadata": {},
   "outputs": [
    {
     "name": "stdin",
     "output_type": "stream",
     "text": [
      "Enter num1  10\n",
      "Enter num2  20\n",
      "Enter num3  30\n"
     ]
    },
    {
     "name": "stdout",
     "output_type": "stream",
     "text": [
      "30 is greater\n"
     ]
    }
   ],
   "source": [
    "#7. Build a program that determines the largest of three given numbers.\n",
    "num1= int(input(\"Enter num1 \"))\n",
    "num2= int(input(\"Enter num2 \"))\n",
    "num3= int(input(\"Enter num3 \"))\n",
    "\n",
    "if num1 > num2:\n",
    "    if num1 > num3:\n",
    "        print(f\"{num1} is greater\")\n",
    "    else:\n",
    "        print(f\"{num3} is greater\")\n",
    "else:\n",
    "    print(f\"{num3} is greater\")\n",
    "\n"
   ]
  },
  {
   "cell_type": "code",
   "execution_count": 16,
   "id": "e703e3c6-0df0-47d7-ab44-70907623fc60",
   "metadata": {},
   "outputs": [
    {
     "name": "stdin",
     "output_type": "stream",
     "text": [
      "Enter the char B\n"
     ]
    },
    {
     "name": "stdout",
     "output_type": "stream",
     "text": [
      "Its consonant\n"
     ]
    }
   ],
   "source": [
    "#8. Develop a program that checks whether a character is a vowel or a consonant.\n",
    "ch = (input(\"Enter the char\")).lower()\n",
    "\n",
    "if ch in ['a', 'e','i','o','u']:\n",
    "    print(\"Its vowel\")\n",
    "else :\n",
    "    print(\"Its consonant\")"
   ]
  },
  {
   "cell_type": "code",
   "execution_count": 18,
   "id": "b2b552bb-424f-42ce-8660-595675ad3601",
   "metadata": {},
   "outputs": [
    {
     "name": "stdin",
     "output_type": "stream",
     "text": [
      "Please enter a total_cost: 600\n"
     ]
    },
    {
     "name": "stdout",
     "output_type": "stream",
     "text": [
      "You have won a discount by 15 percent\n",
      "Now the total cost is  510.0 Rs.\n"
     ]
    }
   ],
   "source": [
    "#9. Create a program to calculate the total cost of a shopping cart based on discounts.\n",
    "total_cost = float(input('Please enter a total_cost:'))\n",
    "if total_cost>=500:    \n",
    "    print(\"You have won a discount by 15 percent\")\n",
    "    total_cost *= 0.85\n",
    "elif total_cost>100:\n",
    "    print(\"You have won a discount by 10 percent\")\n",
    "    total_cost *= 0.9\n",
    "elif total_cost>=50:\n",
    "    print(\"You have won a discount by 5 percent\")\n",
    "    total_cost *= 0.95\n",
    "else:\n",
    "    print( 'you total cost is not in the range of discount!')\n",
    "print ('Now the total cost is ', total_cost, 'Rs.')\n",
    "    \n"
   ]
  },
  {
   "cell_type": "code",
   "execution_count": 17,
   "id": "39154c2b-8dec-483f-9e6d-8642e2fc2ff2",
   "metadata": {},
   "outputs": [
    {
     "name": "stdin",
     "output_type": "stream",
     "text": [
      "Enter the no.  6\n"
     ]
    },
    {
     "name": "stdout",
     "output_type": "stream",
     "text": [
      "6 is even no\n"
     ]
    }
   ],
   "source": [
    "#10. Write a program that checks if a given number is even or odd.\n",
    "n = int(input(\"Enter the no. \"))\n",
    "\n",
    "if n % 2 == 0:\n",
    "    print(f\"{n} is even no\")\n",
    "else:\n",
    "    print(f\"{n} is odd no\")\n"
   ]
  },
  {
   "cell_type": "markdown",
   "id": "eb5bfe88-269a-49b7-bebb-63809c367039",
   "metadata": {},
   "source": [
    "Intermediate Level:"
   ]
  },
  {
   "cell_type": "code",
   "execution_count": 21,
   "id": "6247b846-5012-4086-8935-75e3d97f5ae1",
   "metadata": {},
   "outputs": [
    {
     "name": "stdout",
     "output_type": "stream",
     "text": [
      "Quadratic function : (a * x^2) + b*x + c\n"
     ]
    },
    {
     "name": "stdin",
     "output_type": "stream",
     "text": [
      "a:  10\n",
      "b:  23\n",
      "c:  30\n"
     ]
    },
    {
     "name": "stdout",
     "output_type": "stream",
     "text": [
      "No roots, discriminant < 0.\n"
     ]
    }
   ],
   "source": [
    "#11. Write a program that calculates the roots of a quadratic equation .\n",
    "from math import sqrt\n",
    "\n",
    "print(\"Quadratic function : (a * x^2) + b*x + c\")\n",
    "a = float(input(\"a: \"))\n",
    "b = float(input(\"b: \"))\n",
    "c = float(input(\"c: \"))\n",
    "\n",
    "r = b**2 - 4*a*c\n",
    "\n",
    "if r >= 0:\n",
    "    if r>0:\n",
    "        num_roots = 2\n",
    "        x1 = (((-b) + sqrt(r))/(2*a))     \n",
    "        x2 = (((-b) - sqrt(r))/(2*a))\n",
    "        print(\"There are 2 roots: %f and %f\" % (x1, x2))\n",
    "    else:\n",
    "        \n",
    "        num_roots = 1\n",
    "        x = (-b) / 2*a\n",
    "        print(\"There is one root: \", x)\n",
    "else:\n",
    "    num_roots = 0\n",
    "    print(\"No roots, discriminant < 0.\")\n",
    "    exit()"
   ]
  },
  {
   "cell_type": "code",
   "execution_count": null,
   "id": "1af38f17-c291-4698-80e7-4a79e7398392",
   "metadata": {},
   "outputs": [],
   "source": [
    "#12. Create a program that determines the day of the week based on the day number (1-7)\n",
    "day = int(input(\"Enter the no between 1-7: \"))\n",
    "if day == 1:\n",
    "    print(\"Its Monday\")\n",
    "elif day == 2:\n",
    "    print(\"Its Tuesday\")\n",
    "elif day == 3:\n",
    "    print(\"Its Wednesday\")\n",
    "elif day == 4:\n",
    "    print(\"Its Thursday\")\n",
    "elif day == 5:\n",
    "    print(\"Its Friday\")\n",
    "elif day == 6:\n",
    "    print(\"Its Saturday\")\n",
    "elif day == 7:\n",
    "    print(\"Its Sunday\")\n",
    "else:\n",
    "    print(\"Invalide input\")\n",
    "    "
   ]
  },
  {
   "cell_type": "code",
   "execution_count": 1,
   "id": "ffe701e9-8750-4107-a229-55729dc8a64d",
   "metadata": {},
   "outputs": [],
   "source": [
    "#13. Develop a program that calculates the factorial of a given number using recursion.\n",
    "def fact(n):\n",
    "    if n == 1:\n",
    "        return 1\n",
    "    else:\n",
    "        return n*fact(n-1)\n",
    "fact(5)"
   ]
  },
  {
   "cell_type": "code",
   "execution_count": null,
   "id": "e10b22e4-0335-447d-9024-6ec6d09146b1",
   "metadata": {},
   "outputs": [],
   "source": [
    "#14. Write a program to find the largest among three numbers without using the `max()` function.\n",
    "a = 10\n",
    "b = 20\n",
    "c = 30\n",
    "if a > b:\n",
    "    if a>c:\n",
    "        print(f\"{a} is largest\")\n",
    "    else:\n",
    "        print(f\"{b} is largest\")\n",
    "else:\n",
    "    print(f\"{c} is largest\")\n"
   ]
  },
  {
   "cell_type": "code",
   "execution_count": 9,
   "id": "01039fd8-a5d8-46d6-8ee1-bf288335e2bf",
   "metadata": {},
   "outputs": [
    {
     "name": "stdout",
     "output_type": "stream",
     "text": [
      "Welcome to State bank of India\n"
     ]
    },
    {
     "name": "stdin",
     "output_type": "stream",
     "text": [
      "Enter your 4 digit pin number:  1234\n"
     ]
    },
    {
     "name": "stdout",
     "output_type": "stream",
     "text": [
      "1-Withdraw\n",
      "2-Balance Enquiry\n",
      "3-Cash deposition\n"
     ]
    },
    {
     "name": "stdin",
     "output_type": "stream",
     "text": [
      "Please choose transactions:  2\n"
     ]
    },
    {
     "name": "stdout",
     "output_type": "stream",
     "text": [
      "Your available amount :  25000\n"
     ]
    }
   ],
   "source": [
    "#15. Create a program that simulates a basic ATM transaction menu.\n",
    "\n",
    "print(\"Welcome to State bank of India\")\n",
    "p=int(input(\"Enter your 4 digit pin number: \"))\n",
    "m = 25000\n",
    "if(p == 1234):\n",
    "    print(\"1-Withdraw\")\n",
    "    print(\"2-Balance Enquiry\")\n",
    "    print(\"3-Cash deposition\")\n",
    "    c = int(input(\"Please choose transactions: \"))\n",
    "    if (c == 1):\n",
    "        w=int(input(\"Enter withdraw amount: \"))\n",
    "        if (w < m and w%100 == 0):\n",
    "            print(\"Please take your amount:\", w)\n",
    "        else:\n",
    "            print(\"Invalid cash\")\n",
    "\n",
    "    elif(c==2):\n",
    "        print(\"Your available amount : \",m)\n",
    "\n",
    "    elif (c == 3):\n",
    "        print(\"Your cash has depsited\")\n",
    "    else:\n",
    "        print(\"Invalide option\")\n",
    "else:\n",
    "    print(\"Wrong pin number\")"
   ]
  },
  {
   "cell_type": "code",
   "execution_count": 10,
   "id": "5a498ba9-37f0-46e8-a944-a58df34192f0",
   "metadata": {},
   "outputs": [
    {
     "name": "stdin",
     "output_type": "stream",
     "text": [
      "Enter the string:  AREMera\n"
     ]
    },
    {
     "name": "stdout",
     "output_type": "stream",
     "text": [
      "Given string is palindrom\n"
     ]
    }
   ],
   "source": [
    "#16. Build a program that checks if a given string is a palindrome or not\n",
    "str = input(\"Enter the string: \")\n",
    "if str.lower() == str[::-1].lower():\n",
    "    print(\"Given string is palindrom\")\n",
    "else:\n",
    "    print(\"Given string is not palindrom\")"
   ]
  },
  {
   "cell_type": "code",
   "execution_count": 30,
   "id": "b7f020c7-758a-4dc5-998a-cce854779567",
   "metadata": {},
   "outputs": [
    {
     "name": "stdout",
     "output_type": "stream",
     "text": [
      "89 - maximum value \n",
      " 1 - minimum value \n",
      "[3, 4, 6, 9, 2] -List\n",
      "Average:  4.8\n"
     ]
    }
   ],
   "source": [
    "#17. Write a program that calculates the average of a list of numbers, excluding the smallest and largest values.\n",
    "l =[3,4,6,9,2,1,89]\n",
    "\n",
    "m= max(l)\n",
    "n= min(l)\n",
    "\n",
    "l.remove(m)\n",
    "l.remove(n)\n",
    "print(f\"{m} - maximum value \\n {n} - minimum value \\n{l} -List\")\n",
    "\n",
    "sum = 0\n",
    "for i in l:\n",
    "    sum = sum + i\n",
    "\n",
    "print(\"Average: \",sum/len(l))\n",
    "\n",
    "\n"
   ]
  },
  {
   "cell_type": "code",
   "execution_count": 31,
   "id": "f5bf5e02-499e-4f59-b8a8-433626038595",
   "metadata": {},
   "outputs": [
    {
     "name": "stdin",
     "output_type": "stream",
     "text": [
      "Enter the Temperature in Celsius :  23\n"
     ]
    },
    {
     "name": "stdout",
     "output_type": "stream",
     "text": [
      "Temperature in Fahrenheit : 73.4\n"
     ]
    }
   ],
   "source": [
    "#18. Develop a program that converts a given temperature from Celsius to Fahrenheit.\n",
    "celsius = int(input(\"Enter the Temperature in Celsius : \"))\n",
    "fahrenheit = (1.8 * celsius) + 32\n",
    "print(\"Temperature in Fahrenheit :\", fahrenheit)"
   ]
  },
  {
   "cell_type": "code",
   "execution_count": 38,
   "id": "f4b3957b-70ef-4dca-918b-8b53be231fe8",
   "metadata": {},
   "outputs": [
    {
     "name": "stdin",
     "output_type": "stream",
     "text": [
      "Enter num1:  10\n",
      "Enter num2:  20\n",
      "Enter the choice \n",
      " 1 for Addition \n",
      " 2 for Subtraction \n",
      " 3 for Multiplication \n",
      " 4 for Division\n",
      " 2\n"
     ]
    },
    {
     "name": "stdout",
     "output_type": "stream",
     "text": [
      "Subtractiion:  -10\n"
     ]
    }
   ],
   "source": [
    "#19. Create a program that simulates a basic calculator for addition, subtraction, multiplication, and division.\n",
    "a = int(input(\"Enter num1: \"))\n",
    "b = int(input(\"Enter num2: \"))\n",
    "ch = int(input(\"Enter the choice \\n 1 for Addition \\n 2 for Subtraction \\n 3 for Multiplication \\n 4 for Division\\n\"))\n",
    "if ch == 1:\n",
    "    print(\"Addition: \",a+b)\n",
    "elif ch == 2:\n",
    "    print(\"Subtractiion: \", a-b)\n",
    "elif ch == 3:\n",
    "    print(\"Multiplication: \",a*b)\n",
    "elif ch == 4:\n",
    "    print(\"Division: \", a/b)"
   ]
  },
  {
   "cell_type": "code",
   "execution_count": 39,
   "id": "4f13582d-4d5f-405e-9071-c8503fb576b9",
   "metadata": {},
   "outputs": [
    {
     "name": "stdout",
     "output_type": "stream",
     "text": [
      "Cubic root of 3 is 1.44225\n"
     ]
    }
   ],
   "source": [
    "#20. Write a program that determines the roots of a cubic equation using the Cardano formula.\n",
    "\n",
    "def diff(n, mid):\n",
    "    if (n > (mid * mid * mid)):\n",
    "        return (n - (mid * mid * mid))\n",
    "    else:\n",
    "        return ((mid * mid * mid) - n)\n",
    " \n",
    "# Returns cube root of a no n\n",
    " \n",
    " \n",
    "def cubicRoot(n):\n",
    " \n",
    "    # Set start and end for binary\n",
    "    # search\n",
    "    start = 0\n",
    "    end = n\n",
    " \n",
    "    # Set precision\n",
    "    e = 0.0000001\n",
    "    while (True):\n",
    " \n",
    "        mid = (start + end) / 2\n",
    "        error = diff(n, mid)\n",
    " \n",
    "        # If error is less than e\n",
    "        # then mid is our answer\n",
    "        # so return mid\n",
    "        if (error <= e):\n",
    "            return mid\n",
    " \n",
    "        # If mid*mid*mid is greater\n",
    "        # than n set end = mid\n",
    "        if ((mid * mid * mid) > n):\n",
    "            end = mid\n",
    " \n",
    "        # If mid*mid*mid is less\n",
    "        # than n set start = mid\n",
    "        else:\n",
    "            start = mid\n",
    " \n",
    " \n",
    "# Driver code\n",
    "n = 3\n",
    "print(\"Cubic root of\", n, \"is\",\n",
    "      round(cubicRoot(n), 6))"
   ]
  },
  {
   "cell_type": "markdown",
   "id": "72d258cb-e1ed-400b-a46d-6ed86d0aa43b",
   "metadata": {},
   "source": [
    "Advanced Level:"
   ]
  },
  {
   "cell_type": "code",
   "execution_count": 53,
   "id": "678e452a-d47e-448c-81df-451dbb94618f",
   "metadata": {},
   "outputs": [
    {
     "name": "stdin",
     "output_type": "stream",
     "text": [
      "Enter  your income:  250000\n"
     ]
    },
    {
     "name": "stdout",
     "output_type": "stream",
     "text": [
      "Total tax applicable at ₹250000.0 is ₹0\n"
     ]
    }
   ],
   "source": [
    "#21. Create a program that calculates the income tax based on the user's income and tax brackets.\n",
    "'''AMOUNT                             INCOME TAX RATE\n",
    "Up to ₹2,50,000                     0%\n",
    "₹2,50,001 – ₹5,00,000           5% above ₹2,50,000\n",
    "₹5,00,001 – ₹7,50,000           10% above ₹5,00,000 + ₹12,500\n",
    "₹7,50,001 – ₹10,00,000         15% above ₹7,50,000 + ₹37,500\n",
    "₹10,00,001 – ₹12,50,000       20% above ₹10,00,000 + ₹75,000\n",
    "₹12,50,001 – ₹15,00,000       25% above ₹12,50,000 + ₹1,25,000\n",
    "Above ₹15,00,001                  30% above ₹15,00,000 + ₹1,87,500'''\n",
    "\n",
    "total_income = float(input(\"Enter  your income: \"))\n",
    "tax = 0\n",
    "if total_income <= 250000:\n",
    "        tax = 0\n",
    "        \n",
    "elif total_income <= 500000:\n",
    "        tax =  (total_income * 5)/100\n",
    "       \n",
    "elif total_income <= 750000:\n",
    "        tax =  (total_income * 10)/100  + 12500\n",
    "       \n",
    "elif total_income <= 1000000:\n",
    "       tax =  (total_income * 15)/100 + 37000\n",
    "\n",
    "elif total_income <= 1250000:\n",
    "       tax =  (total_income * 20)/100 + 75000\n",
    "\n",
    "elif total_income <= 1500000:\n",
    "        tax =  (total_income * 25)/100 + 125000\n",
    "\n",
    "else:\n",
    "    tax =  (total_income * 30)/100 +187500\n",
    "\n",
    "print(f\"Total tax applicable at ₹{total_income} is ₹{tax}\")"
   ]
  },
  {
   "cell_type": "code",
   "execution_count": 54,
   "id": "cece2a62-ee34-4bef-a7f8-1da3d883682e",
   "metadata": {},
   "outputs": [
    {
     "name": "stdin",
     "output_type": "stream",
     "text": [
      "Choose Rock, Paper, or Scissors:  Rock\n"
     ]
    },
    {
     "name": "stdout",
     "output_type": "stream",
     "text": [
      "You chose:  Rock\n",
      "Computer chose:  Rock\n",
      "It's a tie!\n"
     ]
    }
   ],
   "source": [
    "#22. Write a program that simulates a rock-paper-scissors game against the computer.\n",
    "import random\n",
    "\n",
    "options = [\"Rock\", \"Paper\", \"Scissors\"]\n",
    "\n",
    "user_choice = input(\"Choose Rock, Paper, or Scissors: \")\n",
    "\n",
    "computer_choice = random.choice(options)\n",
    "print(\"You chose: \", user_choice)\n",
    "\n",
    "print(\"Computer chose: \", computer_choice)\n",
    "\n",
    "if user_choice == computer_choice:\n",
    "    print(\"It's a tie!\")\n",
    "\n",
    "elif user_choice == \"Rock\" and computer_choice == \"Scissors\":\n",
    "    print(\"You win!\")\n",
    "\n",
    "elif user_choice == \"Paper\" and computer_choice == \"Rock\":\n",
    "    print(\"You win!\")\n",
    "\n",
    "elif user_choice == \"Scissors\" and computer_choice == \"Paper\":\n",
    "    print(\"You win!\")\n",
    "\n",
    "else:\n",
    "    print(\"Computer wins!\")\n",
    "\n"
   ]
  },
  {
   "cell_type": "code",
   "execution_count": null,
   "id": "75f8ad73-eeeb-4a86-b5b6-269a234d517c",
   "metadata": {},
   "outputs": [],
   "source": [
    "#23. Develop a program that generates a random password based on user preferences (length, complexity).\n"
   ]
  },
  {
   "cell_type": "code",
   "execution_count": null,
   "id": "1aa3b95e-e028-4d73-9cb3-a0d66fc2e303",
   "metadata": {},
   "outputs": [],
   "source": [
    "#24. Create a program that implements a simple text-based adventure game with branching scenarios"
   ]
  },
  {
   "cell_type": "code",
   "execution_count": null,
   "id": "26e2d7fc-79dc-4817-b94a-76fa623c92af",
   "metadata": {},
   "outputs": [],
   "source": [
    "#25. Build a program that solves a linear equation  for x, considering different cases."
   ]
  },
  {
   "cell_type": "code",
   "execution_count": null,
   "id": "40fd1075-ec81-4b23-b527-4c74c3534659",
   "metadata": {},
   "outputs": [],
   "source": [
    "#26. Write a program that simulates a basic quiz game with multiple-choice questions and scoring."
   ]
  },
  {
   "cell_type": "code",
   "execution_count": null,
   "id": "c4971c21-059c-4a8c-aa3c-610fd2edcad8",
   "metadata": {},
   "outputs": [],
   "source": [
    "#27. Develop a program that determines whether a given year is a prime number or not.\n"
   ]
  },
  {
   "cell_type": "code",
   "execution_count": 63,
   "id": "e526f286-d566-4496-8e5f-79da4e19fdb3",
   "metadata": {},
   "outputs": [
    {
     "name": "stdin",
     "output_type": "stream",
     "text": [
      "Enter First number :  50\n",
      "Enter Second number :  54\n",
      "Enter Third number :  34\n"
     ]
    },
    {
     "name": "stdout",
     "output_type": "stream",
     "text": [
      "Ascending order of the numbers is  34 50 54\n"
     ]
    }
   ],
   "source": [
    "#28. Create a program that sorts three numbers in ascending order using conditional statements.\n",
    "\n",
    "num1=int(input(\"Enter First number : \"))\n",
    "num2=int(input(\"Enter Second number : \"))\n",
    "num3=int(input(\"Enter Third number : \"))\n",
    "\n",
    "if num1 > num2 and num1 > num3:\n",
    "    if num2 > num3:\n",
    "        x, y, z = num1, num2, num3\n",
    "    else:\n",
    "        x, y, z = num1, num3, num2\n",
    "elif num2 > num1 and num2> num3:\n",
    "    if num1 > num3:\n",
    "        x, y, z=num2, num1, num3\n",
    "    else:\n",
    "        x, y, z=num2, num3, num1\n",
    "\n",
    "else:\n",
    "    if num1 > num2:\n",
    "        x, y, z =num3, num1, num2\n",
    "    else:\n",
    "        x, y,z= num3, num2,num1\n",
    "print(\"Ascending order of the numbers is \",z, y, x)\n",
    "    "
   ]
  },
  {
   "cell_type": "code",
   "execution_count": null,
   "id": "4207dddc-2234-46ee-a27c-7e130a439029",
   "metadata": {},
   "outputs": [],
   "source": [
    "#29. Build a program that determines the roots of a quartic equation using numerical methods.\n"
   ]
  },
  {
   "cell_type": "code",
   "execution_count": 58,
   "id": "0310cf83-c0e3-4817-8f7b-c44beca3481c",
   "metadata": {},
   "outputs": [
    {
     "name": "stdin",
     "output_type": "stream",
     "text": [
      "Enter your height in meters:  150\n",
      "Enter your weight in kg:  52\n"
     ]
    },
    {
     "name": "stdout",
     "output_type": "stream",
     "text": [
      "Your BMI is:  0.0\n",
      "You are underweight.\n"
     ]
    }
   ],
   "source": [
    "#30. Write a program that calculates the BMI (Body Mass Index) and provides health recommendations based\n",
    "#on the user's input.\n",
    "\n",
    "\n",
    "h = float(input(\"Enter your height in meters: \"))\n",
    "w = float(input(\"Enter your weight in kg: \"))\n",
    "\n",
    "bmi = round((w / h**2),2)\n",
    "print(\"Your BMI is: \", bmi)\n",
    "\n",
    "\n",
    "if bmi <= 18.5:\n",
    "    print(\"You are underweight.\")\n",
    "elif 18.5 < bmi <= 24.9:\n",
    "    print(\"Your weight is normal.\")\n",
    "elif 25 < bmi <= 29.29:\n",
    "    print(\"You are overweight.\")\n",
    "else:\n",
    "    print(\"You are obese.\")\n"
   ]
  },
  {
   "cell_type": "markdown",
   "id": "05167e5f-fdfa-4dc2-a71f-1aa51a6a782b",
   "metadata": {},
   "source": [
    "Challenge Level:"
   ]
  },
  {
   "cell_type": "code",
   "execution_count": null,
   "id": "fd3cf84a-bb78-4f83-9790-897f104f4322",
   "metadata": {},
   "outputs": [],
   "source": [
    "#31. Create a program that validates a password based on complexity rules (length, characters, etc.).\n",
    "'''Password should not contain any space. \n",
    "Password should contain at least one digit(0-9). \n",
    "Password length should be between 8 to 15 characters. \n",
    "Password should contain at least one lowercase letter(a-z). \n",
    "Password should contain at least one uppercase letter(A-Z). \n",
    "Password should contain at least one special character ( @, #, %, &, !, $, etc…).'''\n",
    "\n",
    "str = input(\"Create the password  based on complexity rules: \")\n",
    "if i in str[\" \"]:\n",
    "    print(\"Password should not contain any space. \")\n",
    "    \n",
    "if i in str"
   ]
  },
  {
   "cell_type": "code",
   "execution_count": null,
   "id": "9453a472-61a1-4ffd-8bd5-4face4070d6c",
   "metadata": {},
   "outputs": [],
   "source": [
    "#32. Develop a program that performs matrix addition and subtraction based on user input."
   ]
  },
  {
   "cell_type": "code",
   "execution_count": null,
   "id": "5a5a059d-1cb2-4e4b-84ae-3e0fec41593d",
   "metadata": {},
   "outputs": [],
   "source": [
    "#33. Write a program that calculates the greatest common divisor (GCD) of two numbers using the Euclidean\n",
    "#algorithm."
   ]
  },
  {
   "cell_type": "code",
   "execution_count": null,
   "id": "b29bc456-b45d-46ee-81cc-ff7b1ecc5112",
   "metadata": {},
   "outputs": [],
   "source": [
    "#34. Build a program that performs matrix multiplication using nested loops and conditional statements"
   ]
  },
  {
   "cell_type": "code",
   "execution_count": null,
   "id": "b8777978-b46e-4b14-bd98-d83e2f8f4d2c",
   "metadata": {},
   "outputs": [],
   "source": [
    "#35. Create a program that simulates a basic text-based tic-tac-toe game against the computer."
   ]
  },
  {
   "cell_type": "code",
   "execution_count": 56,
   "id": "0f926493-1cfb-45ae-8b5d-4cfc66e1723a",
   "metadata": {},
   "outputs": [
    {
     "data": {
      "text/plain": [
       "8"
      ]
     },
     "execution_count": 56,
     "metadata": {},
     "output_type": "execute_result"
    }
   ],
   "source": [
    "#36. Write a program that generates Fibonacci numbers up to a specified term using iterative methods.\n",
    "def fib(n):\n",
    "    if n<=1:\n",
    "        return n\n",
    "    else :\n",
    "        return (fib(n-2) + fib(n-1))\n",
    "fib(6)  "
   ]
  },
  {
   "cell_type": "code",
   "execution_count": null,
   "id": "e426cd0d-d40a-4ce4-9975-dc0fde97ce75",
   "metadata": {},
   "outputs": [],
   "source": [
    "#37. Develop a program that calculates the nth term of the Fibonacci sequence using memoization."
   ]
  },
  {
   "cell_type": "code",
   "execution_count": null,
   "id": "4ffc0b79-4bee-4bf5-bddb-5d0978239d13",
   "metadata": {},
   "outputs": [],
   "source": [
    "#38. Create a program that generates a calendar for a given month and year using conditional statements"
   ]
  },
  {
   "cell_type": "code",
   "execution_count": null,
   "id": "721ca4fa-7fc8-4815-8373-eeb8f97ee512",
   "metadata": {},
   "outputs": [],
   "source": [
    "#39. Build a program that simulates a basic text-based blackjack game against the computer."
   ]
  },
  {
   "cell_type": "code",
   "execution_count": null,
   "id": "0d03ebb2-1c2c-4b4a-bb8c-d7c1c0c1e883",
   "metadata": {},
   "outputs": [],
   "source": [
    "#40. Write a program that generates the prime factors of a given number using trial division."
   ]
  }
 ],
 "metadata": {
  "kernelspec": {
   "display_name": "Python 3 (ipykernel)",
   "language": "python",
   "name": "python3"
  },
  "language_info": {
   "codemirror_mode": {
    "name": "ipython",
    "version": 3
   },
   "file_extension": ".py",
   "mimetype": "text/x-python",
   "name": "python",
   "nbconvert_exporter": "python",
   "pygments_lexer": "ipython3",
   "version": "3.10.8"
  }
 },
 "nbformat": 4,
 "nbformat_minor": 5
}
