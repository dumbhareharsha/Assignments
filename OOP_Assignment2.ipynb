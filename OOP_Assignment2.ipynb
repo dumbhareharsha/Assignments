{
 "cells": [
  {
   "cell_type": "markdown",
   "id": "700f87aa-13dd-4552-bd79-5b0ba446808f",
   "metadata": {},
   "source": [
    "1. What is a constructor in Python? Explain its purpose and usage.\n",
    "Constructors in Python is a special class method for creating and initializing an object instance at that class.\n",
    "In Python every class has a constructor; it's not required to define explicitly. \n",
    "The purpose of the constructor is to construct an object and assign a value to the object's members.\n",
    "\n",
    "Constructors are generally used for instantiating an object. The task of constructors is to initialize(assign values) to the data members of the class when an object of the class is created. In Python the __init__() method is called the constructor and is always called when an object is created.\n",
    "Syntax of constructor declaration : \n",
    "\n",
    "def __init__(self):\n",
    "    # body of the constructor\n"
   ]
  },
  {
   "cell_type": "markdown",
   "id": "6bcec07e-84e5-4ea9-b5ed-97c81bca4b50",
   "metadata": {},
   "source": [
    "2. Differentiate between a parameterless constructor and a parameterized constructor in Python.\n",
    "parameterless constructor(default constructor): The default constructor is a simple constructor which doesn’t accept any arguments. Its definition has only one argument which is a reference to the instance being constructed.\n",
    "parameterized constructor: constructor with parameters is known as parameterized constructor. The parameterized constructor takes its first argument as a reference to the instance being constructed known as self and the rest of the arguments are provided by the programmer."
   ]
  },
  {
   "cell_type": "markdown",
   "id": "4965c644-e1f3-4256-b683-02db555155e9",
   "metadata": {},
   "source": [
    "3. How do you define a constructor in a Python class? Provide an example.\n",
    " In Python the __init__() method is called the constructor and is always called when an object is created.\n",
    "Syntax of constructor declaration : \n",
    "\n",
    "def __init__(self):\n",
    "    # body of the constructor\n"
   ]
  },
  {
   "cell_type": "markdown",
   "id": "e65e0e1b-b0ae-4c8a-b955-6e38bdabbbfc",
   "metadata": {},
   "source": [
    "4. Explain the `__init__` method in Python and its role in constructors.\n",
    " In Python the __init__() method is called the constructor and is always called when an object is created."
   ]
  },
  {
   "cell_type": "markdown",
   "id": "635d94b6-afa5-45e4-ae3c-98efb3ecb6c5",
   "metadata": {},
   "source": [
    "5. In a class named `Person`, create a constructor that initializes the `name` and `age` attributes. Provide an example of creating an object of this class.  "
   ]
  },
  {
   "cell_type": "code",
   "execution_count": 35,
   "id": "fdb064be-3533-48cc-a08e-0524f0f263bc",
   "metadata": {},
   "outputs": [
    {
     "name": "stdout",
     "output_type": "stream",
     "text": [
      "Name of the person is Harshada \n",
      "Age of the person is 20\n"
     ]
    }
   ],
   "source": [
    "class Person:\n",
    "    def __init__(self,name,age):\n",
    "        self.name =name\n",
    "        self.age = age\n",
    "   \n",
    "p =Person(\"Harshada\",20)"
   ]
  },
  {
   "cell_type": "code",
   "execution_count": 38,
   "id": "e9766a1c-86b7-41ad-b128-15131e8e6977",
   "metadata": {},
   "outputs": [],
   "source": [
    "#6. How can you call a constructor explicitly in Python? Give an example\n",
    "\n",
    "class point():\n",
    "    def __init__(self, x=0, y=0):\n",
    "        self.x = x\n",
    "        self.y = y\n",
    "p = point(10,20) # x = 10, y = 20.\n",
    "p = point(10) # x = 10, y = 0.\n",
    "p = point() # x = 0, y = 0."
   ]
  },
  {
   "cell_type": "markdown",
   "id": "4cc89d29-3f84-42d6-a069-4b7b91154066",
   "metadata": {},
   "source": [
    "7. What is the significance of the `self` parameter in Python constructors? Explain with an example\n",
    "Self represents the instance of the class.\n",
    "By using the “self” we can access the attributes and methods of the class in Python.\n",
    "It binds the attributes with the given arguments. \n",
    "The reason you need to use self. is because Python does not use the @ syntax to refer to instance attributes.\n",
    "\n",
    "Example\n",
    "class point():\n",
    "    def __init__(self, x=0, y=0):\n",
    "        self.x = x\n",
    "        self.y = y"
   ]
  },
  {
   "cell_type": "markdown",
   "id": "5fcc144f-da82-4872-9bd1-1938de4d7f15",
   "metadata": {},
   "source": [
    "8. Discuss the concept of default constructors in Python. When are they used?\n",
    " The default constructor is a simple constructor which doesn’t accept any arguments. Its definition has only one argument which is a reference to the instance being constructed.\n",
    " We use it when we don't want to pass any argument\n",
    " \n",
    " Example\n",
    " def __init__(self):"
   ]
  },
  {
   "cell_type": "code",
   "execution_count": 40,
   "id": "f4acff19-8532-4b10-aeeb-3f187c87e057",
   "metadata": {},
   "outputs": [
    {
     "name": "stdout",
     "output_type": "stream",
     "text": [
      "area of rectangle is 20 cm\n"
     ]
    }
   ],
   "source": [
    "#9. Create a Python class called `Rectangle` with a constructor that initializes the `width` and\n",
    "#`height` attributes. Provide a method to calculate the area of the rectangle.\n",
    "class Rectangle:\n",
    "    def __init__(self,width,height):\n",
    "        self.width = width\n",
    "        self.height = height\n",
    "    \n",
    "    def calculate_area(self):\n",
    "        area = self.width* self.height\n",
    "        print(f\"area of rectangle is {area} cm\")\n",
    "\n",
    "r = Rectangle(4,5)\n",
    "r.calculate_area()\n"
   ]
  },
  {
   "cell_type": "markdown",
   "id": "7814751a-ce07-45ad-89fc-74ee1366b7ce",
   "metadata": {},
   "source": [
    "10. How can you have multiple constructors in a Python class? Explain with an example\n",
    "Multiple constructors are required when one has to perform different actions on the instantiation of a class.\n",
    "This is useful when the class has to perform different actions on different parameters.\n",
    "The class constructors can be made to exhibit polymorphism in three ways which are listed below.\n",
    "\n",
    "Overloading constructors based on arguments.\n",
    "Calling methods from __init__.\n",
    "Using @classmethod decorator.\n",
    "\n",
    "Example\n",
    "class example:\n",
    " \n",
    "    def __init__(self):\n",
    "        print(\"One\")\n",
    " \n",
    "    def __init__(self):\n",
    "        print(\"Two\")\n",
    " \n",
    "    def __init__(self):\n",
    "        print(\"Three\")\n",
    " \n",
    " \n",
    "e = example()"
   ]
  },
  {
   "cell_type": "markdown",
   "id": "8325733c-fbb1-4000-8de7-e62641ac6a36",
   "metadata": {},
   "source": [
    "11. What is method overloading, and how is it related to constructors in Python?\n",
    "\n",
    "Two methods in a class have the same name we call method overloading. \n",
    "Both the methods are having different signatures.\n",
    "Signature means a different number of parameters.\n",
    "If the constructor is written two times with different signatures, we call constructor overloading."
   ]
  },
  {
   "cell_type": "markdown",
   "id": "397f2d62-d2bd-4745-91f4-d15558d2645a",
   "metadata": {},
   "source": [
    "12. Explain the use of the `super()` function in Python constructors. Provide an example.\n",
    "The super() function is often used with the __init__() method to initialize the attributes of the parent class.\n",
    "\n",
    "In Python, the super() function is used to refer to the parent class or superclass.\n",
    "It allows you to call methods defined in the superclass from the subclass, enabling you to extend and customize the functionality inherited from the parent class.\n",
    "\n",
    "Ex\n",
    "class Emp():\n",
    "    def __init__(self, id, name, Add):\n",
    "        self.id = id\n",
    "        self.name = name\n",
    "        self.Add = Add\n",
    " \n",
    "# Class freelancer inherits EMP\n",
    "class Freelance(Emp):\n",
    "    def __init__(self, id, name, Add, Emails):\n",
    "        super().__init__(id, name, Add)\n",
    "        self.Emails = Emails\n"
   ]
  },
  {
   "cell_type": "code",
   "execution_count": 49,
   "id": "297b33d5-3235-4430-9937-80eba3c53305",
   "metadata": {},
   "outputs": [],
   "source": [
    "#13. Create a class called `Book` with a constructor that initializes the `title`, `author`, and\n",
    "#`published_year` attributes. Provide a method to display book details.\n",
    "\n",
    "class Book:\n",
    "    def __init__(self,title,author,published_year):\n",
    "        self.title = title\n",
    "        self.author = author\n",
    "        self.published_year = published_year\n",
    "    def display(self):\n",
    "        print(f\"Title of the book is - {self.title}\\nAuthor of the book is -  {self.author}\\nYear of published -  {self.published_year}\")\n"
   ]
  },
  {
   "cell_type": "code",
   "execution_count": 50,
   "id": "e2dfb1ef-82a1-4348-94b5-a5fdf0fc6b11",
   "metadata": {},
   "outputs": [
    {
     "name": "stdout",
     "output_type": "stream",
     "text": [
      "Title of the book is - JAVA\n",
      "Author of the book is -  Sudhanshu Kumar\n",
      "Year of published -  2023\n"
     ]
    }
   ],
   "source": [
    "b = Book(\"JAVA\", \"Sudhanshu Kumar\",2023)\n",
    "b.display()"
   ]
  },
  {
   "cell_type": "markdown",
   "id": "ff5da388-db1b-48b9-a52b-faf497297e1c",
   "metadata": {},
   "source": [
    "14. Discuss the differences between constructors and regular methods in Python classes\n",
    "A Constructor is a block of code that initializes a newly created object. A Constructor can be used to initialize an object.\n",
    " \n",
    "A Method is a collection of statements which returns a value upon its execution. "
   ]
  },
  {
   "cell_type": "markdown",
   "id": "a9d162ef-0989-4baf-9838-a0575ac7c6ce",
   "metadata": {},
   "source": [
    "15. Explain the role of the `self` parameter in instance variable initialization within a constructor.\n",
    "The self variable is used to represent the instance of the class which is often used in object-oriented programming.\n",
    "It works as a reference to the object. Python uses the self parameter to refer to instance attributes and methods of the class."
   ]
  },
  {
   "cell_type": "markdown",
   "id": "28c11c4c-475d-4ce4-b19b-ba4595dcec92",
   "metadata": {},
   "source": [
    "16. How do you prevent a class from having multiple instances by using constructors in Python? Provide an example.\n",
    "By Using super() class function\n",
    "Ex\n",
    "class Emp():\n",
    "    def __init__(self, id, name, Add):\n",
    "        self.id = id\n",
    "        self.name = name\n",
    "        self.Add = Add\n",
    " \n",
    "# Class freelancer inherits EMP\n",
    "class Freelance(Emp):\n",
    "    def __init__(self, id, name, Add, Emails):\n",
    "        super().__init__(id, name, Add)\n",
    "        self.Emails = Emails\n"
   ]
  },
  {
   "cell_type": "code",
   "execution_count": 55,
   "id": "aaf33421-9a92-4492-99bd-bad9bed1c6d4",
   "metadata": {},
   "outputs": [
    {
     "name": "stdout",
     "output_type": "stream",
     "text": [
      "['maths', 'science']\n"
     ]
    }
   ],
   "source": [
    "#17. Create a Python class called `Student` with a constructor that takes a list of subjects as a\n",
    "#parameter and initializes the `subjects` attribute.\n",
    "\n",
    "class Student:\n",
    "    def __init__(self,subject =[]):\n",
    "        self.subject =subject\n",
    "    def display(self):\n",
    "        print(self.subject)\n",
    "sm=Student(['maths','science'])\n",
    "sm.display()\n",
    "\n",
    "    \n",
    "    \n"
   ]
  },
  {
   "cell_type": "markdown",
   "id": "21d88fcb-1db6-4e86-83d5-253edf6d6630",
   "metadata": {},
   "source": [
    "18. What is the purpose of the `__del__` method in Python classes, and how does it relate to constructors?\n",
    "In Python, the __del__() method is referred to as a destructor method. \n",
    "It is called after an object's garbage collection occurs, which happens after all references to the item have been destroyed."
   ]
  },
  {
   "cell_type": "markdown",
   "id": "46678a02-3ae9-4a96-bc44-481b3ae29221",
   "metadata": {},
   "source": [
    "19. Explain the use of constructor chaining in Python. Provide a practical example\n",
    "Constructor chaining is the process of calling one constructor from another constructor. \n",
    "Constructor chaining is useful when you want to invoke multiple constructors, one after another, by initializing only one instance.\n",
    "In Python, constructor chaining is convenient when we are dealing with inheritance.\n",
    "\n",
    "Ex\n",
    "class Emp():\n",
    "    def __init__(self, id, name, Add):\n",
    "        self.id = id\n",
    "        self.name = name\n",
    "        self.Add = Add\n",
    " \n",
    "\n",
    "class Freelance(Emp):\n",
    "    def __init__(self, id, name, Add, Emails):\n",
    "        super().__init__(id, name, Add)\n",
    "        self.Emails = Emails"
   ]
  },
  {
   "cell_type": "code",
   "execution_count": 57,
   "id": "f2c4eebf-cac2-4659-9ba8-6fba0b616d82",
   "metadata": {},
   "outputs": [
    {
     "name": "stdin",
     "output_type": "stream",
     "text": [
      "Enter year  2023\n",
      "Enter the model  Hyundai Creta\n"
     ]
    },
    {
     "name": "stdout",
     "output_type": "stream",
     "text": [
      "Year of making car is - 2023\n",
      "Model of the car is - Hyundai Creta\n"
     ]
    }
   ],
   "source": [
    "#20. Create a Python class called `Car` with a default constructor that initializes the `make` and\n",
    "#`model` attributes. Provide a method to display car information.\n",
    "\n",
    "class car:\n",
    "    def __init__(self):\n",
    "        self.make = input(\"Enter year \")\n",
    "        self.model = input(\"Enter the model \")\n",
    "    def display(self):\n",
    "        print(f\"Year of making car is - {self.make}\\nModel of the car is - {self.model}\")\n",
    "c =car()\n",
    "c.display()\n",
    "            \n",
    "    \n"
   ]
  },
  {
   "cell_type": "raw",
   "id": "3d4d9f49-60a4-4afe-98a3-1ac782888081",
   "metadata": {},
   "source": [
    "Inheritance ➖\n"
   ]
  },
  {
   "cell_type": "markdown",
   "id": "bc4195f5-bcad-41a4-9ebf-d6646563934c",
   "metadata": {},
   "source": [
    "1. What is inheritance in Python? Explain its significance in object-oriented programming.\n",
    "Inheritance is the concept in OOPs in which one class inherits the attributes and methods of another class.\n",
    "The class whose properties and methods are inherited is known as the Parent class.\n",
    "And the class that inherits the properties from the parent class is the Child class.\n",
    "\n",
    "Inheritance provides code reusability to the program because we can use an existing class to create a new class instead of creating it from scratch\n"
   ]
  },
  {
   "cell_type": "markdown",
   "id": "236218b2-985c-4f16-8e2e-e42c89ce2277",
   "metadata": {},
   "source": [
    "2. Differentiate between single inheritance and multiple inheritance in Python. Provide examples for each.\n",
    "Single Inheritance: \n",
    "Single inheritance enables a derived class to inherit properties from a single parent class, thus enabling code reusability and the addition of new features to existing code.\n",
    "\n",
    "Ex\n",
    "\n",
    "class Parent:\n",
    "    def func1(self):\n",
    "        print(\"This function is in parent class.\")\n",
    "\n",
    "class Child(Parent):\n",
    "    def func2(self):\n",
    "        print(\"This function is in child class.\")\n",
    "        \n",
    "\n",
    "object = Child()\n",
    "object.func1()\n",
    "object.func2()\n",
    "\n",
    "Multiple Inheritance: \n",
    "When a class can be derived from more than one base class this type of inheritance is called multiple inheritances. In multiple inheritances, all the features of the base classes are inherited into the derived class. \n",
    "\n",
    "Ex\n",
    "\n",
    "class Mother:\n",
    "    mothername = \"\"\n",
    " \n",
    "    def mother(self):\n",
    "        print(self.mothername)\n",
    " \n",
    "\n",
    "class Father:\n",
    "    fathername = \"\"\n",
    " \n",
    "    def father(self):\n",
    "        print(self.fathername)\n",
    " \n",
    "\n",
    "class Son(Mother, Father):\n",
    "    def parents(self):\n",
    "        print(\"Father :\", self.fathername)\n",
    "        print(\"Mother :\", self.mothername)\n",
    "\n",
    "s1 = Son()\n",
    "s1.fathername = \"RAM\"\n",
    "s1.mothername = \"SITA\"\n",
    "s1.parents()\n",
    "\n"
   ]
  },
  {
   "cell_type": "code",
   "execution_count": 62,
   "id": "5c5a2aa8-bcff-4539-a10b-c6e92d1b084b",
   "metadata": {},
   "outputs": [],
   "source": [
    "#3. Create a Python class called `Vehicle` with attributes `color` and `speed`. Then, create a child\n",
    "#class called `Car` that inherits from `Vehicle` and adds a `brand` attribute. Provide an example\n",
    "#of creating a `Car` object.\n",
    "class vehicle:\n",
    "    def __init__(self,color,speed):\n",
    "        self.color=color\n",
    "        self.speed=speed\n",
    "class car(vehicle):\n",
    "    def __init__(self,brand):\n",
    "        self.brand = brand\n",
    "v = vehicle(\"red\",100,)        \n",
    "c = car(\"Tata Motors\")\n",
    "\n"
   ]
  },
  {
   "cell_type": "markdown",
   "id": "1a133e54-2b74-4318-a3d6-03eb7744bebf",
   "metadata": {},
   "source": [
    "4. Explain the concept of method overriding in inheritance. Provide a practical example\n",
    "Method overriding is an ability of any object-oriented programming language that allows a subclass or child class to provide a specific implementation of a method that is already provided by one of its super-classes or parent classes.\n",
    "When a method in a subclass has the same name, same parameters or signature and same return type(or sub-type) as a method in its super-class, then the method in the subclass is said to override the method in the super-class.\n",
    "\n",
    "class Parent():    \n",
    "   def __init__(self): \n",
    "        self.value = \"Inside Parent\"\n",
    "    def show(self): \n",
    "        print(self.value) \n",
    "\n",
    "class Child(Parent): \n",
    "    def __init__(self): \n",
    "        self.value = \"Inside Child\"\n",
    "    def show(self): \n",
    "        print(self.value) \n",
    "\n",
    "obj1 = Parent() \n",
    "obj2 = Child() \n",
    "  \n",
    "obj1.show() \n",
    "obj2.show() "
   ]
  },
  {
   "cell_type": "markdown",
   "id": "b5ce8185-9741-4ef9-a620-b9f33c0d2b10",
   "metadata": {},
   "source": [
    "5. How can you access the methods and attributes of a parent class from a child class in Python? Give an example.\n",
    "Use the super() method to call the constructor of the parent in the child.\n",
    "The __init__() method will set the instance variables.\n",
    "Access any of the parent class's attributes or methods on the self object.\n",
    "\n",
    "Ex\n",
    "class vehicle:\n",
    "    def __init__(self,color,speed):\n",
    "        self.color=color\n",
    "        self.speed=speed\n",
    "class car(vehicle):\n",
    "    def __init__(self,color,speed,brand):\n",
    "        super().__init__(color,speed)\n",
    "        self.brand = brand\n",
    "        \n",
    "     \n",
    "c = car(\"red\",1000,\"Tata Motors\")\n"
   ]
  },
  {
   "cell_type": "code",
   "execution_count": 79,
   "id": "ca3087c1-1ec8-49d2-9954-970cdc119f35",
   "metadata": {},
   "outputs": [],
   "source": [
    "#By using super class name\n",
    "class vehicle:\n",
    "    def __init__(self,color,speed):\n",
    "        self.color=color\n",
    "        self.speed=speed\n",
    "class car(vehicle):\n",
    "    def __init__(self,color,speed,brand):\n",
    "        vehicle.__init__(self,color,speed)\n",
    "        self.brand = brand\n",
    "        \n",
    "     \n",
    "c = car(\"red\",1000,\"Tata Motors\")"
   ]
  },
  {
   "cell_type": "markdown",
   "id": "952bea52-00dd-42a6-9ec2-7330d4fdf048",
   "metadata": {},
   "source": [
    "6. Discuss the use of the `super()` function in Python inheritance. When and why is it used?\n",
    "Provide an example.\n",
    "Use the super() method to call the constructor of the parent in the child.\n",
    "The __init__() method will set the instance variables.\n",
    "Access any of the parent class's attributes or methods on the self object.\n",
    "\n",
    "Ex\n",
    "class vehicle:\n",
    "    def __init__(self,color,speed):\n",
    "        self.color=color\n",
    "        self.speed=speed\n",
    "class car(vehicle):\n",
    "    def __init__(self,color,speed,brand):\n",
    "        super().__init__(color,speed)\n",
    "        self.brand = brand\n",
    "        \n",
    "     \n",
    "c = car(\"red\",1000,\"Tata Motors\")\n"
   ]
  },
  {
   "cell_type": "raw",
   "id": "684f2a9a-54a6-4735-81e4-f00697a4cf96",
   "metadata": {},
   "source": [
    "7. Create a Python class called `Animal` with a method `speak()`. Then, create child classes\n",
    "`Dog` and `Cat` that inherit from `Animal` and override the `speak()` method. Provide an\n",
    "example of using these classes.\n"
   ]
  },
  {
   "cell_type": "code",
   "execution_count": null,
   "id": "32dca534-3264-4bb5-b0ed-40872d14c7ea",
   "metadata": {},
   "outputs": [],
   "source": [
    "class Animal:\n",
    "    def speak(self):\n",
    "\n",
    "class Dog(Animal):\n",
    "    def speak(self):\n",
    "class Cat(Animal):\n",
    "    def speak(self):"
   ]
  },
  {
   "cell_type": "raw",
   "id": "8f7727c1-ddd4-4425-b61c-2f74a89d194e",
   "metadata": {},
   "source": [
    "8. Explain the role of the `isinstance()` function in Python and how it relates to inheritance.\n",
    "The isinstance () function checks whether an object is an instance of the class mentioned.\n",
    "One can test if an object or variable is an instance of the type or class. \n",
    "If inheritance is present in the program, then the function can be used to check if a specified class is the parent class of an object."
   ]
  },
  {
   "cell_type": "raw",
   "id": "07e4eb60-abfd-44ea-a104-110229efe970",
   "metadata": {},
   "source": [
    "9. What is the purpose of the `issubclass()` function in Python? Provide an example.\n",
    "The issubclass() function returns True if the specified object is a subclass of the specified object, otherwise False.\n",
    "Ex\n",
    "class myAge:\n",
    "  age = 36\n",
    "\n",
    "class myObj(myAge):\n",
    "  name = \"John\"\n",
    "  age = myAge\n",
    "\n",
    "x = issubclass(myObj, myAge)"
   ]
  },
  {
   "cell_type": "raw",
   "id": "258115a7-be10-4622-9620-615523265315",
   "metadata": {},
   "source": [
    "10. Discuss the concept of constructor inheritance in Python. How are constructors inherited in\n",
    "child classes?\n",
    "In Python, every class inherits from a built-in basic class called ‘object’. The constructor i.e. the ‘__init__’ function of a class is invoked when we create an object variable or an instance of the class.\n",
    "\n",
    "The variables defined within __init__() are called instance variables or objects. "
   ]
  },
  {
   "cell_type": "code",
   "execution_count": 7,
   "id": "4b44e3c0-7fc8-4dc1-935a-815d97ddd684",
   "metadata": {},
   "outputs": [
    {
     "name": "stdout",
     "output_type": "stream",
     "text": [
      "area of circle is : 113.076\n",
      "area of rectangle is : 20\n"
     ]
    }
   ],
   "source": [
    "#11. Create a Python class called `Shape` with a method `area()` that calculates the area of a\n",
    "#shape. Then, create child classes `Circle` and `Rectangle` that inherit from `Shape` and\n",
    "#implement the `area()` method accordingly. Provide an example.\n",
    "class Shape:\n",
    "    def area(self):\n",
    "        pass\n",
    "class Circle(Shape):\n",
    "    def area(self,redius):\n",
    "        self.redius = redius\n",
    "        r = 3.141*self.redius*self.redius\n",
    "        print(f\"area of circle is : {r}\")\n",
    "class Rectangle(Shape):\n",
    "    def area(self,width,height):\n",
    "        self.width = width\n",
    "        self.height = height\n",
    "        r = self.width * self.height\n",
    "        print(f\"area of rectangle is : {r}\")\n",
    "        \n",
    "c = Circle()\n",
    "c.area(6)\n",
    "r = Rectangle()\n",
    "r.area(4,5)\n",
    "        "
   ]
  },
  {
   "cell_type": "raw",
   "id": "5b6f2491-a19b-49df-be33-c38c8a926e49",
   "metadata": {},
   "source": [
    "12. Explain the use of abstract base classes (ABCs) in Python and how they relate to\n",
    "inheritance. Provide an example using the `abc` module.\n",
    "\n",
    "The main goal of the abstract base class is to provide a standardized way to test whether an object adheres to a given specification. It can also prevent any attempt to instantiate a subclass that doesn’t override a particular method in the superclass. And finally, using an abstract class, a class can derive identity from another class without any object inheritance\n",
    "import abc \n",
    "  \n",
    "  \n",
    "class AbstractClass(metaclass=abc.ABCMeta): \n",
    "    def abstractfunc(self): \n",
    "        return None\n",
    "  \n",
    "  \n",
    "print(AbstractClass.register(dict)) \n"
   ]
  },
  {
   "cell_type": "code",
   "execution_count": null,
   "id": "66a94be2-fb6d-4e80-b116-d24cabea0797",
   "metadata": {},
   "outputs": [],
   "source": [
    "#13. How can you prevent a child class from modifying certain attributes or methods inherited\n",
    "#from a parent class in Python?\n",
    "\n"
   ]
  },
  {
   "cell_type": "code",
   "execution_count": null,
   "id": "cb56edff-4146-4f4a-9e47-1a23267ca497",
   "metadata": {},
   "outputs": [],
   "source": []
  },
  {
   "cell_type": "code",
   "execution_count": null,
   "id": "84a6bf88-2823-4742-8027-9a0cd68799c3",
   "metadata": {},
   "outputs": [],
   "source": [
    "#14. Create a Python class called `Employee` with attributes `name` and `salary`. Then, create a\n",
    "#child class `Manager` that inherits from `Employee` and adds an attribute `department`. Provide\n",
    "#an example.\n",
    "\n",
    "class Employee:\n",
    "    def __init__(self,name,salary):\n",
    "        self.name = name\n",
    "        self.salary = salary\n",
    "class Manager(Employee):\n",
    "    def __init__(self,deparment):\n",
    "        super().__init__(name,salary)\n",
    "        self.department = department"
   ]
  },
  {
   "cell_type": "raw",
   "id": "ac0c4b2c-8181-470c-8526-3dc22abb1654",
   "metadata": {},
   "source": [
    "15. Discuss the concept of method overloading in Python inheritance. How does it differ from\n",
    "method overriding?\n",
    "In the process of method overloading, all the functions or methods must contain the same name with varied signatures. In the process of method overriding, all the functions or methods must possess the very same name along with similar signatures.\n",
    "\n",
    "Ex method overloading\n",
    "class Shape:\n",
    "    def area(self):\n",
    "        pass\n",
    "class Circle(Shape):\n",
    "    def area(self,redius):\n",
    "        self.redius = redius\n",
    "        r = 3.141*self.redius*self.redius\n",
    "        print(f\"area of circle is : {r}\")\n",
    "class Rectangle(Shape):\n",
    "    def area(self,width,height):\n",
    "        self.width = width\n",
    "        self.height = height\n",
    "        r = self.width * self.height\n",
    "        print(f\"area of rectangle is : {r}\")\n",
    "\n",
    "Ex method overriding\n",
    "\n",
    "\n",
    "class A:\n",
    " \n",
    "    def fun1(self):\n",
    "        print('feature_1 of class A')\n",
    "         \n",
    "    def fun2(self):\n",
    "        print('feature_2 of class A')\n",
    "     \n",
    " \n",
    "class B(A):\n",
    "     \n",
    "    # Modified function that is \n",
    "    # already exist in class A\n",
    "    def fun1(self):\n",
    "        print('Modified feature_1 of class A by class B')    \n",
    "         \n",
    "    def fun3(self):\n",
    "        print('feature_3 of class B')\n",
    "         \n",
    " \n",
    "# Create instance\n",
    "obj = B()\n",
    "     \n",
    "# Call the override function\n",
    "obj.fun1()\n",
    "\n"
   ]
  },
  {
   "cell_type": "code",
   "execution_count": null,
   "id": "404453e8-99dc-40e7-8d04-cc61f4d93e2d",
   "metadata": {},
   "outputs": [],
   "source": [
    "#16. Explain the purpose of the `__init__()` method in Python inheritance and how it is utilized in\n",
    "#child classes."
   ]
  },
  {
   "cell_type": "code",
   "execution_count": null,
   "id": "bf8a6f0d-dd3c-42af-9b91-43b9674c0651",
   "metadata": {},
   "outputs": [],
   "source": []
  },
  {
   "cell_type": "code",
   "execution_count": null,
   "id": "50189bbf-e4ec-4fd2-96de-bdff5cec1a67",
   "metadata": {},
   "outputs": [],
   "source": []
  },
  {
   "cell_type": "code",
   "execution_count": null,
   "id": "e0adc38e-974d-40ce-93a1-cdb4923497fc",
   "metadata": {},
   "outputs": [],
   "source": []
  },
  {
   "cell_type": "code",
   "execution_count": null,
   "id": "a7533e93-cb35-407f-a622-a0844c1ed86f",
   "metadata": {},
   "outputs": [],
   "source": []
  },
  {
   "cell_type": "markdown",
   "id": "6ed17fc8-2d55-412e-8018-c32a52da0037",
   "metadata": {},
   "source": [
    "2. Describe the difference between compile-time polymorphism and runtime polymorphism in Python.\n",
    "In Compile time Polymorphism, the call is resolved by the compiler.It is also known as Static binding, Early binding and overloading as well.\n",
    "In Run time Polymorphism, the call is not resolved by the compiler.  It is also known as Dynamic binding, Late binding and overriding as well."
   ]
  },
  {
   "cell_type": "markdown",
   "id": "4dedd6df-3358-4a64-b0b1-8f91066b2219",
   "metadata": {},
   "source": [
    "3. Create a Python class hierarchy for shapes (e.g., circle, square, triangle) and demonstrate polymorphism through a common method, such as `calculate_area()`.\n"
   ]
  },
  {
   "cell_type": "code",
   "execution_count": 1,
   "id": "74696de4-1565-4684-8fae-19f4e8230cd1",
   "metadata": {},
   "outputs": [
    {
     "data": {
      "text/plain": [
       "'Area of triangle is : 15.0'"
      ]
     },
     "execution_count": 1,
     "metadata": {},
     "output_type": "execute_result"
    }
   ],
   "source": [
    "class shapes:\n",
    "    def calculate_area(self):\n",
    "        pass\n",
    "    \n",
    "class circle(shapes):\n",
    "    def __init__(self,radius):\n",
    "        self.radius = radius\n",
    "    def calculate_area(self):\n",
    "        area = 3.141*radius*radius\n",
    "        return f\"Area of cirlce is : {area}\"\n",
    "        \n",
    "class square(shapes):\n",
    "    def __init__(self,side):\n",
    "        self.side = side\n",
    "    def calculate_area(self):\n",
    "        area = self.side*self.side\n",
    "        return f\"Area of square is : {area}\"\n",
    "\n",
    "class triangle(shapes):\n",
    "    def __init__(self,base,height):\n",
    "        self.base = base\n",
    "        self.height = height\n",
    "    def calculate_area(self):\n",
    "        area = 0.5*self.base*self.height\n",
    "        return f\"Area of triangle is : {area}\"\n",
    "        \n",
    "\n",
    "s =shapes()\n",
    "c = triangle(5,6)\n",
    "c.calculate_area()\n",
    "        \n",
    "    \n",
    "        \n",
    "    "
   ]
  },
  {
   "cell_type": "code",
   "execution_count": 26,
   "id": "67791504-a290-4b04-845d-48a19c2b4f1c",
   "metadata": {},
   "outputs": [],
   "source": [
    "import math\n",
    "\n",
    "class Shape:\n",
    "    def calculate_area(self):\n",
    "        pass\n",
    "class Circle(Shape):\n",
    "    def __init__(self, radius):\n",
    "        self.radius = radius\n",
    "\n",
    "    def calculate_area(self):\n",
    "        return math.pi * self.radius**2\n",
    "\n",
    "class Rectangle(Shape):\n",
    "    def __init__(self, length, width):\n",
    "        self.length = length\n",
    "        self.width = width\n",
    "\n",
    "    def calculate_area(self):\n",
    "        return self.length * self.width\n",
    "    \n",
    "class Triangle(Shape):\n",
    "    def __init__(self, base, height):\n",
    "        self.base = base\n",
    "        self.height = height\n",
    "        \n",
    "    def calculate_area(self):\n",
    "        return 0.5 * self.base * self.height\n",
    "    \n"
   ]
  },
  {
   "cell_type": "code",
   "execution_count": 31,
   "id": "418d1008-f978-4b0c-a511-8e88449cc626",
   "metadata": {},
   "outputs": [
    {
     "name": "stdout",
     "output_type": "stream",
     "text": [
      "Radius of the circle: 7\n",
      "Circle Area: 153.93804002589985\n"
     ]
    }
   ],
   "source": [
    "r = 7\n",
    "circle = Circle(r)\n",
    "circle_area = circle.calculate_area()\n",
    "\n",
    "print(\"Radius of the circle:\",r)\n",
    "print(\"Circle Area:\", circle_area)\n",
    "\n"
   ]
  },
  {
   "cell_type": "raw",
   "id": "3b1dfe7e-ff35-4ab1-bf99-11e3af0344ab",
   "metadata": {},
   "source": [
    "4. Explain the concept of method overriding in polymorphism. Provide an example.\n",
    "We can achieve Runtime polymorphism via Method Overriding.\n",
    "Method Overriding is done when a child or a subclass has a method with the same name, parameters, and return type as the parent or the superclass;then that function overrides the function in the superclass.\n",
    "Example\n",
    "        \n",
    "class Vehicle:\n",
    "    def __init__(self, brand, model, price):\n",
    "        self.brand = brand\n",
    "        self.model = model\n",
    "        self.price = price\n",
    "\n",
    "    def show(self):\n",
    "        print('Details:', self.brand, self.model, 'Price:', self.price)\n",
    "\n",
    "    def max_speed(self):\n",
    "        print('Vehicle max speed is 160')\n",
    "\n",
    "    def gear_system(self):\n",
    "        print('Vehicle has 6 shifter gearbox')\n",
    "\n",
    "# inherit from vehicle class\n",
    "class Car(Vehicle):\n",
    "    def max_speed(self):\n",
    "        print('Car max speed is 260')\n",
    "\n",
    "    def gear_system(self):\n",
    "        print('Car has Automatic Transmission')\n",
    "\n",
    "# Car Object\n",
    "car = Car('Audi', 'R8', 9000000)\n",
    "car.show()\n",
    "# call methods from Car class\n",
    "car.max_speed()\n",
    "car.gear_system()\n",
    "\n",
    "# Vehicle Object\n",
    "vehicle = Vehicle('Nissan', 'Magnite', 550000)\n",
    "vehicle.show()\n",
    "# call method from a Vehicle class\n",
    "vehicle.max_speed()\n",
    "vehicle.gear_system()"
   ]
  },
  {
   "cell_type": "markdown",
   "id": "d5bead38-9ede-49cc-9e70-1a96e6ada09f",
   "metadata": {},
   "source": [
    "5. How is polymorphism different from method overloading in Python? Provide examples for both.\n",
    "Method Overloading is an example of Compile time polymorphism. \n",
    "In this, more than one method of the same class shares the same method name having different signatures. \n",
    "Method overloading is used to add more to the behavior of methods and there is no need of more than one class for method overloading.\n",
    "\n",
    "Example overloading\n",
    "class addition:\n",
    "    def add(self,num1,num2):\n",
    "        return num1+num2\n",
    "    def add(num1,num2,num3):\n",
    "        return num1+num2+num3\n",
    "Exaple polymorphism\n",
    "import math\n",
    "\n",
    "class Shape:\n",
    "    def calculate_area(self):\n",
    "        pass\n",
    "class Circle(Shape):\n",
    "    def __init__(self, radius):\n",
    "        self.radius = radius\n",
    "\n",
    "    def calculate_area(self):\n",
    "        return math.pi * self.radius**2\n",
    "\n",
    "class Rectangle(Shape):\n",
    "    def __init__(self, length, width):\n",
    "        self.length = length\n",
    "        self.width = width\n",
    "\n",
    "    def calculate_area(self):\n",
    "        return self.length * self.width\n",
    "    \n",
    "class Triangle(Shape):\n",
    "    def __init__(self, base, height):\n",
    "        self.base = base\n",
    "        self.height = height\n",
    "        \n",
    "    def calculate_area(self):\n",
    "        return 0.5 * self.base * self.height\n"
   ]
  },
  {
   "cell_type": "code",
   "execution_count": 6,
   "id": "e5936e68-fb52-4ad1-b6a4-78dbb02a2447",
   "metadata": {},
   "outputs": [
    {
     "name": "stdout",
     "output_type": "stream",
     "text": [
      "Bow-wo\n"
     ]
    }
   ],
   "source": [
    "#6. Create a Python class called `Animal` with a method `speak()`. Then, create child\n",
    "#classes like `Dog`, `Cat`, and `Bird`, each with their own `speak()` method. Demonstrate\n",
    "#polymorphism by calling the `speak()` method on objects of different subclasses\n",
    "\n",
    "class Animal:\n",
    "    def speak(self):\n",
    "        pass\n",
    "class Dog(Animal):\n",
    "    def speak(self):\n",
    "        print(\"Bow-wo\")\n",
    "class Cat(Animal):\n",
    "    def speak(self):\n",
    "        print(\"Mau-Mau\")\n",
    "class Bird(Animal):\n",
    "    def speak(self):\n",
    "        print(\"Chew-chew\")\n",
    "        \n",
    "obj =Animal()\n",
    "obj_Dog =Dog()\n",
    "obj_Dog.speak()\n",
    "        "
   ]
  },
  {
   "cell_type": "raw",
   "id": "309ed133-9f6b-4b4f-a7f6-b0fb4461f02e",
   "metadata": {},
   "source": [
    "#7. Discuss the use of abstract methods and classes in achieving polymorphism in\n",
    "#Python. Provide an example using the `abc` module.\n",
    "\n",
    "An abstract class can be considered a blueprint for other classes. It allows you to create a set of methods that must be created within any child classes built from the abstract class.\n",
    "\n",
    "A class that contains one or more abstract methods is called an abstract class. An abstract method is a method that has a declaration but does not have an implementation.\n",
    "\n",
    "# Python program showing \n",
    "# abstract base class work \n",
    "from abc import ABC, abstractmethod \n",
    "  \n",
    "  \n",
    "class Polygon(ABC): \n",
    "  \n",
    "    @abstractmethod\n",
    "    def noofsides(self): \n",
    "        pass\n",
    "  \n",
    "  \n",
    "class Triangle(Polygon): \n",
    "  \n",
    "    # overriding abstract method \n",
    "    def noofsides(self): \n",
    "        print(\"I have 3 sides\") \n",
    "  \n",
    "  \n",
    "class Pentagon(Polygon): \n",
    "  \n",
    "    # overriding abstract method \n",
    "    def noofsides(self): \n",
    "        print(\"I have 5 sides\") \n",
    "  \n",
    "  \n",
    "class Hexagon(Polygon): \n",
    "  \n",
    "    # overriding abstract method \n",
    "    def noofsides(self): \n",
    "        print(\"I have 6 sides\") \n",
    "  \n",
    "  \n",
    "class Quadrilateral(Polygon): \n",
    "  \n",
    "    # overriding abstract method \n",
    "    def noofsides(self): \n",
    "        print(\"I have 4 sides\")"
   ]
  },
  {
   "cell_type": "code",
   "execution_count": 7,
   "id": "bb931bc8-045a-4168-8b3e-febbd97f4f02",
   "metadata": {},
   "outputs": [
    {
     "name": "stdout",
     "output_type": "stream",
     "text": [
      "Its car\n"
     ]
    }
   ],
   "source": [
    "#8. Create a Python class hierarchy for a vehicle system (e.g., car, bicycle, boat) and\n",
    "#implement a polymorphic `start()` method that prints a message specific to each\n",
    "#vehicle type.\n",
    "class vehicle:\n",
    "    def start(self):\n",
    "        pass\n",
    "class car(vehicle):\n",
    "    def start(self):\n",
    "        print(\"Its car\")\n",
    "class bicycle(vehicle):\n",
    "    def start(self):\n",
    "        print(\"Its bicycle\")\n",
    "class boat(vehicle):\n",
    "    def start(self):\n",
    "        print(\"Its boat\")\n",
    "    \n",
    "obj_vehicle =vehicle()\n",
    "obj_car = car()\n",
    "obj_car.start()\n"
   ]
  },
  {
   "cell_type": "raw",
   "id": "fa1a74c4-50db-43c4-a492-a415354dc57b",
   "metadata": {},
   "source": [
    "#9. Explain the significance of the `isinstance()` and `issubclass()` functions in Python\n",
    "#polymorphism.\n",
    "The function isinstance () checks whether the object that is passed in its parameters is the subclass of the classinfo mentioned within the parameters. On the other hand, the Python issubclass () function only checks whether a class is a subclass of a supposed parent class."
   ]
  },
  {
   "cell_type": "raw",
   "id": "1ca8fb17-28df-498f-94b3-1cc0e8eaba6d",
   "metadata": {},
   "source": [
    "#10. What is the role of the `@abstractmethod` decorator in achieving polymorphism in\n",
    "#Python? Provide an example.\n",
    "\n",
    "By using @abstractmethod decorator we can declare a method as an abstract method. @abstractmethod decorator presents in abc module. We should import the abc module in order to use the decorator. Since abstract method is an unimplemented method, we need to put a pass statement, else it will result in error.\n",
    "from abc import *\n",
    "class Demo1(ABC):\n",
    "   @abstractmethod\n",
    "   def m1(self):\n",
    "       pass\n",
    "   @abstractmethod\n",
    "   def m2(self):\n",
    "       pass\n",
    "   def m3(self):\n",
    "       print(\"Implemented method\")\n"
   ]
  },
  {
   "cell_type": "code",
   "execution_count": 8,
   "id": "828a0815-bca0-4506-b31a-0c105167de12",
   "metadata": {},
   "outputs": [
    {
     "name": "stdout",
     "output_type": "stream",
     "text": [
      "50.24\n",
      "20\n",
      "20.0\n"
     ]
    }
   ],
   "source": [
    "#11. Create a Python class called `Shape` with a polymorphic method `area()` that\n",
    "#calculates the area of different shapes (e.g., circle, rectangle, triangle).\n",
    "class Shape:\n",
    "  def area(self):\n",
    "    pass\n",
    "\n",
    "class Circle(Shape):\n",
    "  def __init__(self, radius):\n",
    "    self.radius = radius\n",
    "  def area(self):\n",
    "    return self.radius ** 2 * 3.14\n",
    "\n",
    "class Rectangle(Shape):\n",
    "  def __init__(self, width, height):\n",
    "    self.width = width\n",
    "    self.height = height\n",
    "  def area(self):\n",
    "    return self.width * self.height\n",
    "\n",
    "class Triangle(Shape):\n",
    "  def __init__(self, base, height):\n",
    "    self.base = base\n",
    "    self.height = height\n",
    "  def area(self):\n",
    "    return self.base * self.height / 2\n",
    "\n",
    "p = Circle(4)\n",
    "q = Rectangle(4,5)\n",
    "r = Triangle(5,8)\n",
    "print(p.area())\n",
    "print(q.area())\n",
    "print(r.area())\n",
    "    \n"
   ]
  },
  {
   "cell_type": "raw",
   "id": "d2eb9109-2f83-461c-8fc9-79041f30cb88",
   "metadata": {},
   "source": [
    "#12. Discuss the benefits of polymorphism in terms of code reusability and flexibility in\n",
    "#Python programs.\n",
    "Polymorphism in Python is a core concept that allows objects to demonstrate diverse behaviors while maintaining code simplicity. By offering a shared interface for different classes, it permits functions and operators to adapt their actions based on input types. This enables code that is easier to read and maintain, promotes efficient software development, and encourages a more versatile approach to problem-solving\n"
   ]
  },
  {
   "cell_type": "raw",
   "id": "9f377ac8-8066-4a1a-8a7b-cf3517286217",
   "metadata": {},
   "source": [
    "#13. Explain the use of the `super()` function in Python polymorphism. How does it help\n",
    "#call methods of parent classes?\n",
    "Method Overriding - The super() function can be used to override the methods of a parent class in the child class. Multiple Inheritance - The super() function can be used to access the attributes and methods of multiple parent classes in a child class when multiple inheritances is used.\n"
   ]
  },
  {
   "cell_type": "code",
   "execution_count": 9,
   "id": "099c0559-1a50-4364-91e6-12cd6e851e4e",
   "metadata": {},
   "outputs": [],
   "source": [
    "#14. Create a Python class hierarchy for a banking system with various account types\n",
    "#(e.g., savings, checking, credit card) and demonstrate polymorphism by implementing a\n",
    "#common `withdraw()` method.\n",
    "class bank:\n",
    "    def withdraw(self):\n",
    "        pass\n",
    "class saving(bank):\n",
    "    def withdraw(self):\n",
    "        print(\"withdraw from saving account\")\n",
    "class checking(bank):\n",
    "    def withdraw(self):\n",
    "        print(\"withdraw from Checking account\")\n",
    "class credit_card(bank):\n",
    "    def withdraw(self):\n",
    "        print(\"withdraw from credit card\")\n"
   ]
  },
  {
   "cell_type": "code",
   "execution_count": null,
   "id": "6838e2e2-b2da-4216-b09a-7c28d983602f",
   "metadata": {},
   "outputs": [],
   "source": [
    "#15. Describe the concept of operator overloading in Python and how it relates to\n",
    "#polymorphism. Provide examples using operators like `+` and `*`.\n"
   ]
  },
  {
   "cell_type": "code",
   "execution_count": null,
   "id": "ca013b28-73dc-4195-ab21-ccef2f6d96ba",
   "metadata": {},
   "outputs": [],
   "source": []
  },
  {
   "cell_type": "code",
   "execution_count": null,
   "id": "2294e431-4594-4ddb-be0d-8948d1886ad3",
   "metadata": {},
   "outputs": [],
   "source": []
  },
  {
   "cell_type": "code",
   "execution_count": null,
   "id": "2210cc3e-b81d-47df-854f-55389cd2f6ed",
   "metadata": {},
   "outputs": [],
   "source": []
  },
  {
   "cell_type": "code",
   "execution_count": null,
   "id": "4a2fe9bb-1c61-4a83-a978-2879c9ba1462",
   "metadata": {},
   "outputs": [],
   "source": []
  }
 ],
 "metadata": {
  "kernelspec": {
   "display_name": "Python 3 (ipykernel)",
   "language": "python",
   "name": "python3"
  },
  "language_info": {
   "codemirror_mode": {
    "name": "ipython",
    "version": 3
   },
   "file_extension": ".py",
   "mimetype": "text/x-python",
   "name": "python",
   "nbconvert_exporter": "python",
   "pygments_lexer": "ipython3",
   "version": "3.10.8"
  }
 },
 "nbformat": 4,
 "nbformat_minor": 5
}
