{
 "cells": [
  {
   "cell_type": "markdown",
   "id": "6dda9f8c-cd43-4481-bdb2-9c3d5dd44bb2",
   "metadata": {},
   "source": [
    "#TOPIC: Python Basics Variable"
   ]
  },
  {
   "cell_type": "code",
   "execution_count": 6,
   "id": "ba06ea38-c347-4c74-9a64-1f608a65db41",
   "metadata": {},
   "outputs": [
    {
     "name": "stdout",
     "output_type": "stream",
     "text": [
      "x =  8\n",
      "y =  4\n"
     ]
    }
   ],
   "source": [
    "#1. Declare two variables, `x` and `y`, and assign them integer values. Swap the\n",
    "#values of these variables without using any temporary variable.\n",
    "x=4\n",
    "y=8\n",
    "x,y=y,x\n",
    "print('x = ',x)\n",
    "print('y = ',y)\n"
   ]
  },
  {
   "cell_type": "code",
   "execution_count": 8,
   "id": "6662d41f-e98a-44ec-a2eb-42badce2f8a4",
   "metadata": {},
   "outputs": [
    {
     "name": "stdin",
     "output_type": "stream",
     "text": [
      "Please enter the length of rectangle:  7\n",
      "Please enter the width of rectangle:  8\n"
     ]
    },
    {
     "name": "stdout",
     "output_type": "stream",
     "text": [
      "Area of rectangle is:  56\n"
     ]
    }
   ],
   "source": [
    "#2.Create a program that calculates the area of a rectangle. Take the length and\n",
    "#width as inputs from the user and store them in variables. Calculate and\n",
    "#display the area.\n",
    "length=int(input(\"Please enter the length of rectangle: \"))\n",
    "width=int(input(\"Please enter the width of rectangle: \"))\n",
    "area=length*width\n",
    "print(\"Area of rectangle is: \",area)"
   ]
  },
  {
   "cell_type": "code",
   "execution_count": 11,
   "id": "af1ba4ba-6c04-46c9-916d-baea0a1cbc4d",
   "metadata": {},
   "outputs": [
    {
     "name": "stdin",
     "output_type": "stream",
     "text": [
      "Enter the temperature in celsius:  45\n"
     ]
    },
    {
     "name": "stdout",
     "output_type": "stream",
     "text": [
      "Temperature in fahrenheit is:  113.0\n"
     ]
    }
   ],
   "source": [
    "#3. Write a Python program that converts temperatures from Celsius to\n",
    "#Fahrenheit. Take the temperature in Celsius as input, store it in a variable,\n",
    "#convert it to Fahrenheit, and display the result.\n",
    "\n",
    "celsius=int(input(\"Enter the temperature in celsius: \"))\n",
    "fahrenheit=(1.8*celsius) + 32\n",
    "print(\"Temperature in fahrenheit is: \",fahrenheit)"
   ]
  },
  {
   "cell_type": "markdown",
   "id": "b0d32347-eb7a-48a2-a7c7-bd841f805e92",
   "metadata": {},
   "source": [
    "TOPIC: String Based Questions"
   ]
  },
  {
   "cell_type": "code",
   "execution_count": 14,
   "id": "eb69b344-06b4-4f1f-9de4-40d0f64e6750",
   "metadata": {},
   "outputs": [
    {
     "name": "stdin",
     "output_type": "stream",
     "text": [
      "Enter any string:  Arjun\n"
     ]
    },
    {
     "name": "stdout",
     "output_type": "stream",
     "text": [
      "Length of the string is:  5\n"
     ]
    }
   ],
   "source": [
    "#1. Write a Python program that takes a string as input and prints the length of\n",
    "#the string.\n",
    "str=input(\"Enter any string: \")\n",
    "print(\"Length of the string is: \",len(str))"
   ]
  },
  {
   "cell_type": "code",
   "execution_count": 49,
   "id": "272bc1a1-627a-40b3-9022-a1657ce54d38",
   "metadata": {},
   "outputs": [
    {
     "name": "stdin",
     "output_type": "stream",
     "text": [
      "Enter any sentence:  good morning\n"
     ]
    },
    {
     "name": "stdout",
     "output_type": "stream",
     "text": [
      "Total vowel counts:  4\n"
     ]
    }
   ],
   "source": [
    "#2. Create a program that takes a sentence from the user and counts the number\n",
    "#of vowels (a, e, i, o, u) in the string.\n",
    "s=input(\"Enter any sentence: \")\n",
    "count=0\n",
    "a=s.count(\"a\")\n",
    "e=s.count(\"e\")\n",
    "i=s.count(\"i\")\n",
    "o=s.count(\"o\")\n",
    "u=s.count(\"u\")\n",
    "A=s.count(\"A\")\n",
    "E=s.count(\"E\")\n",
    "I=s.count(\"I\")\n",
    "O=s.count(\"O\")\n",
    "U=s.count(\"U\")\n",
    "\n",
    "count=a+e+i+o+u+A+E+I+O+U\n",
    "\n",
    "print(\"Total vowels counts: \",count)\n"
   ]
  },
  {
   "cell_type": "code",
   "execution_count": 48,
   "id": "0b0ab2b1-efcd-491b-8f1f-d001f0d961fb",
   "metadata": {},
   "outputs": [
    {
     "name": "stdin",
     "output_type": "stream",
     "text": [
      "Enter any sentence:  Good morning\n"
     ]
    },
    {
     "name": "stdout",
     "output_type": "stream",
     "text": [
      "4\n"
     ]
    }
   ],
   "source": [
    "#another way\n",
    "#2. Create a program that takes a sentence from the user and counts the number\n",
    "#of vowels (a, e, i, o, u) in the string.\n",
    "sentence=input(\"Enter any sentence: \")\n",
    "vowels=['a', 'e', 'i', 'o', 'u', 'A', 'E', 'I', 'O', 'U']\n",
    "count=0\n",
    "\n",
    "for i in sentence:\n",
    "    if i in vowels:\n",
    "        count+=1\n",
    "        \n",
    "print(\"Total vowels counts: \",count)\n",
    "     "
   ]
  },
  {
   "cell_type": "code",
   "execution_count": 25,
   "id": "d8beede1-656f-4bed-ade8-c376bfacbe4b",
   "metadata": {},
   "outputs": [
    {
     "name": "stdin",
     "output_type": "stream",
     "text": [
      "Enter the string:  Arjun\n"
     ]
    },
    {
     "name": "stdout",
     "output_type": "stream",
     "text": [
      "Reversed string:  nujrA\n"
     ]
    }
   ],
   "source": [
    "#3. Given a string, reverse the order of characters using string slicing and print\n",
    "#the reversed string.\n",
    "str = input(\"Enter the string: \")\n",
    "print(\"Reversed string: \",str[::-1])"
   ]
  },
  {
   "cell_type": "code",
   "execution_count": 36,
   "id": "5b9b81e7-a930-4caa-a66f-6ad2e5611684",
   "metadata": {},
   "outputs": [
    {
     "name": "stdin",
     "output_type": "stream",
     "text": [
      "Enter the string to check palindrome:  Soos\n"
     ]
    },
    {
     "name": "stdout",
     "output_type": "stream",
     "text": [
      "Given string is palindrome\n"
     ]
    }
   ],
   "source": [
    "#4. Write a program that takes a string as input and checks if it is a palindrome\n",
    "#(reads the same forwards and backwards).\n",
    "str = input(\"Enter the string to check palindrome: \")\n",
    "\n",
    "if str.lower()==str[::-1].lower():\n",
    "    print(\"Given string is palindrome\")\n",
    "else:\n",
    "    print(\"Given string is not palindrome\")"
   ]
  },
  {
   "cell_type": "code",
   "execution_count": 40,
   "id": "41ea5c6f-9d2c-457c-9432-9545b44cc0e1",
   "metadata": {},
   "outputs": [
    {
     "name": "stdin",
     "output_type": "stream",
     "text": [
      "Enter the string:  hjn jnkjnk jnkj\n"
     ]
    },
    {
     "name": "stdout",
     "output_type": "stream",
     "text": [
      "String after removing spaces:  hjnjnkjnkjnkj\n"
     ]
    }
   ],
   "source": [
    "#5. Create a program that takes a string as input and removes all the spaces from\n",
    "#it. Print the modified string without spaces.\n",
    "\n",
    "str=input(\"Enter the string: \")\n",
    "print(\"String after removing spaces: \",str.replace(\" \",\"\"))\n"
   ]
  },
  {
   "cell_type": "code",
   "execution_count": null,
   "id": "25f7feff-0bff-4f4b-b549-40ad32a7f0d5",
   "metadata": {},
   "outputs": [],
   "source": []
  }
 ],
 "metadata": {
  "kernelspec": {
   "display_name": "Python 3 (ipykernel)",
   "language": "python",
   "name": "python3"
  },
  "language_info": {
   "codemirror_mode": {
    "name": "ipython",
    "version": 3
   },
   "file_extension": ".py",
   "mimetype": "text/x-python",
   "name": "python",
   "nbconvert_exporter": "python",
   "pygments_lexer": "ipython3",
   "version": "3.10.8"
  }
 },
 "nbformat": 4,
 "nbformat_minor": 5
}
