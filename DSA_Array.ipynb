{
  "nbformat": 4,
  "nbformat_minor": 0,
  "metadata": {
    "colab": {
      "provenance": []
    },
    "kernelspec": {
      "name": "python3",
      "display_name": "Python 3"
    },
    "language_info": {
      "name": "python"
    }
  },
  "cells": [
    {
      "cell_type": "code",
      "execution_count": 14,
      "metadata": {
        "colab": {
          "base_uri": "https://localhost:8080/"
        },
        "id": "L2hU0y6I6r3X",
        "outputId": "3c4f1cf5-ee7f-46a6-f253-ac8317d2cfad"
      },
      "outputs": [
        {
          "output_type": "execute_result",
          "data": {
            "text/plain": [
              "True"
            ]
          },
          "metadata": {},
          "execution_count": 14
        }
      ],
      "source": [
        "#1. Given an array, check if it contains any duplicates or not.\n",
        "#arr = [1, 2, 4, 2, 5, 9]\n",
        "#Output = True\n",
        "def checkDuplicatesWithinK(arr,  n,  k):\n",
        "\n",
        "    # traversing the input array\n",
        "    for i in range(n):\n",
        "        j = i + 1\n",
        "        range_ = k\n",
        "\n",
        "        # searching in next k-1 elements if its duplicate\n",
        "        # is present or not\n",
        "        while (range_ > 0 and j < n):\n",
        "            if (arr[i] == arr[j]):\n",
        "                return True\n",
        "            j += 1\n",
        "            range_ -= 1\n",
        "\n",
        "    return False\n",
        "\n",
        "#code driver\n",
        "arr = arr = [1, 2, 4, 2, 5, 9]\n",
        "n = len(arr)\n",
        "checkDuplicatesWithinK(arr,  n,  6)"
      ]
    },
    {
      "cell_type": "code",
      "source": [
        "#2. Given an array and an integer k, rotate the array to the right by k steps.\n",
        "#arr = [1, 2, 3, 4, 5, 6, 7] k = 3\n",
        "#Output = [5, 6, 7, 1, 2, 3, 4]\n",
        "def RightRotate(a, n, k):\n",
        "\n",
        "    # If rotation is greater\n",
        "    # than size of array\n",
        "    k = k % n;\n",
        "\n",
        "    for i in range(0, n):\n",
        "\n",
        "        if(i < k):\n",
        "\n",
        "            # Printing rightmost\n",
        "            # kth elements\n",
        "            print(a[n + i - k], end = \" \");\n",
        "\n",
        "        else:\n",
        "\n",
        "            # Prints array after\n",
        "            # 'k' elements\n",
        "            print(a[i - k], end = \" \");\n",
        "\n",
        "    print(\"\\n\");\n",
        "\n",
        "# Driver code\n",
        "arr = [1, 2, 3, 4, 5, 6, 7]\n",
        "k = 3\n",
        "n=len(arr)\n",
        "\n",
        "RightRotate(arr, n, k);"
      ],
      "metadata": {
        "colab": {
          "base_uri": "https://localhost:8080/"
        },
        "id": "8kLMBWUS7gHe",
        "outputId": "66918758-011e-4546-87ae-6c290fd962ac"
      },
      "execution_count": 6,
      "outputs": [
        {
          "output_type": "stream",
          "name": "stdout",
          "text": [
            "5 6 7 1 2 3 4 \n",
            "\n"
          ]
        }
      ]
    },
    {
      "cell_type": "code",
      "source": [
        "#3. Reverse the given array in-place, means without using any extra data structure.\n",
        "#arr = [2, 4, 5, 7, 9, 12]\n",
        "#Output = [12, 9, 7, 5, 4, 2]\n",
        "def reverse(arr, n, k):\n",
        "    i = 0\n",
        "\n",
        "    while(i<n):\n",
        "\n",
        "        left = i\n",
        "\n",
        "        # To handle case when k is not\n",
        "        # multiple of n\n",
        "        right = min(i + k - 1, n - 1)\n",
        "\n",
        "        # Reverse the sub-array [left, right]\n",
        "        while (left < right):\n",
        "\n",
        "            arr[left], arr[right] = arr[right], arr[left]\n",
        "            left+= 1;\n",
        "            right-=1\n",
        "        i+= k\n",
        "\n",
        "# Driver code\n",
        "arr = [2, 4, 5, 7, 9, 12]\n",
        "\n",
        "k = 6\n",
        "n = len(arr)\n",
        "reverse(arr, n, k)\n",
        "\n",
        "for i in range(0, n):\n",
        "        print(arr[i], end =\" \")\n"
      ],
      "metadata": {
        "colab": {
          "base_uri": "https://localhost:8080/"
        },
        "id": "mvKL_oGC7gKL",
        "outputId": "a35c84e3-8389-4508-e1a6-155251a55d6f"
      },
      "execution_count": 9,
      "outputs": [
        {
          "output_type": "stream",
          "name": "stdout",
          "text": [
            "12 9 7 5 4 2 "
          ]
        }
      ]
    },
    {
      "cell_type": "code",
      "source": [
        "#4. Given an array of integers, find the maximum element in an array\n",
        "# arr = [10, 5, 20, 8, 15]\n",
        "# Output = 20\n",
        "def max_element(arr,n):\n",
        "\n",
        "  # Initialize maximum element\n",
        "  max =arr[0]\n",
        "  for i in range(1,n):\n",
        "    # Traverse array elements from second\n",
        "    # and compare every element with\n",
        "    # current max\n",
        "    if arr[i]>max:\n",
        "      max =arr[i]\n",
        "  return max\n",
        "\n",
        "#Driver code\n",
        "arr = [10, 5, 20, 8, 15]\n",
        "n =len(arr)\n",
        "max_element(arr,n)\n",
        "\n"
      ],
      "metadata": {
        "colab": {
          "base_uri": "https://localhost:8080/"
        },
        "id": "insWAAEF7gNG",
        "outputId": "17810ae8-e6f3-4734-d1ce-64aac4053e74"
      },
      "execution_count": 10,
      "outputs": [
        {
          "output_type": "execute_result",
          "data": {
            "text/plain": [
              "20"
            ]
          },
          "metadata": {},
          "execution_count": 10
        }
      ]
    },
    {
      "cell_type": "code",
      "source": [
        "#5. Given a sorted array, remove the duplicate element without using any extra data structure.\n",
        "#arr = [1, 1, 2, 2, 2, 3, 3, 4, 4, 4, 5, 5]\n",
        "#Output = [1, 2, 3, 4, 5]\n",
        "\n",
        "\n",
        "\n",
        "def remove_duplicates(arr):\n",
        "    n = len(arr)\n",
        "    if n <= 1:\n",
        "        return n\n",
        "\n",
        "    # Use a set to store unique elements\n",
        "    unique_elements = set(arr)\n",
        "\n",
        "    # Update the original array with unique elements\n",
        "    arr[:n] = unique_elements\n",
        "\n",
        "    # Return the count of unique elements\n",
        "    return len(unique_elements)\n",
        "\n",
        "# Driver code\n",
        "if __name__ == \"__main__\":\n",
        "    arr = [1, 2, 2, 3, 4, 4, 4, 5, 5]\n",
        "\n",
        "    # Remove duplicates and get the count of unique elements\n",
        "    n = remove_duplicates(arr)\n",
        "\n",
        "    # Print the modified array containing unique elements\n",
        "    for i in range(n):\n",
        "        print(arr[i], end=\" \")\n"
      ],
      "metadata": {
        "colab": {
          "base_uri": "https://localhost:8080/"
        },
        "id": "W_gYDdPS7gRJ",
        "outputId": "8b233ab1-a361-4c2c-c132-e5a793837f52"
      },
      "execution_count": 13,
      "outputs": [
        {
          "output_type": "stream",
          "name": "stdout",
          "text": [
            "1 2 3 4 5 "
          ]
        }
      ]
    },
    {
      "cell_type": "code",
      "source": [],
      "metadata": {
        "id": "RBRe0YTc7gVQ"
      },
      "execution_count": null,
      "outputs": []
    },
    {
      "cell_type": "code",
      "source": [],
      "metadata": {
        "id": "RjUqb6J57gYn"
      },
      "execution_count": null,
      "outputs": []
    },
    {
      "cell_type": "code",
      "source": [],
      "metadata": {
        "id": "KXDZNE6p7gcM"
      },
      "execution_count": null,
      "outputs": []
    }
  ]
}