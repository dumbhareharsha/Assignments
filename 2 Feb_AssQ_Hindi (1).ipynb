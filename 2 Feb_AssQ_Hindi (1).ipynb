{
 "cells": [
  {
   "cell_type": "raw",
   "id": "964693ba-9065-4304-89e8-cc7a73a9b52c",
   "metadata": {},
   "source": [
    "Q1. Explain with an example each when to use a for loop and a while loop.\n",
    "Use a for loop when you know the loop should execute n times. Use a while loop for reading a file into a variable. Use a while loop when asking for user input."
   ]
  },
  {
   "cell_type": "raw",
   "id": "28c99469-7708-4102-a15e-1b1c821525bb",
   "metadata": {},
   "source": [
    "Q2. Write a python program to print the sum and product of the first 10 natural numbers using for\n",
    "and while loop.\n"
   ]
  },
  {
   "cell_type": "code",
   "execution_count": 7,
   "id": "714d433c-15b7-4cca-933a-82f5ba4f9618",
   "metadata": {},
   "outputs": [
    {
     "name": "stdout",
     "output_type": "stream",
     "text": [
      "45\n",
      "362880\n"
     ]
    }
   ],
   "source": [
    "sum=0\n",
    "mul=1\n",
    "for i in range(1,10):\n",
    "    sum=sum+i\n",
    "    mul= mul*i\n",
    "    \n",
    "print(sum)\n",
    "print(mul)"
   ]
  },
  {
   "cell_type": "raw",
   "id": "397c8ffc-fa4e-48a3-865e-8c554dcd3b2e",
   "metadata": {},
   "source": [
    "Q3. Create a python program to compute the electricity bill for a household.\n",
    "\n",
    "The per-unit charges in rupees are as follows: For the first 100 units, the user will be charged Rs. 4.5 per\n",
    "unit, for the next 100 units, the user will be charged Rs. 6 per unit, and for the next 100 units, the user will\n",
    "be charged Rs. 10 per unit, After 300 units and above the user will be charged Rs. 20 per unit."
   ]
  },
  {
   "cell_type": "code",
   "execution_count": 15,
   "id": "1dc76fe9-0720-41bd-bba9-e2e133f752ec",
   "metadata": {},
   "outputs": [
    {
     "name": "stdin",
     "output_type": "stream",
     "text": [
      "Enter the unit 310\n"
     ]
    },
    {
     "name": "stdout",
     "output_type": "stream",
     "text": [
      "Your electric bill for 310 is 2250.0 Rs\n"
     ]
    }
   ],
   "source": [
    "unit=int(input(\"Enter the unit\"))\n",
    "bill=0\n",
    "\n",
    "if(unit<=100):\n",
    "    bill=unit*4.5\n",
    "elif(unit>100 and unit<=200):\n",
    "    bill=100*4.5 + (unit-100)*6\n",
    "elif(unit>200 and  unit<=300):\n",
    "    bill=100*4.5 +100*6 +(unit-200)*10\n",
    "elif(unit>300):\n",
    "    bill=100*4.5 +100*6 + 100*10 +(unit-300)*20\n",
    "print(\"Your electric bill for \" +str(unit) + \" is \"+str(bill)+ \" Rs\")\n",
    "\n"
   ]
  },
  {
   "cell_type": "raw",
   "id": "2ffa69a5-003c-4ff7-8bdd-6747d3facf68",
   "metadata": {},
   "source": [
    "Q4. Create a list of numbers from 1 to 100. Use for loop and while loop to calculate the cube of each\n",
    "number and if the cube of that number is divisible by 4 or 5 then append that number in a list and print\n",
    "that list."
   ]
  },
  {
   "cell_type": "code",
   "execution_count": 24,
   "id": "d4fb0f00-c9cb-452d-b2b1-095f89e7692a",
   "metadata": {},
   "outputs": [
    {
     "name": "stdout",
     "output_type": "stream",
     "text": [
      "[8, 64, 125, 216, 512, 1000, 1728, 2744, 3375, 4096, 5832, 8000, 10648, 13824, 15625, 17576, 21952, 27000, 32768, 39304, 42875, 46656, 54872, 64000, 74088, 85184, 91125, 97336, 110592, 125000, 140608, 157464, 166375, 175616, 195112, 216000, 238328, 262144, 274625, 287496, 314432, 343000, 373248, 405224, 421875, 438976, 474552, 512000, 551368, 592704, 614125, 636056, 681472, 729000, 778688, 830584, 857375, 884736, 941192]\n"
     ]
    }
   ],
   "source": [
    "l=[]\n",
    "for i in range(1,100):\n",
    "    cube=i*i*i\n",
    "    if(cube%4==0 or cube%5==0):\n",
    "        l.append(cube)\n",
    "print(l)"
   ]
  },
  {
   "cell_type": "code",
   "execution_count": 36,
   "id": "266bd9cf-b4a1-4869-9182-4016aee37773",
   "metadata": {},
   "outputs": [
    {
     "name": "stdout",
     "output_type": "stream",
     "text": [
      "12\n"
     ]
    }
   ],
   "source": [
    "#Q5. Write a program to filter count vowels in the below-given string.\n",
    "s = \"I want to become a data scientist\"\n",
    "count=0\n",
    "for i in s:\n",
    "    if(i in \"aeiouAEIOU\"):\n",
    "        count=count+1\n",
    "    else:\n",
    "        count=count+0\n",
    "print(count)"
   ]
  },
  {
   "cell_type": "code",
   "execution_count": null,
   "id": "c5176008-db4f-44e4-b522-15e83dd0a975",
   "metadata": {},
   "outputs": [],
   "source": []
  },
  {
   "cell_type": "code",
   "execution_count": null,
   "id": "5bc9e72e-dddf-46d3-9f58-75a1278c34ed",
   "metadata": {},
   "outputs": [],
   "source": []
  },
  {
   "cell_type": "code",
   "execution_count": null,
   "id": "8609c06f-cd16-4c8d-8daf-3d5cef4dcefb",
   "metadata": {},
   "outputs": [],
   "source": []
  },
  {
   "cell_type": "code",
   "execution_count": null,
   "id": "5308b9cc-fcfa-433d-a1b6-9f83631111b0",
   "metadata": {},
   "outputs": [],
   "source": []
  }
 ],
 "metadata": {
  "kernelspec": {
   "display_name": "Python 3 (ipykernel)",
   "language": "python",
   "name": "python3"
  },
  "language_info": {
   "codemirror_mode": {
    "name": "ipython",
    "version": 3
   },
   "file_extension": ".py",
   "mimetype": "text/x-python",
   "name": "python",
   "nbconvert_exporter": "python",
   "pygments_lexer": "ipython3",
   "version": "3.10.8"
  }
 },
 "nbformat": 4,
 "nbformat_minor": 5
}
